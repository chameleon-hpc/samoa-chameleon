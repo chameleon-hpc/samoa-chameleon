{
 "metadata": {
  "name": "",
  "signature": "sha256:6130025b6efad5feddcb9ceed89f5e62a414bcfe8b225f60121cef7c26c40a90"
 },
 "nbformat": 3,
 "nbformat_minor": 0,
 "worksheets": [
  {
   "cells": [
    {
     "cell_type": "heading",
     "level": 1,
     "metadata": {},
     "source": [
      "General Riemann solver for Two Phase Porous Media Flow"
     ]
    },
    {
     "cell_type": "markdown",
     "metadata": {},
     "source": [
      "The conservative form of the coupled system for two-phase porous media flow is given by:\n",
      "$$\n",
      "\\Phi S_t + div \\left( \\mathbf u_w \\right) = 0 \\\\\n",
      "-\\Phi S_t + div \\left( \\mathbf u_n \\right) = 0 \\\\\n",
      "\\Rightarrow div \\left( \\mathbf u_w + \\mathbf u_n \\right) = 0\n",
      "$$\n",
      "\n",
      "where:\n",
      "$$\n",
      "\\mathbf u_w := \\lambda_w(S) \\mathbf K (-\\nabla p + \\rho_w \\mathbf g) \\\\\n",
      "\\mathbf u_n := \\lambda_n(S) \\mathbf K (-\\nabla p + \\rho_n \\mathbf g)\n",
      "$$"
     ]
    },
    {
     "cell_type": "code",
     "collapsed": false,
     "input": [
      "%pylab inline\n",
      "from sympy import *\n",
      "from sympy.plotting import plot, plot_parametric, plot3d, plot3d_parametric_surface"
     ],
     "language": "python",
     "metadata": {},
     "outputs": [
      {
       "output_type": "stream",
       "stream": "stdout",
       "text": [
        "Populating the interactive namespace from numpy and matplotlib\n"
       ]
      }
     ],
     "prompt_number": 1
    },
    {
     "cell_type": "heading",
     "level": 2,
     "metadata": {},
     "source": [
      "Obtaining a quasilinear form from the conservative form\n"
     ]
    },
    {
     "cell_type": "markdown",
     "metadata": {},
     "source": [
      "First we replace the pressure in the definition for $\\mathbf u_w$ by the total flux $\\mathbf u_w + \\mathbf u_n$:\n",
      "$$\n",
      "\\mathbf u_w = \\lambda_w(S) \\mathbf K (-\\nabla p + \\rho_w \\mathbf g) \\\\\n",
      "$$ \n",
      "We extend the equation:\n",
      "$$\n",
      "\\mathbf u_w = \\frac{\\lambda_w(S)}{\\lambda_w(S) + \\lambda_n(S)} \\left( \\lambda_w(S) + \\lambda_n(S) \\right) \\mathbf K (-\\nabla p) + \\lambda_w(S) \\rho_w \\mathbf K \\mathbf g \\\\\n",
      "$$ \n",
      "Now we can use the total flux:\n",
      "$$\n",
      "\\mathbf u_w + \\mathbf u_n = \\left( \\lambda_w(S) + \\lambda_n(S) \\right) \\mathbf K (-\\nabla p) + \\left( \\lambda_w(S) \\rho_w + \\lambda_n(S) \\rho_n \\right) \\mathbf K \\mathbf g\n",
      "$$\n",
      "and substitute in the equation:\n",
      "$$\n",
      "\\mathbf u_w = \\frac{\\lambda_w(S)}{\\lambda_w(S) + \\lambda_n(S)} \\left( \\mathbf u_w + \\mathbf u_n - \\left( \\lambda_w(S) \\rho_w + \\lambda_n(S) \\rho_n \\right) \\mathbf K \\mathbf g \\right) + \n",
      "\\lambda_w(S) \\rho_w \\mathbf K \\mathbf g \\\\\n",
      "%\n",
      "\\Rightarrow \\mathbf u_w = \\frac{\\lambda_w(S)}{\\lambda_w(S) + \\lambda_n(S)} \\left( \\mathbf u_w + \\mathbf u_n \\right) - \n",
      "\\frac{\\lambda_w(S) \\left( \\lambda_w(S) \\rho_w + \\lambda_n(S) \\rho_n \\right)}{\\lambda_w(S) + \\lambda_n(S)} \\mathbf K \\mathbf g + \\frac{\\lambda_w(S) \\rho_w \\left(\\lambda_w(S) + \\lambda_n(S) \\right)}{\\lambda_w(S) + \\lambda_n(S)} \\mathbf K \\mathbf g \\\\\n",
      "%\n",
      "\\Rightarrow \\mathbf u_w = \\frac{\\lambda_w(S)}{\\lambda_w(S) + \\lambda_n(S)} \\left( \\mathbf u_w + \\mathbf u_n \\right) + \n",
      "\\frac{\\lambda_w(S) \\lambda_n(S)}{\\lambda_w(S) + \\lambda_n(S)} (\\rho_w - \\rho_n) \\mathbf K \\mathbf g \n",
      "$$\n",
      "We can insert this fractional flow in the transport equation and obtain:\n",
      "$$\n",
      "\\Phi S_t + div \\left( \\frac{\\lambda_w(S)}{\\lambda_w(S) + \\lambda_n(S)} \\left( \\mathbf u_w + \\mathbf u_n \\right) + \n",
      "\\frac{\\lambda_w(S) \\lambda_n(S)}{\\lambda_w(S) + \\lambda_n(S)} (\\rho_w - \\rho_n) \\mathbf K \\mathbf g \\right) = 0 \\\\\n",
      "%\n",
      "\\Rightarrow \\Phi S_t + \n",
      "\\frac{\\lambda^\\prime_w(S) \\lambda_n(S) - \\lambda_w(S) \\lambda^\\prime_n(S)}{\\left( \\lambda_w(S) + \\lambda_n(S) \\right)^2} \\left( \\mathbf u_w + \\mathbf u_n \\right) \\nabla S + \n",
      "\\frac{\\lambda^\\prime_w(S) \\lambda_n^2(S) + \\lambda^2_w(S) \\lambda^\\prime_n(S)}{\\left( \\lambda_w(S) + \\lambda_n(S) \\right)^2} (\\rho_w - \\rho_n) \\mathbf K \\mathbf g \\nabla S + \n",
      "\\frac{\\lambda_w(S) \\lambda_n(S)}{\\lambda_w(S) + \\lambda_n(S)} (\\rho_w - \\rho_n) div \\left( \\mathbf K \\mathbf g \\right) = 0 \n",
      "$$\n",
      "A quaslinear form is the result that we will use in order to compute characteristic wave speeds:\n",
      "$$\n",
      "\\Phi S_t + \n",
      "\\left( \\frac{\\lambda^\\prime_w(S) \\lambda_n(S) - \\lambda_w(S) \\lambda^\\prime_n(S)}{\\left( \\lambda_w(S) + \\lambda_n(S) \\right)^2} \\left( \\mathbf u_w + \\mathbf u_n \\right) + \n",
      "\\frac{\\lambda^\\prime_w(S) \\lambda_n^2(S) + \\lambda^2_w(S) \\lambda^\\prime_n(S)}{\\left( \\lambda_w(S) + \\lambda_n(S) \\right)^2} (\\rho_w - \\rho_n) \\mathbf K \\mathbf g \\right) \\nabla S + \n",
      "\\frac{\\lambda_w(S) \\lambda_n(S)}{\\lambda_w(S) + \\lambda_n(S)} (\\rho_w - \\rho_n) div \\left( \\mathbf K \\mathbf g \\right) = 0 \n",
      "$$"
     ]
    },
    {
     "cell_type": "code",
     "collapsed": false,
     "input": [
      "def compute_left_shock(eq, xi, S_l, S_r):\n",
      "    S = symbols('S',real=True, positive=True)\n",
      "   \n",
      "    print \" Solve for the left shock state:\", S_l, S_r\n",
      "    \n",
      "    dxi = (((eq - eq.subs({S:S_l})) / (S - S_l) - xi) / (S - S_l)).factor()\n",
      "    pprint(Eq(dxi, 0))\n",
      "    \n",
      "    try:\n",
      "        solutions = []\n",
      "    \n",
      "        #Try a numerical solution first\n",
      "        for S0 in [S_l + Rational(k,9) * (S_r - S_l) for k in xrange(10)]:\n",
      "            S_sol = nsolve(dxi, S, S0)\n",
      "            \n",
      "            solutions.append(S_sol)\n",
      "        \n",
      "        print \"  Numerical solution found:\"\n",
      "    except:\n",
      "        #If that failed, try a symbolic solution\n",
      "        solutions = solve(dxi.expand(), S, check=False)\n",
      "\n",
      "        print \"  Symbolic solution found:\"\n",
      "  \n",
      "    S_m = S_r\n",
      "\n",
      "    #The shocks create monotonic solutions\n",
      "    for S_sol in solutions:\n",
      "        if xi.subs({S:S_sol}) < xi.subs({S:S_l}) and ((S_l < S_r and S_l < S_sol and S_sol < S_m) or (S_l > S_r and S_l > S_sol and S_sol > S_m)):\n",
      "            S_m = S_sol\n",
      "    \n",
      "    if S_m == S_r:\n",
      "        xi_shock = (eq.subs({S:S_r}) - eq.subs({S:S_l})) / (S_r - S_l)\n",
      "        \n",
      "        if xi_shock < xi.subs({S:S_l}):\n",
      "            pprint(((S_l + S_r) / 2, xi_shock))\n",
      "            return (S_l + S_r) / 2, xi_shock\n",
      "        else:\n",
      "            pprint((S_l, xi.subs({S:S_l})))\n",
      "            return (S_l, xi.subs({S:S_l}))\n",
      "    \n",
      "    pprint((S_m, xi.subs({S: S_m})))\n",
      "    return S_m, xi.subs({S: S_m})\n",
      "\n",
      "def compute_right_shock(eq, xi, S_l, S_r):\n",
      "    S = symbols('S',real=True, positive=True)\n",
      "   \n",
      "    print \" Solve for the right shock state:\", S_l, S_r\n",
      "    \n",
      "    dxi = (((eq - eq.subs({S:S_r})) / (S - S_r) - xi) / (S - S_r)).factor()\n",
      "    pprint(Eq(dxi, 0))\n",
      "    \n",
      "    try:\n",
      "        solutions = []\n",
      "    \n",
      "        #Try a numerical solution first\n",
      "        for S0 in [S_r + Rational(k,9) * (S_l - S_r) for k in xrange(10)]:\n",
      "            S_sol = nsolve(dxi, S, S0)\n",
      "            \n",
      "            solutions.append(S_sol)\n",
      "\n",
      "        print \"  Numerical solution found:\"\n",
      "    except:\n",
      "        #If that failed, try a symbolic solution\n",
      "        solutions = solve(dxi.expand(), S, check=False)\n",
      "\n",
      "        print \"  Symbolic solution found:\"\n",
      "\n",
      "    S_m = S_l\n",
      "\n",
      "    #The shocks create monotonic solutions\n",
      "    for S_sol in solutions:\n",
      "        if xi.subs({S:S_sol}) > xi.subs({S:S_r}) and ((S_l < S_r and S_m < S_sol and S_sol < S_r) or (S_l > S_r and S_m > S_sol and S_sol > S_r)):\n",
      "            S_m = S_sol\n",
      "    \n",
      "    if S_m == S_l:\n",
      "        xi_shock = (eq.subs({S:S_r}) - eq.subs({S:S_l})) / (S_r - S_l)\n",
      "        \n",
      "        if xi_shock > xi.subs({S:S_r}):\n",
      "            pprint(((S_l + S_r) / 2, xi_shock))\n",
      "            return (S_l + S_r) / 2, xi_shock\n",
      "        else:\n",
      "            pprint((S_r, xi.subs({S:S_r})))\n",
      "            return (S_r, xi.subs({S:S_r}))\n",
      "    \n",
      "    pprint((S_m, xi.subs({S: S_m})))\n",
      "    return S_m, xi.subs({S: S_m})\n",
      "\n",
      "def Riemann(S_l, S_r, mu_w, mu_n, rho_w, rho_n, u_t, K, g, Phi):\n",
      "    S = symbols('S',real=True,positive=True)\n",
      "\n",
      "    lambda_w = S**2 / mu_w \n",
      "    lambda_n = (1-S)**2 / mu_n\n",
      "\n",
      "    eq = 1 / Phi * (lambda_w / (lambda_w + lambda_n) * u_t + (lambda_w * lambda_n) / (lambda_w + lambda_n) * (rho_w - rho_n) * K * g)\n",
      "    \n",
      "    eq = eq.factor()\n",
      "    xi = eq.diff(S)\n",
      "    \n",
      "    #find the two shocks\n",
      "    S_1, xi_1 = compute_left_shock(eq, xi, S_l, S_r)\n",
      "    S_2, xi_2 = compute_right_shock(eq, xi, S_l, S_r)\n",
      "\n",
      "    plot_solution(S_l, S_r, S_1, S_2, xi, xi_1, xi_2)\n",
      "    \n",
      "    return S_l, S_r, S_1, S_2, xi, xi_1, xi_2\n",
      "\n",
      "def plot_solution(S_l, S_r, S_1, S_2, xi, xi_1, xi_2):\n",
      "    S = symbols('S',real=True,positive=True)\n",
      "\n",
      "    try:\n",
      "        print \" Solution with and without shocks:\"\n",
      "        plot_parametric((xi, S, (S, S_l, S_r)), (xi_1, S, (S, S_l, S_1)), (xi, S, (S, S_1, S_2)), (xi_2, S, (S, S_2, S_r)))\n",
      "    except:\n",
      "        print \"  Plotting not possible!\"\n",
      "\n",
      "def write_solution(S_l, S_r, S_1, S_2, xi, xi_1, xi_2):\n",
      "    S = symbols('S',real=True,positive=True)\n",
      "    t = 0.0\n",
      "    dt = 1.0e4\n",
      "    \n",
      "    for i in xrange(25):\n",
      "        f = open(\"out.%i.csv\" % (i), \"w\")\n",
      "        \n",
      "        f.write(\"X, saturation\\n\")\n",
      "        \n",
      "        for S_test in numpy.linspace(S_l, S_r, 100):\n",
      "            if (S_l < S_r and S_test < S_1) or (S_l > S_r and S_test > S_1):\n",
      "                f.write(\"%e,%e\\n\" % (S_test, 0.5 + xi_1 * t))\n",
      "            elif (S_l < S_r and S_test < S_2) or (S_l > S_r and S_test > S_2):\n",
      "                f.write(\"%e,%e\\n\" % (S_test, 0.5 + xi.subs({S:S_test}) * t))\n",
      "            else:\n",
      "                f.write(\"%e,%e\\n\" % (S_test, 0.5 + xi_2 * t))\n",
      "        t += dt\n",
      "        \n",
      "        f.close()\n"
     ],
     "language": "python",
     "metadata": {},
     "outputs": [],
     "prompt_number": 2
    },
    {
     "cell_type": "code",
     "collapsed": false,
     "input": [
      "x,g = symbols('x,g',real=True)\n",
      "Phi,t,mu_w,mu_n,rho_w,rho_n = symbols('Phi,t,mu_w, mu_n,rho_w,rho_n',real=True,positive=True)\n",
      "S = Function('S',real=True,positive=True)(x)\n",
      "#K = Function('K',real=True,positive=True)(x)\n",
      "K = symbols('K',real=True,positive=True)\n",
      "S_r,S_l = symbols('Sr,Sl',real=True,positive=True)\n",
      "u_t = symbols('u_t',real=True)\n",
      "\n",
      "#mu_w = 0.3e-3; mu_n = 3.0e-3; rho_w = 312.0; rho_n = 258.64; K = 1.0e-8; g = -9.81; S_l = 1.0; S_r = 0.0; u_t = 1e-2\n",
      "print \"Test (mu_w:0.3e-3, mu_n:3.0e-3, u_t:10^(-2), K:1.0e-8, g:0.0, Phi: 1):\"\n",
      "Riemann(Rational(9, 10), Rational(1, 10), Rational(3, 1e4), Rational(3, 1e3), Rational(31200, 100), Rational(25864, 100), Rational(1, 1e2), Rational(1, 1e8), 0, 1)\n",
      "Riemann(Rational(1, 10), Rational(9, 10), Rational(3, 1e4), Rational(3, 1e3), Rational(31200, 100), Rational(25864, 100), Rational(1, 1e2), Rational(1, 1e8), 0, 1)\n",
      "Riemann(Rational(10, 10), Rational(0, 10), Rational(3, 1e4), Rational(3, 1e3), Rational(31200, 100), Rational(25864, 100), Rational(1, 1e2), Rational(1, 1e8), 0, 1)\n",
      "Riemann(Rational(0, 10), Rational(10, 10), Rational(3, 1e4), Rational(3, 1e3), Rational(31200, 100), Rational(25864, 100), Rational(1, 1e2), Rational(1, 1e8), 0, 1)\n",
      "print \"done.\"\n",
      "print \"\"\n",
      "print \"Test (mu_w:0.3e-3, mu_n:3.0e-3, u_t:0, K:5.0e-12, g:9.81, Phi: 0.2):\"\n",
      "Riemann(Rational(9, 10), Rational(1, 10), Rational(3, 1e4), Rational(3, 1e3), Rational(31200, 100), Rational(25864, 100), 0, Rational(5, 1e12), Rational(980665,1e5), Rational(1,5))\n",
      "Riemann(Rational(1, 10), Rational(9, 10), Rational(3, 1e4), Rational(3, 1e3), Rational(31200, 100), Rational(25864, 100), 0, Rational(5, 1e12), Rational(980665,1e5), Rational(1,5))\n",
      "sol = Riemann(Rational(10, 10), Rational(0, 10), Rational(3, 1e4), Rational(3, 1e3), Rational(31200, 100), Rational(25864, 100), 0, Rational(5, 1e12), Rational(980665,1e5), Rational(1,5))\n",
      "write_solution(*sol)\n",
      "Riemann(Rational(0, 10), Rational(10, 10), Rational(3, 1e4), Rational(3, 1e3), Rational(31200, 100), Rational(25864, 100), 0, Rational(5, 1e12), Rational(980665,1e5), Rational(1,5))\n",
      "print \"done.\"\n",
      "print \"\"\n",
      "print \"General formula:\"\n",
      "Riemann(S_l, S_r, mu_w, mu_n, rho_w, rho_n, u_t, K, 0, Phi)\n",
      "print \"done.\"\n",
      "print \"\""
     ],
     "language": "python",
     "metadata": {},
     "outputs": [
      {
       "output_type": "stream",
       "stream": "stdout",
       "text": [
        "Test (mu_w:0.3e-3, mu_n:3.0e-3, u_t:10^(-2), K:1.0e-8, g:0.0, Phi: 1):\n",
        " Solve for the left shock state: 9/10 1/10\n",
        "   \u239b    2           \u239e     \n",
        "-2\u22c5\u239d44\u22c5S  - 99\u22c5S + 5\u23a0     \n",
        "\u2500\u2500\u2500\u2500\u2500\u2500\u2500\u2500\u2500\u2500\u2500\u2500\u2500\u2500\u2500\u2500\u2500\u2500\u2500\u2500\u2500\u2500 = 0\n",
        "                     2    \n",
        "    \u239b    2          \u239e     \n",
        "811\u22c5\u239d11\u22c5S  - 2\u22c5S + 1\u23a0     \n",
        "  Numerical solution found:"
       ]
      },
      {
       "output_type": "stream",
       "stream": "stdout",
       "text": [
        "\n",
        "\u239b       180  \u239e\n",
        "\u239c9/10, \u2500\u2500\u2500\u2500\u2500\u2500\u239f\n",
        "\u239d      657721\u23a0\n",
        " Solve for the right shock state: 9/10 1/10\n",
        "   \u239b    2           \u239e    \n",
        " 2\u22c5\u239d44\u22c5S  + 11\u22c5S - 5\u23a0    \n",
        "\u2500\u2500\u2500\u2500\u2500\u2500\u2500\u2500\u2500\u2500\u2500\u2500\u2500\u2500\u2500\u2500\u2500\u2500\u2500\u2500\u2500 = 0\n",
        "                    2    \n",
        "   \u239b    2          \u239e     \n",
        "91\u22c5\u239d11\u22c5S  - 2\u22c5S + 1\u23a0     \n",
        "  Numerical solution found:"
       ]
      },
      {
       "output_type": "stream",
       "stream": "stdout",
       "text": [
        "\n",
        "(0.234529364080827, 0.0278233978236883)\n",
        " Solution with and without shocks:\n"
       ]
      },
      {
       "output_type": "stream",
       "stream": "stderr",
       "text": [
        "/usr/local/lib/python2.7/dist-packages/sympy/plotting/plot.py:1038: RuntimeWarning: invalid value encountered in double_scalars\n",
        "  cos_theta = dot_product / (vector_a_norm * vector_b_norm)\n"
       ]
      },
      {
       "metadata": {},
       "output_type": "display_data",
       "png": "[encoded data removed]",
       "text": [
        "<matplotlib.figure.Figure at 0x7fdba9b75590>"
       ]
      },
      {
       "output_type": "stream",
       "stream": "stdout",
       "text": [
        " Solve for the left shock state: 1/10 9/10\n",
        "   \u239b    2           \u239e    \n",
        " 2\u22c5\u239d44\u22c5S  + 11\u22c5S - 5\u23a0    \n",
        "\u2500\u2500\u2500\u2500\u2500\u2500\u2500\u2500\u2500\u2500\u2500\u2500\u2500\u2500\u2500\u2500\u2500\u2500\u2500\u2500\u2500 = 0\n",
        "                    2    \n",
        "   \u239b    2          \u239e     \n",
        "91\u22c5\u239d11\u22c5S  - 2\u22c5S + 1\u23a0     \n",
        "  Numerical solution found:\n",
        "\u239b      820 \u239e\n",
        "\u239c1/2, \u2500\u2500\u2500\u2500\u2500\u239f\n",
        "\u239d     73801\u23a0\n",
        " Solve for the right shock state: 1/10 9/10\n",
        "   \u239b    2           \u239e     \n",
        "-2\u22c5\u239d44\u22c5S  - 99\u22c5S + 5\u23a0     \n",
        "\u2500\u2500\u2500\u2500\u2500\u2500\u2500\u2500\u2500\u2500\u2500\u2500\u2500\u2500\u2500\u2500\u2500\u2500\u2500\u2500\u2500\u2500 = 0\n",
        "                     2    \n",
        "    \u239b    2          \u239e     \n",
        "811\u22c5\u239d11\u22c5S  - 2\u22c5S + 1\u23a0     \n",
        "  Numerical solution found:"
       ]
      },
      {
       "output_type": "stream",
       "stream": "stdout",
       "text": [
        "\n",
        "\u239b      820 \u239e\n",
        "\u239c1/2, \u2500\u2500\u2500\u2500\u2500\u239f\n",
        "\u239d     73801\u23a0\n",
        " Solution with and without shocks:\n"
       ]
      },
      {
       "metadata": {},
       "output_type": "display_data",
       "png": "[encoded data removed]",
       "text": [
        "<matplotlib.figure.Figure at 0x7fdba99a1910>"
       ]
      },
      {
       "output_type": "stream",
       "stream": "stdout",
       "text": [
        " Solve for the left shock state: 1 0\n",
        "  \u239b    2           \u239e      \n",
        " -\u239d11\u22c5S  - 22\u22c5S + 1\u23a0      \n",
        "\u2500\u2500\u2500\u2500\u2500\u2500\u2500\u2500\u2500\u2500\u2500\u2500\u2500\u2500\u2500\u2500\u2500\u2500\u2500\u2500\u2500\u2500 = 0\n",
        "                     2    \n",
        "    \u239b    2          \u239e     \n",
        "100\u22c5\u239d11\u22c5S  - 2\u22c5S + 1\u23a0     \n",
        "  Numerical solution found:"
       ]
      },
      {
       "output_type": "stream",
       "stream": "stdout",
       "text": [
        "\n",
        "(1, 0)\n",
        " Solve for the right shock state: 1 0\n",
        "          2              \n",
        "      11\u22c5S  - 1          \n",
        "\u2500\u2500\u2500\u2500\u2500\u2500\u2500\u2500\u2500\u2500\u2500\u2500\u2500\u2500\u2500\u2500\u2500\u2500\u2500\u2500\u2500 = 0\n",
        "                    2    \n",
        "   \u239b    2          \u239e     \n",
        "10\u22c5\u239d11\u22c5S  - 2\u22c5S + 1\u23a0     \n",
        "  Numerical solution found:\n",
        "(0.301511344577764, 0.021583123951777)"
       ]
      },
      {
       "output_type": "stream",
       "stream": "stdout",
       "text": [
        "\n",
        " Solution with and without shocks:\n"
       ]
      },
      {
       "metadata": {},
       "output_type": "display_data",
       "png": "[encoded data removed]",
       "text": [
        "<matplotlib.figure.Figure at 0x7fdba961f590>"
       ]
      },
      {
       "output_type": "stream",
       "stream": "stdout",
       "text": [
        " Solve for the left shock state: 0 1\n",
        "          2              \n",
        "      11\u22c5S  - 1          \n",
        "\u2500\u2500\u2500\u2500\u2500\u2500\u2500\u2500\u2500\u2500\u2500\u2500\u2500\u2500\u2500\u2500\u2500\u2500\u2500\u2500\u2500 = 0\n",
        "                    2    \n",
        "   \u239b    2          \u239e     \n",
        "10\u22c5\u239d11\u22c5S  - 2\u22c5S + 1\u23a0     \n",
        "  Numerical solution found:\n",
        "(0, 0)\n",
        " Solve for the right shock state: 0 1\n",
        "  \u239b    2           \u239e      \n",
        " -\u239d11\u22c5S  - 22\u22c5S + 1\u23a0      \n",
        "\u2500\u2500\u2500\u2500\u2500\u2500\u2500\u2500\u2500\u2500\u2500\u2500\u2500\u2500\u2500\u2500\u2500\u2500\u2500\u2500\u2500\u2500 = 0\n",
        "                     2    \n",
        "    \u239b    2          \u239e     \n",
        "100\u22c5\u239d11\u22c5S  - 2\u22c5S + 1\u23a0     \n",
        "  Numerical solution found:"
       ]
      },
      {
       "output_type": "stream",
       "stream": "stdout",
       "text": [
        "\n",
        "(0.0465374107544077, 0.0102440442408508)\n",
        " Solution with and without shocks:\n"
       ]
      },
      {
       "metadata": {},
       "output_type": "display_data",
       "png": "[encoded data removed]",
       "text": [
        "<matplotlib.figure.Figure at 0x7fdba99a75d0>"
       ]
      },
      {
       "output_type": "stream",
       "stream": "stdout",
       "text": [
        "done.\n",
        "\n",
        "Test (mu_w:0.3e-3, mu_n:3.0e-3, u_t:0, K:5.0e-12, g:9.81, Phi: 0.2):\n",
        " Solve for the left shock state: 9/10 1/10\n",
        "           \u239b      4         3         2             \u239e     \n",
        "-130820711\u22c5\u239d8921\u22c5S  - 3244\u22c5S  + 4226\u22c5S  - 1804\u22c5S + 1\u23a0     \n",
        "\u2500\u2500\u2500\u2500\u2500\u2500\u2500\u2500\u2500\u2500\u2500\u2500\u2500\u2500\u2500\u2500\u2500\u2500\u2500\u2500\u2500\u2500\u2500\u2500\u2500\u2500\u2500\u2500\u2500\u2500\u2500\u2500\u2500\u2500\u2500\u2500\u2500\u2500\u2500\u2500\u2500\u2500\u2500\u2500\u2500\u2500\u2500\u2500\u2500\u2500\u2500\u2500\u2500\u2500 = 0\n",
        "                                           2              \n",
        "                          \u239b    2          \u239e               \n",
        "         2433000000000000\u22c5\u239d11\u22c5S  - 2\u22c5S + 1\u23a0               \n",
        "  Numerical solution found:"
       ]
      },
      {
       "output_type": "stream",
       "stream": "stdout",
       "text": [
        "\n",
        "(0.409896523232923, -2.47753460215883e-6)\n",
        " Solve for the right shock state: 9/10 1/10\n",
        "          \u239b      4        3       2             \u239e     \n",
        "-18688673\u22c5\u239d1001\u22c5S  - 364\u22c5S  - 94\u22c5S  - 524\u22c5S + 81\u23a0     \n",
        "\u2500\u2500\u2500\u2500\u2500\u2500\u2500\u2500\u2500\u2500\u2500\u2500\u2500\u2500\u2500\u2500\u2500\u2500\u2500\u2500\u2500\u2500\u2500\u2500\u2500\u2500\u2500\u2500\u2500\u2500\u2500\u2500\u2500\u2500\u2500\u2500\u2500\u2500\u2500\u2500\u2500\u2500\u2500\u2500\u2500\u2500\u2500\u2500\u2500\u2500 = 0\n",
        "                                        2             \n",
        "                       \u239b    2          \u239e              \n",
        "        39000000000000\u22c5\u239d11\u22c5S  - 2\u22c5S + 1\u23a0              \n",
        "  Numerical solution found:"
       ]
      },
      {
       "output_type": "stream",
       "stream": "stdout",
       "text": [
        "\n",
        "(0.149224478306272, 7.20036922876189e-6)\n",
        " Solution with and without shocks:\n"
       ]
      },
      {
       "metadata": {},
       "output_type": "display_data",
       "png": "[encoded data removed]",
       "text": [
        "<matplotlib.figure.Figure at 0x7fdba95be7d0>"
       ]
      },
      {
       "output_type": "stream",
       "stream": "stdout",
       "text": [
        " Solve for the left shock state: 1/10 9/10\n",
        "          \u239b      4        3       2             \u239e     \n",
        "-18688673\u22c5\u239d1001\u22c5S  - 364\u22c5S  - 94\u22c5S  - 524\u22c5S + 81\u23a0     \n",
        "\u2500\u2500\u2500\u2500\u2500\u2500\u2500\u2500\u2500\u2500\u2500\u2500\u2500\u2500\u2500\u2500\u2500\u2500\u2500\u2500\u2500\u2500\u2500\u2500\u2500\u2500\u2500\u2500\u2500\u2500\u2500\u2500\u2500\u2500\u2500\u2500\u2500\u2500\u2500\u2500\u2500\u2500\u2500\u2500\u2500\u2500\u2500\u2500\u2500\u2500 = 0\n",
        "                                        2             \n",
        "                       \u239b    2          \u239e              \n",
        "        39000000000000\u22c5\u239d11\u22c5S  - 2\u22c5S + 1\u23a0              \n",
        "  Numerical solution found:"
       ]
      },
      {
       "output_type": "stream",
       "stream": "stdout",
       "text": [
        "\n",
        "\u239b        -4541347539   \u239e\n",
        "\u239c1/2, \u2500\u2500\u2500\u2500\u2500\u2500\u2500\u2500\u2500\u2500\u2500\u2500\u2500\u2500\u2500\u2500\u2500\u239f\n",
        "\u239d     10543000000000000\u23a0\n",
        " Solve for the right shock state: 1/10 9/10\n",
        "           \u239b      4         3         2             \u239e     \n",
        "-130820711\u22c5\u239d8921\u22c5S  - 3244\u22c5S  + 4226\u22c5S  - 1804\u22c5S + 1\u23a0     \n",
        "\u2500\u2500\u2500\u2500\u2500\u2500\u2500\u2500\u2500\u2500\u2500\u2500\u2500\u2500\u2500\u2500\u2500\u2500\u2500\u2500\u2500\u2500\u2500\u2500\u2500\u2500\u2500\u2500\u2500\u2500\u2500\u2500\u2500\u2500\u2500\u2500\u2500\u2500\u2500\u2500\u2500\u2500\u2500\u2500\u2500\u2500\u2500\u2500\u2500\u2500\u2500\u2500\u2500\u2500 = 0\n",
        "                                           2              \n",
        "                          \u239b    2          \u239e               \n",
        "         2433000000000000\u22c5\u239d11\u22c5S  - 2\u22c5S + 1\u23a0               \n",
        "  Numerical solution found:"
       ]
      },
      {
       "output_type": "stream",
       "stream": "stdout",
       "text": [
        "\n",
        "\u239b        -4541347539   \u239e\n",
        "\u239c1/2, \u2500\u2500\u2500\u2500\u2500\u2500\u2500\u2500\u2500\u2500\u2500\u2500\u2500\u2500\u2500\u2500\u2500\u239f\n",
        "\u239d     10543000000000000\u23a0\n",
        " Solution with and without shocks:\n"
       ]
      },
      {
       "metadata": {},
       "output_type": "display_data",
       "png": "[encoded data removed]",
       "text": [
        "<matplotlib.figure.Figure at 0x7fdba962b050>"
       ]
      },
      {
       "output_type": "stream",
       "stream": "stdout",
       "text": [
        " Solve for the left shock state: 1 0\n",
        "             \u239b    3      2          \u239e     \n",
        "-130820711\u22c5S\u22c5\u239d11\u22c5S  - 4\u22c5S  + 5\u22c5S - 2\u23a0     \n",
        "\u2500\u2500\u2500\u2500\u2500\u2500\u2500\u2500\u2500\u2500\u2500\u2500\u2500\u2500\u2500\u2500\u2500\u2500\u2500\u2500\u2500\u2500\u2500\u2500\u2500\u2500\u2500\u2500\u2500\u2500\u2500\u2500\u2500\u2500\u2500\u2500\u2500\u2500 = 0\n",
        "                                  2       \n",
        "                 \u239b    2          \u239e        \n",
        "   3000000000000\u22c5\u239d11\u22c5S  - 2\u22c5S + 1\u23a0        \n",
        "  Numerical solution found:"
       ]
      },
      {
       "output_type": "stream",
       "stream": "stdout",
       "text": [
        "\n",
        "(0.390852918486859, -2.13719015278085e-6)\n",
        " Solve for the right shock state: 1 0\n",
        "                   \u239b    3      2          \u239e     \n",
        "-130820711\u22c5(S - 1)\u22c5\u239d11\u22c5S  + 7\u22c5S  + 3\u22c5S - 1\u23a0     \n",
        "\u2500\u2500\u2500\u2500\u2500\u2500\u2500\u2500\u2500\u2500\u2500\u2500\u2500\u2500\u2500\u2500\u2500\u2500\u2500\u2500\u2500\u2500\u2500\u2500\u2500\u2500\u2500\u2500\u2500\u2500\u2500\u2500\u2500\u2500\u2500\u2500\u2500\u2500\u2500\u2500\u2500\u2500\u2500\u2500 = 0\n",
        "                                     2          \n",
        "                    \u239b    2          \u239e           \n",
        "      3000000000000\u22c5\u239d11\u22c5S  - 2\u22c5S + 1\u23a0           \n",
        "  Numerical solution found:"
       ]
      },
      {
       "output_type": "stream",
       "stream": "stdout",
       "text": [
        "\n",
        "(0.204456312904555, 5.36928963402376e-6)\n",
        " Solution with and without shocks:\n"
       ]
      },
      {
       "metadata": {},
       "output_type": "display_data",
       "png": "[encoded data removed]",
       "text": [
        "<matplotlib.figure.Figure at 0x7fdba9288490>"
       ]
      },
      {
       "output_type": "stream",
       "stream": "stdout",
       "text": [
        " Solve for the left shock state: 0 1\n",
        "                   \u239b    3      2          \u239e     \n",
        "-130820711\u22c5(S - 1)\u22c5\u239d11\u22c5S  + 7\u22c5S  + 3\u22c5S - 1\u23a0     \n",
        "\u2500\u2500\u2500\u2500\u2500\u2500\u2500\u2500\u2500\u2500\u2500\u2500\u2500\u2500\u2500\u2500\u2500\u2500\u2500\u2500\u2500\u2500\u2500\u2500\u2500\u2500\u2500\u2500\u2500\u2500\u2500\u2500\u2500\u2500\u2500\u2500\u2500\u2500\u2500\u2500\u2500\u2500\u2500\u2500 = 0\n",
        "                                     2          \n",
        "                    \u239b    2          \u239e           \n",
        "      3000000000000\u22c5\u239d11\u22c5S  - 2\u22c5S + 1\u23a0           \n",
        "  Numerical solution found:\n",
        "(0, 0)\n",
        " Solve for the right shock state: 0 1\n",
        "             \u239b    3      2          \u239e     \n",
        "-130820711\u22c5S\u22c5\u239d11\u22c5S  - 4\u22c5S  + 5\u22c5S - 2\u23a0     \n",
        "\u2500\u2500\u2500\u2500\u2500\u2500\u2500\u2500\u2500\u2500\u2500\u2500\u2500\u2500\u2500\u2500\u2500\u2500\u2500\u2500\u2500\u2500\u2500\u2500\u2500\u2500\u2500\u2500\u2500\u2500\u2500\u2500\u2500\u2500\u2500\u2500\u2500\u2500 = 0\n",
        "                                  2       \n",
        "                 \u239b    2          \u239e        \n",
        "   3000000000000\u22c5\u239d11\u22c5S  - 2\u22c5S + 1\u23a0        "
       ]
      },
      {
       "output_type": "stream",
       "stream": "stdout",
       "text": [
        "\n",
        "  Numerical solution found:\n",
        "(1, 0)\n",
        " Solution with and without shocks:\n"
       ]
      },
      {
       "metadata": {},
       "output_type": "display_data",
       "png": "[encoded data removed]",
       "text": [
        "<matplotlib.figure.Figure at 0x7fdba97b8690>"
       ]
      },
      {
       "output_type": "stream",
       "stream": "stdout",
       "text": [
        "done.\n",
        "\n",
        "General formula:\n",
        " Solve for the left shock state: Sl Sr\n",
        "               \u239b   2              2            2         2                    \n",
        "-mu_n\u22c5mu_w\u22c5u_t\u22c5\u239d2\u22c5S \u22c5Sl\u22c5mu_n + 2\u22c5S \u22c5Sl\u22c5mu_w - S \u22c5mu_n - S \u22c5mu_w - 2\u22c5S\u22c5Sl\u22c5mu_n \n",
        "\u2500\u2500\u2500\u2500\u2500\u2500\u2500\u2500\u2500\u2500\u2500\u2500\u2500\u2500\u2500\u2500\u2500\u2500\u2500\u2500\u2500\u2500\u2500\u2500\u2500\u2500\u2500\u2500\u2500\u2500\u2500\u2500\u2500\u2500\u2500\u2500\u2500\u2500\u2500\u2500\u2500\u2500\u2500\u2500\u2500\u2500\u2500\u2500\u2500\u2500\u2500\u2500\u2500\u2500\u2500\u2500\u2500\u2500\u2500\u2500\u2500\u2500\u2500\u2500\u2500\u2500\u2500\u2500\u2500\u2500\u2500\u2500\u2500\u2500\u2500\u2500\u2500\u2500\n",
        "                                                2                             \n",
        "           \u239b 2         2                       \u239e  \u239b  2          2             \n",
        "         \u03a6\u22c5\u239dS \u22c5mu_n + S \u22c5mu_w - 2\u22c5S\u22c5mu_w + mu_w\u23a0 \u22c5\u239dSl \u22c5mu_n + Sl \u22c5mu_w - 2\u22c5Sl\u22c5\n",
        "\n",
        "                    \u239e     \n",
        "- 2\u22c5S\u22c5Sl\u22c5mu_w + mu_w\u23a0     \n",
        "\u2500\u2500\u2500\u2500\u2500\u2500\u2500\u2500\u2500\u2500\u2500\u2500\u2500\u2500\u2500\u2500\u2500\u2500\u2500\u2500\u2500\u2500 = 0\n",
        "                          \n",
        "           \u239e              \n",
        "mu_w + mu_w\u23a0              "
       ]
      },
      {
       "output_type": "stream",
       "stream": "stdout",
       "text": [
        "\n",
        "  Symbolic solution found:"
       ]
      },
      {
       "output_type": "stream",
       "stream": "stdout",
       "text": [
        "\n",
        "\u239b                            2                                            2   \n",
        "\u239c                          Sl \u22c5mu_n\u22c5u_t                                 Sr \u22c5mu\n",
        "\u239c         - \u2500\u2500\u2500\u2500\u2500\u2500\u2500\u2500\u2500\u2500\u2500\u2500\u2500\u2500\u2500\u2500\u2500\u2500\u2500\u2500\u2500\u2500\u2500\u2500\u2500\u2500\u2500\u2500\u2500\u2500\u2500\u2500\u2500\u2500\u2500\u2500\u2500\u2500\u2500\u2500\u2500\u2500 + \u2500\u2500\u2500\u2500\u2500\u2500\u2500\u2500\u2500\u2500\u2500\u2500\u2500\u2500\u2500\u2500\u2500\u2500\u2500\u2500\u2500\n",
        "\u239c             \u239b  2          2                        \u239e     \u239b  2          2    \n",
        "\u239cSl   Sr    \u03a6\u22c5\u239dSl \u22c5mu_n + Sl \u22c5mu_w - 2\u22c5Sl\u22c5mu_w + mu_w\u23a0   \u03a6\u22c5\u239dSr \u22c5mu_n + Sr \u22c5mu_\n",
        "\u239c\u2500\u2500 + \u2500\u2500, \u2500\u2500\u2500\u2500\u2500\u2500\u2500\u2500\u2500\u2500\u2500\u2500\u2500\u2500\u2500\u2500\u2500\u2500\u2500\u2500\u2500\u2500\u2500\u2500\u2500\u2500\u2500\u2500\u2500\u2500\u2500\u2500\u2500\u2500\u2500\u2500\u2500\u2500\u2500\u2500\u2500\u2500\u2500\u2500\u2500\u2500\u2500\u2500\u2500\u2500\u2500\u2500\u2500\u2500\u2500\u2500\u2500\u2500\u2500\u2500\u2500\u2500\u2500\u2500\u2500\u2500\u2500\u2500\n",
        "\u239d2    2                                            -Sl + Sr                   \n",
        "\n",
        "                     \u239e\n",
        "_n\u22c5u_t               \u239f\n",
        "\u2500\u2500\u2500\u2500\u2500\u2500\u2500\u2500\u2500\u2500\u2500\u2500\u2500\u2500\u2500\u2500\u2500\u2500\u2500\u2500\u2500\u239f\n",
        "                    \u239e\u239f\n",
        "w - 2\u22c5Sr\u22c5mu_w + mu_w\u23a0\u239f\n",
        "\u2500\u2500\u2500\u2500\u2500\u2500\u2500\u2500\u2500\u2500\u2500\u2500\u2500\u2500\u2500\u2500\u2500\u2500\u2500\u2500\u2500\u239f\n",
        "                     \u23a0\n",
        " Solve for the right shock state: Sl Sr\n",
        "               \u239b   2              2            2         2                    \n",
        "-mu_n\u22c5mu_w\u22c5u_t\u22c5\u239d2\u22c5S \u22c5Sr\u22c5mu_n + 2\u22c5S \u22c5Sr\u22c5mu_w - S \u22c5mu_n - S \u22c5mu_w - 2\u22c5S\u22c5Sr\u22c5mu_n \n",
        "\u2500\u2500\u2500\u2500\u2500\u2500\u2500\u2500\u2500\u2500\u2500\u2500\u2500\u2500\u2500\u2500\u2500\u2500\u2500\u2500\u2500\u2500\u2500\u2500\u2500\u2500\u2500\u2500\u2500\u2500\u2500\u2500\u2500\u2500\u2500\u2500\u2500\u2500\u2500\u2500\u2500\u2500\u2500\u2500\u2500\u2500\u2500\u2500\u2500\u2500\u2500\u2500\u2500\u2500\u2500\u2500\u2500\u2500\u2500\u2500\u2500\u2500\u2500\u2500\u2500\u2500\u2500\u2500\u2500\u2500\u2500\u2500\u2500\u2500\u2500\u2500\u2500\u2500\n",
        "                                                2                             \n",
        "           \u239b 2         2                       \u239e  \u239b  2          2             \n",
        "         \u03a6\u22c5\u239dS \u22c5mu_n + S \u22c5mu_w - 2\u22c5S\u22c5mu_w + mu_w\u23a0 \u22c5\u239dSr \u22c5mu_n + Sr \u22c5mu_w - 2\u22c5Sr\u22c5\n",
        "\n",
        "                    \u239e     \n",
        "- 2\u22c5S\u22c5Sr\u22c5mu_w + mu_w\u23a0     \n",
        "\u2500\u2500\u2500\u2500\u2500\u2500\u2500\u2500\u2500\u2500\u2500\u2500\u2500\u2500\u2500\u2500\u2500\u2500\u2500\u2500\u2500\u2500 = 0\n",
        "                          \n",
        "           \u239e              \n",
        "mu_w + mu_w\u23a0              "
       ]
      },
      {
       "output_type": "stream",
       "stream": "stdout",
       "text": [
        "\n",
        "  Symbolic solution found:"
       ]
      },
      {
       "output_type": "stream",
       "stream": "stdout",
       "text": [
        "\n",
        "\u239b      2                                                                      \n",
        "\u239c    Sr \u22c5mu_n\u22c5u_t\u22c5(-2\u22c5Sr\u22c5mu_n - 2\u22c5Sr\u22c5mu_w + 2\u22c5mu_w)                 2\u22c5Sr\u22c5mu_n\u22c5\n",
        "\u239cSr, \u2500\u2500\u2500\u2500\u2500\u2500\u2500\u2500\u2500\u2500\u2500\u2500\u2500\u2500\u2500\u2500\u2500\u2500\u2500\u2500\u2500\u2500\u2500\u2500\u2500\u2500\u2500\u2500\u2500\u2500\u2500\u2500\u2500\u2500\u2500\u2500\u2500\u2500\u2500\u2500\u2500\u2500\u2500\u2500\u2500\u2500 + \u2500\u2500\u2500\u2500\u2500\u2500\u2500\u2500\u2500\u2500\u2500\u2500\u2500\u2500\u2500\u2500\u2500\u2500\u2500\u2500\u2500\u2500\u2500\u2500\n",
        "\u239c                                               2       \u239b  2          2       \n",
        "\u239c       \u239b  2          2                        \u239e      \u03a6\u22c5\u239dSr \u22c5mu_n + Sr \u22c5mu_w -\n",
        "\u239d     \u03a6\u22c5\u239dSr \u22c5mu_n + Sr \u22c5mu_w - 2\u22c5Sr\u22c5mu_w + mu_w\u23a0                              \n",
        "\n",
        "                  \u239e\n",
        "u_t               \u239f\n",
        "\u2500\u2500\u2500\u2500\u2500\u2500\u2500\u2500\u2500\u2500\u2500\u2500\u2500\u2500\u2500\u2500\u2500\u2500\u239f\n",
        "                 \u239e\u239f\n",
        " 2\u22c5Sr\u22c5mu_w + mu_w\u23a0\u239f\n",
        "                  \u23a0\n",
        " Solution with and without shocks:\n",
        "  Plotting not possible!\n",
        "done.\n",
        "\n"
       ]
      }
     ],
     "prompt_number": 3
    },
    {
     "cell_type": "heading",
     "level": 2,
     "metadata": {},
     "source": [
      "Exact solution of the 1D pressure equation"
     ]
    },
    {
     "cell_type": "markdown",
     "metadata": {},
     "source": [
      "The pressure equation is given by:\n",
      "\n",
      "$$\n",
      "div \\left( \\mathbf u_w + \\mathbf u_n \\right) = q_w + q_n\n",
      "$$\n",
      "\n",
      "where $q_w$, $q_n$ are source terms and the fluxes $\\mathbf u_w, \\mathbf u_w$ are defined by:\n",
      "$$\n",
      "\\mathbf u_w := \\lambda_w(S) \\mathbf K (-\\nabla p) \\\\\n",
      "\\mathbf u_n := \\lambda_n(S) \\mathbf K (-\\nabla p)\n",
      "$$\n",
      "Here we consider only a simplified system without capillary pressure or gravity.\n",
      "\n",
      "We assume now a 1D domain $[a, b]$ and the following boundary conditions:\n",
      "$$\n",
      "p = p_0 \\text{ on } x = a\\\\\n",
      "\\mathbf u_w + \\mathbf u_n = \\mathbf u_b \\text{ on } x = b\n",
      "$$\n",
      "\n",
      "This system has the unique solution:\n",
      "$$\n",
      "p(x) = p_0 - \\int_{a}^{x} \\mathbf K^{-1}(y) \\frac{1}{\\lambda_w(S(y)) + \\lambda_n(S(y))} \\left(\\mathbf u_b - \\int_{y}^{b} (q_w + q_n)(z) \\, dz \\right) \\, dy\\\\\n",
      "$$\n",
      "which can be derived by integration of $\\mathbf u_w + \\mathbf u_n$ and using the boundary conditions to  solve for the unknown constants.\n",
      "\n",
      "The fluxes can be computed using the formulas for $\\mathbf u_w$ and $\\mathbf u_n$:\n",
      "$$\n",
      "\\mathbf u_w(x) = \\lambda_w(S(x)) \\mathbf K(x) \\left( -\\nabla p \\right) = \\\\\n",
      "\\lambda_w(S(x)) \\mathbf K(x) \\left( \\nabla \\int_{0}^{x} \\mathbf K^{-1}(y) \\frac{1}{\\lambda_w(S(y)) + \\lambda_n(S(y))} \\left( \\mathbf u_b - \\int_{y}^{b} (q_w + q_n)(z) \\, dz \\right) \\, dy \\right) = \\\\\n",
      "\\lambda_w(S(x)) \\mathbf K(x) \\mathbf K^{-1}(x) \\frac{1}{\\lambda_w(S(x)) + \\lambda_n(S(x))} \\left(\\mathbf u_b - \\int_{x}^{b} (q_w + q_n)(z) \\, dz \\right)\\\\\n",
      "\\Rightarrow \\mathbf u_w(x) = \\frac{\\lambda_w(S(x))}{\\lambda_w(S(x)) + \\lambda_n(S(x))} \\left(\\mathbf u_b - \\int_{x}^{b} (q_w + q_n)(z) \\, dz \\right) \\\\\n",
      "\\mathbf u_n(x) = \\frac{\\lambda_n(S(x))}{\\lambda_w(S(x)) + \\lambda_n(S(x))} \\left(\\mathbf u_b - \\int_{x}^{b} (q_w + q_n)(z) \\, dz \\right) \\\\\n",
      "$$\n",
      "\n",
      "Formally, we claim that $p$ is a strong solution to the boundary value problem.\n",
      "Proof:\n",
      "\n",
      "With substitution of $\\mathbf u_w$ and $\\mathbf u_n$ we obtain:\n",
      "$$\n",
      "div \\left( \\mathbf u_w + \\mathbf u_n \\right) = \\\\\n",
      "div \\left( \\mathbf u_b - \\int_{x}^{b} (q_w + q_n)(z) \\, dz \\right) = q_w + q_n\n",
      "$$\n",
      "\n",
      "For the boundary conditions we get:\n",
      "$$\n",
      "p(a) = p_0 - \\int_{a}^{a} \\mathbf K^{-1}(y) \\frac{1}{\\lambda_w(S(y)) + \\lambda_n(S(y))} \\left(\\mathbf u_b - \\int_{y}^{b} (q_w + q_n)(z) \\, dz \\right) \\, dy = p_0\\\\\n",
      "\\left( \\mathbf u_w + \\mathbf u_n \\right) (b) = \\mathbf u_b - \\int_{b}^{b} (q_w + q_n)(z) \\, dz = \\mathbf u_b\n",
      "$$"
     ]
    },
    {
     "cell_type": "code",
     "collapsed": false,
     "input": [
      "def get_solution(a, b, K, Q, mu_w, mu_n, S, p_0):\n",
      "    x,y,z = symbols('x,y,z',real=True)\n",
      "\n",
      "    lambda_w = S**2 / mu_w \n",
      "    lambda_n = (1-S)**2 / mu_n\n",
      "\n",
      "    #p_sol = p_0 - Integral(Integral(sympify(q).subs({x:z}), (z,y,b)) / sympify(K * (lambda_w + lambda_n)).subs({x:y}), (y,a,x)).doit()\n",
      "    p_sol = p_0 - Integral((sympify(Q) / (K * (lambda_w + lambda_n))).subs({x:y}), (y,a,x)).doit()\n",
      "\n",
      "    u_sol = -(lambda_w + lambda_n) * (K * p_sol.diff(x)).doit()\n",
      "    \n",
      "    return p_sol, u_sol\n",
      "\n",
      "S,p_0,mu_w,mu_n = symbols('S,p_0,mu_w, mu_n',real=True,positive=True)\n",
      "x,y,a,b = symbols('x,y,a,b',real=True)\n",
      "Q = Function('Q',real=True,positive=True)(x)\n",
      "K = Function('K',real=True,positive=True)(x)\n",
      "\n",
      "p_sol, u_sol = get_solution(a, b, K, Q, mu_w, mu_n, S, p_0)\n",
      "\n",
      "print \"pressure solution:\"\n",
      "pprint(p_sol)\n",
      "\n",
      "print \"flux:\"\n",
      "pprint(u_sol.simplify())\n",
      "print \"\"\n",
      "\n",
      "#inflow [m/s] = total volume/s divided by area of inflow\n",
      "#width = 2.0 * 183.0 m\n",
      "#height = 50.81 m\n",
      "#length = 335.0 m\n",
      "#The area of inflow is then width * height\n",
      "#The total volume/s is divided by two because it emerges in two directions \n",
      "#So in total we have inflow = 0.009200654 m^3/s / 2.0 / (2.0 * 183.0 m * 50.81 m)\n",
      "\n",
      "s = 335.28\n",
      "inflow = -0.009200654 / (4.0 * 183.0 * 51.82)\n",
      "print \"width-integrated inflow*2: %.3e\" % (inflow * 4.0 * 183.0)\n",
      "\n",
      "p_test, u_test = get_solution(0.0, 335.28/s, 1.0e-15 * 5.0e1, inflow / s, 0.3e-3, 3.0e-3, 0.0, 4000.0 * 6894.75729 / (s ** 2))\n",
      "\n",
      "print \"pressure solution:\"\n",
      "pprint(p_test / 6894.75729 * (s ** 2))\n",
      "pprint(p_test.subs({x:335.0/s}) / 6894.75729 * (s ** 2))\n",
      "\n",
      "print \"flux:\"\n",
      "pprint(u_test * s)"
     ],
     "language": "python",
     "metadata": {},
     "outputs": [
      {
       "output_type": "stream",
       "stream": "stdout",
       "text": [
        "pressure solution:\n",
        "     x                           \n",
        "     \u2320                           \n",
        "     \u23ae           Q(y)            \n",
        "p\u2080 - \u23ae \u2500\u2500\u2500\u2500\u2500\u2500\u2500\u2500\u2500\u2500\u2500\u2500\u2500\u2500\u2500\u2500\u2500\u2500\u2500\u2500\u2500\u2500\u2500 dy\n",
        "     \u23ae \u239b  2            2\u239e        \n",
        "     \u23ae \u239c S     (-S + 1) \u239f        \n",
        "     \u23ae \u239c\u2500\u2500\u2500\u2500 + \u2500\u2500\u2500\u2500\u2500\u2500\u2500\u2500\u2500\u239f\u22c5K(y)   \n",
        "     \u23ae \u239dmu_w      mu_n  \u23a0        \n",
        "     \u2321                           \n",
        "     a                           \n",
        "flux:\n",
        "Q(x)\n",
        "\n",
        "width-integrated inflow*2: -1.776e-04\n",
        "pressure solution:\n",
        "707.701514036241\u22c5x + 4000.0\n",
        "4707.11049630798\n",
        "flux:\n",
        "-2.42554987525124e-7\n"
       ]
      }
     ],
     "prompt_number": 4
    },
    {
     "cell_type": "heading",
     "level": 3,
     "metadata": {},
     "source": [
      "Addition of gravity"
     ]
    },
    {
     "cell_type": "markdown",
     "metadata": {},
     "source": [
      "Insertion of gravity into the system means the fluxes have to be modified to:\n",
      "$$\n",
      "\\mathbf u_w := \\lambda_w(S) \\mathbf K (-\\nabla p + \\rho_w \\mathbf g) \\\\\n",
      "\\mathbf u_n := \\lambda_n(S) \\mathbf K (-\\nabla p + \\rho_n \\mathbf g)\n",
      "$$\n",
      "Again, PDE and boundary conditions are:\n",
      "$$\n",
      "div \\left( \\mathbf u_w + \\mathbf u_n \\right) = q_w + q_n\n",
      "$$\n",
      "with\n",
      "$$\n",
      "p = p_0 \\text{ on } x = a\\\\\n",
      "\\mathbf u_w + \\mathbf u_n = \\mathbf u_b \\text{ on } x = b\n",
      "$$\n",
      "\n",
      "Luckily we do not have to derive the solution of the new system from scratch. Instead we can rephrase it as a modified source term and boundary value problem of the simplified system using:\n",
      "$$\n",
      "q'_w := -div(\\lambda_w(S) \\mathbf K \\rho_w \\mathbf g) + q_w\\\\\n",
      "q'_n := -div(\\lambda_n(S) \\mathbf K \\rho_n \\mathbf g) + q_n\\\\\n",
      "p_0' := p_0\\\\\n",
      "\\mathbf u'_b := \\mathbf u_b - (\\lambda_w(S) \\rho_w + \\lambda_n(S) \\rho_n) \\mathbf K \\mathbf g\n",
      "$$\n",
      "\n",
      "In order to check if we actually solve the new system we insert the source terms and boundary conditions into the simplified system:\n",
      "\n",
      "The PDE becomes:\n",
      "\n",
      "$$\n",
      "div \\left( (\\lambda_w(S) + \\lambda_n(S)) \\mathbf K (-\\nabla p) \\right) = -div \\left( \\lambda_w(S) \\mathbf K \\rho_w g \\right) + q_w - div \\left( \\lambda_n(S) \\mathbf K \\rho_n \\mathbf g \\right) + q_n\\\\\n",
      "\\Rightarrow div \\left( (\\lambda_w(S) + \\lambda_n(S)) \\mathbf K (-\\nabla p) \\right) = -div \\left( (\\lambda_w(S) \\rho_w + \\lambda_n(S) \\rho_n) \\mathbf K \\mathbf g \\right) + q_w + q_n\\\\\n",
      "\\Rightarrow div \\left( \\lambda_w(S) \\mathbf K (-\\nabla p + \\rho_w \\mathbf g) + \\lambda_n(S) \\mathbf K (-\\nabla p + \\rho_n \\mathbf g) \\right) = q_w + q_n \\\\\n",
      "\\Rightarrow div \\left( \\mathbf u_w + \\mathbf u_n\\right) = q_w + q_n\n",
      "$$\n",
      "\n",
      "The boundary conditions are:\n",
      "\n",
      "$$\n",
      "p = p_0 \\text{ on } x = a\\\\\n",
      "(\\lambda_w(S) + \\lambda_n(S)) \\mathbf K (-\\nabla p) = \\mathbf u_b - (\\lambda_w(S) \\rho_w + \\lambda_n(S) \\rho_n) \\mathbf K \\mathbf g\\\\\n",
      "\\Rightarrow \\lambda_w(S) \\mathbf K (-\\nabla p + \\rho_w \\mathbf g) + \\lambda_n(S) \\mathbf K (-\\nabla p + \\rho_n \\mathbf g) = \\mathbf u_b  \\text{ on } x = b \\\\\n",
      "\\Rightarrow \\mathbf u_w + \\mathbf u_n = \\mathbf u_b \\text{ on } x = b\n",
      "$$\n",
      "\n",
      "Together, this means that we correctly formulated the modified system as a special boundary value and source term problem of the simplified system.\n",
      "\n",
      "With insertion into the solution we obtain:\n",
      "\n",
      "$$\n",
      "p(x) = p_0 - \\int_{a}^{x} \\mathbf K^{-1}(y) \\frac{1}{\\lambda_w(S(y)) + \\lambda_n(S(y))} \\\\\n",
      "\\left( \\mathbf u_b - (\\lambda_w(S(b)) \\rho_w + \\lambda_n(S(b)) \\rho_n) \\mathbf K(b) \\mathbf g - \\int_{y}^{b} (-div \\left( (\\lambda_w(S(z)) \\rho_w + \\lambda_n(S(z)) \\rho_n) \\mathbf K(z) \\mathbf g \\right) + q_w + q_n)(z) \\, dz \\right) \\, dy\\\\\n",
      "\\Rightarrow p(x) = p_0 - \\int_{a}^{x} \\mathbf K^{-1}(y) \\frac{1}{\\lambda_w(S(y)) + \\lambda_n(S(y))} \\\\\n",
      "\\left( \\mathbf u_b - (\\lambda_w(S(b)) \\rho_w + \\lambda_n(S(b)) \\rho_n) \\mathbf K(b) \\mathbf g + \\left[ (\\lambda_w(S(z)) \\rho_w + \\lambda_n(S(z)) \\rho_n) \\mathbf K(z) \\mathbf g \\right]_{z=y}^{b} - \\int_{y}^{b} (q_w + q_n)(z) \\, dz \\right) \\, dy \\\\\n",
      "\\Rightarrow p(x) = p_0 - \\int_{a}^{x} \\mathbf K^{-1}(y) \\frac{1}{\\lambda_w(S(y)) + \\lambda_n(S(y))} \\left( \\mathbf u_b - (\\lambda_w(S(y)) \\rho_w + \\lambda_n(S(y)) \\rho_n) \\mathbf K(y) \\mathbf g - \\int_{y}^{b} (q_w + q_n)(z) \\, dz \\right) \\, dy \\\\\n",
      "$$\n",
      "The new fluxes are:\n",
      "$$\n",
      "\\mathbf u_w = \\lambda_w \\mathbf K \\left( - \\nabla p + \\rho_w \\mathbf g \\right) \\\\\n",
      "\\mathbf u_n = \\lambda_n \\mathbf K \\left( - \\nabla p + \\rho_n \\mathbf g \\right) \\\\\n",
      "\\Rightarrow \\mathbf u_w(x) = \\frac{\\lambda_w(S(x))}{\\lambda_w(S(x)) + \\lambda_n(S(x))} \\left( \\mathbf u_b - \\left(\\lambda_w(S(x)) \\rho_w + \\lambda_n(S(x)) \\rho_n \\right) \\mathbf K(x) \\mathbf g - \\int_{x}^{b} (q_w + q_n)(z) \\, dz \\right) + \\lambda_w(S(x)) \\mathbf K(x) \\rho_w \\mathbf g \\\\\n",
      "\\Rightarrow \\mathbf u_w(x) = \\frac{\\lambda_w(S(x))}{\\lambda_w(S(x)) + \\lambda_n(S(x))} \\left(\\mathbf u_b + \\lambda_n(S(x)) (\\rho_w - \\rho_n) \\mathbf K(x) \\mathbf g - \\int_{x}^{b} (q_w + q_n)(z) \\, dz \\right) \\\\\n",
      "\\mathbf u_n(x) = \\frac{\\lambda_n(S(x))}{\\lambda_w(S(x)) + \\lambda_n(S(x))} \\left(\\mathbf u_b + \\lambda_w(S(x)) (\\rho_n - \\rho_w) \\mathbf K(x) \\mathbf g - \\int_{x}^{b} (q_w + q_n)(z) \\, dz \\right) \\\\\n",
      "$$"
     ]
    },
    {
     "cell_type": "code",
     "collapsed": false,
     "input": [],
     "language": "python",
     "metadata": {},
     "outputs": [],
     "prompt_number": 4
    }
   ],
   "metadata": {}
  }
 ]
}