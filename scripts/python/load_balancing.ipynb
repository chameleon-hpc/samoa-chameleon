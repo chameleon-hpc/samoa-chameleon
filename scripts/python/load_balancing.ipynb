{
 "metadata": {
  "name": "",
  "signature": "sha256:d23a8763eff0465d01ba7a73633522052e95ce843b257c9f17d769023dbb7b49"
 },
 "nbformat": 3,
 "nbformat_minor": 0,
 "worksheets": [
  {
   "cells": [
    {
     "cell_type": "heading",
     "level": 2,
     "metadata": {},
     "source": [
      "Define helper functions"
     ]
    },
    {
     "cell_type": "code",
     "collapsed": false,
     "input": [
      "import random\n",
      "import numpy\n",
      "import argparse\n",
      "import math\n",
      "import matplotlib.pyplot as plt\n",
      "\n",
      "class noise_generator:\n",
      "    def __call__(self, n, *args):\n",
      "        return self.generate(n, *args)\n",
      "\n",
      "class hard_noise(noise_generator):\n",
      "    def __init__(self, mu, sigma, transform = lambda x : x):\n",
      "        self.mu = mu\n",
      "        self.sigma = sigma\n",
      "        self.transform = transform\n",
      "        numpy.random.seed(0)\n",
      "\n",
      "    def generate(self, n):\n",
      "        return self.mu + self.sigma * self.transform(2.0 * numpy.random.rand((n)) - 1.0)\n",
      "\n",
      "class sin_noise(noise_generator):\n",
      "    def __init__(self, mu, sigma, amplitudes = lambda f : 1.0/f):\n",
      "        self.mu = mu\n",
      "        self.sigma = sigma\n",
      "        self.amplitudes = amplitudes\n",
      "        numpy.random.seed(0)\n",
      "\n",
      "    def generate(self, n):\n",
      "        a = (numpy.random.rand((2*n-1)) - 0.5) * self.amplitudes(numpy.arange(1, 2*n))\n",
      "        \n",
      "        A = numpy.real(numpy.fft.rfft(a))\n",
      "        f = self.mu + self.sigma * (A - numpy.mean(A)) / numpy.std(A)\n",
      "        return f\n",
      "\n",
      "def dint(arr):\n",
      "    arr_int = [0 for i in xrange(0, len(arr) + 1)]\n",
      "\n",
      "    arr_int[0] = 0\n",
      "    for i in xrange(0, len(arr)):\n",
      "        arr_int[i + 1] = arr_int[i] + arr[i]\n",
      "\n",
      "    return arr_int\n",
      "\n",
      "def dder(arr_int):\n",
      "    return [arr_int[i] - arr_int[i - 1] for i in xrange(1, len(arr_int))]\n",
      "\n",
      "def exp(X, count):\n",
      "    return X / count\n",
      "\n",
      "def var(X, X_sq, count):\n",
      "    return int(math.sqrt(X_sq - X ** 2 / count)) / count"
     ],
     "language": "python",
     "metadata": {},
     "outputs": [],
     "prompt_number": 1
    },
    {
     "cell_type": "heading",
     "level": 2,
     "metadata": {},
     "source": [
      "Define solvers"
     ]
    },
    {
     "cell_type": "code",
     "collapsed": false,
     "input": [
      "import numpy\n",
      "\n",
      "class Solver:\n",
      "    def __init__(self):\n",
      "        self.imbalance = []\n",
      "        self.elapsed_time = []\n",
      "        \n",
      "    def __repr__(self):\n",
      "        return self.__name__\n",
      "        \n",
      "    def __str__(self):\n",
      "        s = self.__name__.ljust(50)\n",
      "        s += \"imbalance: {0:.2f}\".format(numpy.mean(self.imbalance))\n",
      "        s += \" (+/- {0:.2f}) % \".format(numpy.std(self.imbalance))\n",
      "        s += \"elapsed time: {0:.4f} s\".format(numpy.mean(self.elapsed_time))\n",
      "        s += \" (+/- {0:.4f} s) \".format(numpy.std(self.elapsed_time))\n",
      "\n",
      "        return s\n",
      "        \n",
      "    def __call__(self, l, c, *args):\n",
      "        import time\n",
      "\n",
      "        elapsed_time = time.time()\n",
      "        core_j = self.solve(l, c, *args)\n",
      "        elapsed_time = time.time() - elapsed_time\n",
      "        \n",
      "        load_exact = exact(l, c)\n",
      "        load_solver = Solver.compute_load(core_j, l, c)\n",
      "        \n",
      "        self.imbalance.append(float(max(load_solver)) /  float(max(load_exact)) * 100.0 - 100.0)\n",
      "        self.elapsed_time.append(elapsed_time)\n",
      "        \n",
      "        return core_j\n",
      "    \n",
      "    def get_imbalance(self):\n",
      "        return self.imbalance\n",
      "    \n",
      "    def get_elapsed_time(self):\n",
      "        return self.elapsed_time\n",
      "    \n",
      "    @staticmethod\n",
      "    def compute_load(core_j, l, c): \n",
      "        load_by_core = [0] * c\n",
      "        \n",
      "        for j in xrange(len(l)):\n",
      "            assert(core_j[j] >= 0 and core_j[j] < c)\n",
      "            load_by_core[core_j[j]] += l[j]\n",
      "            \n",
      "        return load_by_core\n",
      "        \n",
      "        "
     ],
     "language": "python",
     "metadata": {},
     "outputs": [],
     "prompt_number": 2
    },
    {
     "cell_type": "heading",
     "level": 3,
     "metadata": {},
     "source": [
      "Exact solution"
     ]
    },
    {
     "cell_type": "code",
     "collapsed": false,
     "input": [
      "def exact(l, c):\n",
      "    n = len(l)\n",
      "\n",
      "    l_sum = sum(l)\n",
      "\n",
      "    load_i_int = [(i * l_sum) / c for i in xrange(0, c + 1)]\n",
      "\n",
      "    return dder(load_i_int)\n",
      "\n",
      "print exact([124,12,67,23,56,136,27,125,313,6,13,61,351,61,44], 4)"
     ],
     "language": "python",
     "metadata": {},
     "outputs": [
      {
       "output_type": "stream",
       "stream": "stdout",
       "text": [
        "[354, 355, 355, 355]\n"
       ]
      }
     ],
     "prompt_number": 3
    },
    {
     "cell_type": "heading",
     "level": 3,
     "metadata": {},
     "source": [
      "Longest processing time"
     ]
    },
    {
     "cell_type": "code",
     "collapsed": false,
     "input": [
      "class LPT(Solver):\n",
      "    def __init__(self):\n",
      "        Solver.__init__(self)\n",
      "        self.__name__ = 'LPT'\n",
      "\n",
      "    def solve(self, l, c):\n",
      "        n = len(l)\n",
      "\n",
      "        load_i = numpy.array([0 for i in xrange(0, c)])\n",
      "        core_j = numpy.array([0 for i in xrange(0, n)])\n",
      "\n",
      "        l_sorted = sorted(zip(l, xrange(0, n)))\n",
      "        l_sorted.reverse()\n",
      "\n",
      "        for (l_j, j) in l_sorted:\n",
      "            #find core with the smallest load\n",
      "            i = numpy.argmin(load_i)\n",
      "            core_j[j] = i\n",
      "            load_i[i] += l_j\n",
      "        \n",
      "        return core_j\n",
      "\n",
      "lpt = LPT()\n",
      "print lpt([124,12,67,23,56,136,27,125,313,6,13,61,351,61,44], 4)"
     ],
     "language": "python",
     "metadata": {},
     "outputs": [
      {
       "output_type": "stream",
       "stream": "stdout",
       "text": [
        "[3 2 2 2 2 2 1 3 1 0 1 3 0 2 3]\n"
       ]
      }
     ],
     "prompt_number": 4
    },
    {
     "cell_type": "heading",
     "level": 3,
     "metadata": {},
     "source": [
      "Cutoff in the middle"
     ]
    },
    {
     "cell_type": "code",
     "collapsed": false,
     "input": [
      "class Midpoint_Cutoff(Solver):\n",
      "    def __init__(self):\n",
      "        Solver.__init__(self)\n",
      "        self.__name__ = 'MA'\n",
      "\n",
      "    def solve(self, c, p):\n",
      "        n = len(c)\n",
      "\n",
      "        core_by_task = numpy.zeros(n, dtype=int)\n",
      "\n",
      "        C = numpy.cumsum(c)\n",
      "\n",
      "        for i in xrange(0, n):\n",
      "            core_by_task[i] = int((2 * C[i] - c[i]) * p / (2 * C[n - 1]))\n",
      "\n",
      "        return core_by_task\n",
      "\n",
      "midpoint_cutoff = Midpoint_Cutoff()\n",
      "print midpoint_cutoff([124,12,67,23,56,136,27,125,313,6,13,61,351,61,44], 4)"
     ],
     "language": "python",
     "metadata": {},
     "outputs": [
      {
       "output_type": "stream",
       "stream": "stdout",
       "text": [
        "[0 0 0 0 0 0 1 1 2 2 2 2 3 3 3]\n"
       ]
      }
     ],
     "prompt_number": 5
    },
    {
     "cell_type": "heading",
     "level": 3,
     "metadata": {},
     "source": [
      "Iterative solution with binary search"
     ]
    },
    {
     "cell_type": "code",
     "collapsed": false,
     "input": [
      "class Iterative_Binary(Solver):\n",
      "    def __init__(self):\n",
      "        Solver.__init__(self)\n",
      "        self.__name__ = 'CCP'\n",
      "\n",
      "    def solve(self, c, p):\n",
      "        n = len(c)\n",
      "\n",
      "        core_by_task = numpy.zeros(n, dtype=int)\n",
      "        core_by_task_success = numpy.zeros(n, dtype=int)\n",
      "        l = numpy.zeros(p, dtype=type(c[0]))\n",
      "        \n",
      "        max_load = sum(c) / p + max(c)\n",
      "        min_load = max(sum(c) / p, max(c))\n",
      "        test_load = (min_load + max_load) / 2\n",
      "        \n",
      "        while max_load > min_load:\n",
      "            i = 0\n",
      "            l[:] = 0\n",
      "            \n",
      "            for j in xrange(p):\n",
      "                while i < n and l[j] + c[i] < test_load:\n",
      "                    l[j] += c[i]\n",
      "                    core_by_task[i] = j\n",
      "                    i += 1\n",
      "\n",
      "            if i < n:\n",
      "                min_load = test_load\n",
      "                test_load = max_load\n",
      "            else:\n",
      "                max_load = max(l)\n",
      "                test_load = (min_load + max_load) / 2\n",
      "                core_by_task_success[:] = core_by_task\n",
      "           \n",
      "        return core_by_task_success\n",
      "\n",
      "iterative_binary = Iterative_Binary()\n",
      "print iterative_binary([124,12,67,23,56,136,27,125,313,6,13,61,351,61,44], 4)"
     ],
     "language": "python",
     "metadata": {},
     "outputs": [
      {
       "output_type": "stream",
       "stream": "stdout",
       "text": [
        "[0 0 0 0 0 0 0 1 1 1 2 2 2 3 3]\n"
       ]
      }
     ],
     "prompt_number": 6
    },
    {
     "cell_type": "heading",
     "level": 3,
     "metadata": {},
     "source": [
      "Hybrid solver"
     ]
    },
    {
     "cell_type": "code",
     "collapsed": false,
     "input": [
      "class Hybrid(Solver):\n",
      "    def __init__(self, alg_global=Midpoint_Cutoff(), alg_local=LPT(), groups=2):\n",
      "        Solver.__init__(self)\n",
      "        self.alg_global = alg_global\n",
      "        self.alg_local = alg_local\n",
      "        self.groups = groups\n",
      "        self.__name__ = self.alg_global.__name__ + \"/\" + self.alg_local.__name__\n",
      "\n",
      "    def solve(self, l, c):\n",
      "        n = len(l)\n",
      "        j = 0\n",
      "\n",
      "        #use a fast, approximate algorithm to distribute the load to groups of cores\n",
      "        core_j = [0 for i in xrange(0, n)]\n",
      "\n",
      "        core_j_global = self.alg_global(l, c)\n",
      "\n",
      "        #now, refine load balance on groups with a more precise algorithm\n",
      "        for group in xrange(0, self.groups):\n",
      "            #pick all jobs in group k\n",
      "            local_to_global_jobs = []\n",
      "            local_loads = []\n",
      "            \n",
      "            def local_to_global_core(i_local, group): \n",
      "                return group * (c / self.groups) + i_local\n",
      "            \n",
      "            def global_to_local_core(i):\n",
      "                return i % (c / self.groups), i / (c / self.groups)\n",
      "\n",
      "            for j in xrange(0, n):\n",
      "                local_core_i, group_i = global_to_local_core(core_j_global[j])\n",
      "                assert(local_to_global_core(*global_to_local_core(core_j_global[j])) == core_j_global[j])\n",
      "                \n",
      "                if (group_i == group):\n",
      "                    local_to_global_jobs.append(j)\n",
      "                    local_loads.append(l[j])\n",
      "            \n",
      "            core_j_local = self.alg_local(local_loads, (c / self.groups))\n",
      "            \n",
      "            for j_local in xrange(0, len(core_j_local)):\n",
      "                core_j[local_to_global_jobs[j_local]] = local_to_global_core(core_j_local[j_local], group)\n",
      "\n",
      "        return core_j\n",
      "\n",
      "hybrid = Hybrid()\n",
      "print hybrid([124,12,67,23,56,136,27,125,313,6,13,61,351,61,44], 4)"
     ],
     "language": "python",
     "metadata": {},
     "outputs": [
      {
       "output_type": "stream",
       "stream": "stdout",
       "text": [
        "[1, 1, 0, 0, 0, 0, 1, 1, 3, 3, 2, 2, 2, 3, 3]\n"
       ]
      }
     ],
     "prompt_number": 7
    },
    {
     "cell_type": "heading",
     "level": 2,
     "metadata": {},
     "source": [
      "Test suite"
     ]
    },
    {
     "cell_type": "code",
     "collapsed": false,
     "input": [
      "def run_test(p, n, iterations, noise_generator, file_name_prefix = str(id(noise_generator))):\n",
      "    i_tests = 0\n",
      "    \n",
      "    methods = []\n",
      "    methods.append(Hybrid(Midpoint_Cutoff(), LPT(), p / 10))\n",
      "    methods.append(Hybrid(Midpoint_Cutoff(), Iterative_Binary(), p / 10))\n",
      "    methods.append(Midpoint_Cutoff())\n",
      "    methods.append(Iterative_Binary())\n",
      "    methods.append(LPT())\n",
      "    \n",
      "    try:\n",
      "        log = open(file_name_prefix + '.log','w')\n",
      "    except:\n",
      "        print \"Invalid path: \" + file_name_prefix + '.log'\n",
      "        import sys\n",
      "        log = sys.stdout\n",
      "        \n",
      "    for i_tests in xrange(iterations):\n",
      "        c = noise_generator(n)\n",
      "\n",
      "        for method in methods:\n",
      "            _ = method(c, p)\n",
      "\n",
      "        print >> log, \"Testing..\", \"avg(c_i): %.2g\" % (numpy.mean(c)), \"std(c_i): %.2g\" % (numpy.std(c)), \"sum(c_i) / p:  %.2g\" % (sum(c) / p)\n",
      "\n",
      "    print >> log,  \"Tests complete! (total tests:\", i_tests, \")\"\n",
      "    print >> log,  \"\"\n",
      "\n",
      "    for method in methods:\n",
      "        print method\n",
      "        print >> log,  method\n",
      "    \n",
      "    print >> log,  \"\"\n",
      "\n",
      "    %matplotlib inline\n",
      "    plt.rcParams['figure.figsize'] = (4.0, 2.7)\n",
      "\n",
      "    cost_plot = plt.plot(xrange(0, n), c)\n",
      "    plt.setp(cost_plot, linewidth=2, color='blue')\n",
      "    \n",
      "    plt.title('Cost distribution')\n",
      "    plt.legend(loc='upper right')\n",
      "    plt.xlabel('Task')\n",
      "    plt.ylabel('Cost')\n",
      "    plt.xlim(xmax=n)\n",
      "    plt.ylim(ymin=0)\n",
      "    plt.tick_params(axis='both', which='major')\n",
      "\n",
      "    try:\n",
      "        plt.savefig(file_name_prefix + '_cost.pdf')\n",
      "    except:\n",
      "        print \"Invalid path: \" + file_name_prefix + '_cost.pdf'\n",
      "    \n",
      "    plt.show()\n",
      "\n",
      "    sol_plot = plt.boxplot([method.get_imbalance() for method in methods], labels = [repr(method) for method in methods], vert=False)\n",
      "    plt.legend(loc='lower right')\n",
      "    \n",
      "    plt.title('Load distribution')\n",
      "    plt.xlabel('Imbalance [%]')\n",
      "    plt.ylabel('Method')\n",
      "    plt.ylim(ymin=0)\n",
      "    plt.tick_params(axis='both', which='major')\n",
      "    plt.gcf().subplots_adjust(left=0.15, bottom=0.15)\n",
      "    \n",
      "    try:\n",
      "        plt.savefig(file_name_prefix + '_imbalance.pdf')\n",
      "    except:\n",
      "        print \"Invalid path: \" + file_name_prefix + '_imbalance.pdf'\n",
      "    \n",
      "    plt.show()"
     ],
     "language": "python",
     "metadata": {},
     "outputs": [],
     "prompt_number": 8
    },
    {
     "cell_type": "code",
     "collapsed": false,
     "input": [
      "import os\n",
      "\n",
      "p = 70\n",
      "n = 300\n",
      "iterations = 100\n",
      "mu = 1000\n",
      "sigma = 100\n",
      "\n",
      "folder = os.path.join(os.path.expanduser('~'), 'repository', 'Thesis', 'parallelization_on_sierpinski_sections', 'load_balancing_tests')\n",
      "\n",
      "run_test(p, n, iterations, sin_noise(mu, 3*sigma, amplitudes = lambda f: 1.0), os.path.join(folder, 'rough_fit'))\n",
      "run_test(p, n, iterations, sin_noise(mu, 3*sigma, amplitudes = lambda f: 1.0/f**2), os.path.join(folder, 'smooth_fit'))\n",
      "run_test(p, n, iterations, sin_noise(mu, sigma, amplitudes = lambda f: 1.0), os.path.join(folder, 'rough_nofit'))\n",
      "run_test(p, n, iterations, sin_noise(mu, sigma, amplitudes = lambda f: 1.0/f**2), os.path.join(folder, 'smooth_nofit'))"
     ],
     "language": "python",
     "metadata": {},
     "outputs": [
      {
       "output_type": "stream",
       "stream": "stdout",
       "text": [
        "MA/LPT                                            imbalance: 9.88 (+/- 1.31) % elapsed time: 0.0059 s (+/- 0.0002 s) \n",
        "MA/CCP                                            imbalance: 15.10 (+/- 1.76) % elapsed time: 0.0060 s (+/- 0.0002 s) \n",
        "MA                                                imbalance: 24.31 (+/- 3.48) % elapsed time: 0.0003 s (+/- 0.0000 s) \n",
        "CCP                                               imbalance: 12.44 (+/- 1.02) % elapsed time: 0.0022 s (+/- 0.0004 s) \n",
        "LPT                                               imbalance: 7.81 (+/- 0.78) % elapsed time: 0.0013 s (+/- 0.0000 s) \n"
       ]
      },
      {
       "metadata": {},
       "output_type": "display_data",
       "png": "[encoded data removed]",
       "text": [
        "<matplotlib.figure.Figure at 0x7fa59a8137d0>"
       ]
      },
      {
       "metadata": {},
       "output_type": "display_data",
       "png": "[encoded data removed]",
       "text": [
        "<matplotlib.figure.Figure at 0x7fa59aa4b310>"
       ]
      },
      {
       "output_type": "stream",
       "stream": "stdout",
       "text": [
        "MA/LPT                                            imbalance: 22.12 (+/- 4.91) % elapsed time: 0.0059 s (+/- 0.0002 s) \n",
        "MA/CCP                                            imbalance: 20.34 (+/- 4.30) % elapsed time: 0.0058 s (+/- 0.0003 s) \n",
        "MA                                                imbalance: 25.56 (+/- 3.37) % elapsed time: 0.0003 s (+/- 0.0000 s) \n",
        "CCP                                               imbalance: 13.28 (+/- 1.95) % elapsed time: 0.0022 s (+/- 0.0006 s) \n",
        "LPT                                               imbalance: 7.92 (+/- 2.05) % elapsed time: 0.0012 s (+/- 0.0001 s) \n"
       ]
      },
      {
       "metadata": {},
       "output_type": "display_data",
       "png": "[encoded data removed]",
       "text": [
        "<matplotlib.figure.Figure at 0x7fa59a961810>"
       ]
      },
      {
       "metadata": {},
       "output_type": "display_data",
       "png": "[encoded data removed]",
       "text": [
        "<matplotlib.figure.Figure at 0x7fa59a7eefd0>"
       ]
      },
      {
       "output_type": "stream",
       "stream": "stdout",
       "text": [
        "MA/LPT                                            imbalance: 15.47 (+/- 0.82) % elapsed time: 0.0060 s (+/- 0.0002 s) \n",
        "MA/CCP                                            imbalance: 15.66 (+/- 1.00) % elapsed time: 0.0058 s (+/- 0.0002 s) \n",
        "MA                                                imbalance: 21.52 (+/- 1.75) % elapsed time: 0.0003 s (+/- 0.0000 s) \n",
        "CCP                                               imbalance: 13.93 (+/- 0.58) % elapsed time: 0.0022 s (+/- 0.0007 s) \n",
        "LPT                                               imbalance: 13.72 (+/- 0.26) % elapsed time: 0.0013 s (+/- 0.0000 s) \n"
       ]
      },
      {
       "metadata": {},
       "output_type": "display_data",
       "png": "[encoded data removed]",
       "text": [
        "<matplotlib.figure.Figure at 0x7fa59addc4d0>"
       ]
      },
      {
       "metadata": {},
       "output_type": "display_data",
       "png": "[encoded data removed]",
       "text": [
        "<matplotlib.figure.Figure at 0x7fa59a724a50>"
       ]
      },
      {
       "output_type": "stream",
       "stream": "stdout",
       "text": [
        "MA/LPT                                            imbalance: 18.37 (+/- 3.36) % elapsed time: 0.0059 s (+/- 0.0007 s) \n",
        "MA/CCP                                            imbalance: 16.22 (+/- 2.96) % elapsed time: 0.0060 s (+/- 0.0007 s) \n",
        "MA                                                imbalance: 20.01 (+/- 2.21) % elapsed time: 0.0003 s (+/- 0.0000 s) \n",
        "CCP                                               imbalance: 10.48 (+/- 2.27) % elapsed time: 0.0020 s (+/- 0.0006 s) \n",
        "LPT                                               imbalance: 13.73 (+/- 0.76) % elapsed time: 0.0012 s (+/- 0.0001 s) \n"
       ]
      },
      {
       "metadata": {},
       "output_type": "display_data",
       "png": "[encoded data removed]",
       "text": [
        "<matplotlib.figure.Figure at 0x7fa59a883b50>"
       ]
      },
      {
       "metadata": {},
       "output_type": "display_data",
       "png": "[encoded data removed]",
       "text": [
        "<matplotlib.figure.Figure at 0x7fa59a606210>"
       ]
      }
     ],
     "prompt_number": 10
    },
    {
     "cell_type": "code",
     "collapsed": false,
     "input": [],
     "language": "python",
     "metadata": {},
     "outputs": [],
     "prompt_number": 9
    }
   ],
   "metadata": {}
  }
 ]
}