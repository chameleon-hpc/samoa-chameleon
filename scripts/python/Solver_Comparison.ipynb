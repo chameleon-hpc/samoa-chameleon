{
 "metadata": {
  "name": "",
  "signature": "sha256:c49288fc503f57465b9e8c4e8aa8bbd79eeb1215f8aa540d2c86adcedb448ad9"
 },
 "nbformat": 3,
 "nbformat_minor": 0,
 "worksheets": [
  {
   "cells": [
    {
     "cell_type": "heading",
     "level": 1,
     "metadata": {},
     "source": [
      "Miscellaneous helper routines"
     ]
    },
    {
     "cell_type": "code",
     "collapsed": false,
     "input": [
      "import os\n",
      "import sys\n",
      "from timeit import default_timer\n",
      "from mpl_toolkits.mplot3d.axes3d import Axes3D\n",
      "\n",
      "import numpy as np\n",
      "import matplotlib\n",
      "from math import pi \n",
      "from numpy import *\n",
      "from numpy.linalg import *\n",
      "\n",
      "np.set_printoptions(precision=3, suppress=True)\n",
      "matplotlib.rcParams['figure.figsize'] = 8,6\n",
      "\n",
      "def plot_surface(u):\n",
      "    N = u.shape\n",
      "    X, Y = meshgrid(linspace(0., 1., num=N[0]), linspace(0., 1., num=N[1]))\n",
      "    plt.subplot(111, projection='3d').plot_surface(X, Y, u, rstride=1, cstride=1, cmap=cm.coolwarm)\n",
      "    plt.show()\n",
      "    \n",
      "RUN_TESTS = False"
     ],
     "language": "python",
     "metadata": {},
     "outputs": [],
     "prompt_number": 1
    },
    {
     "cell_type": "heading",
     "level": 3,
     "metadata": {},
     "source": [
      "Define the \"toy problem\""
     ]
    },
    {
     "cell_type": "code",
     "collapsed": false,
     "input": [
      "def poisson1D(N):\n",
      "    A = zeros((N, N))\n",
      "    r = arange(N)\n",
      "    A[r,r]             = -2\n",
      "    A[r[1:],r[1:]-1]   = 1\n",
      "    A[r[:-1],r[:-1]+1] = 1\n",
      "\n",
      "\n",
      "def poisson2D(N):\n",
      "    A = zeros((N**2, N**2))\n",
      "    \n",
      "    for y in xrange(N):\n",
      "        r = arange(y*N, y*N + N)\n",
      "        A[r,r]               = -4\n",
      "        # Fill x\n",
      "        A[r[1:],r[1:]-1]     = 1\n",
      "        A[r[:-1],r[:-1]+1]   = 1\n",
      "        # Fill y\n",
      "        if y > 0:   A[r,r-N] = 1\n",
      "        if y < N-1: A[r,r+N] = 1\n",
      "    \n",
      "    return A / ((N+1)**2)\n",
      "\n",
      "\n",
      "def poisson3D(N):\n",
      "    A = zeros((N**3, N**3))\n",
      "    \n",
      "    sx, sy, sz = 1, N, N**2\n",
      "    for z in xrange(N):\n",
      "        for y in xrange(N):\n",
      "            r = arange(z*sz + y*sy, z*sz + y*sy + N)\n",
      "            A[r,r]                = -6\n",
      "            # Fill x\n",
      "            A[r[1:],r[1:]-sx]     = 1\n",
      "            A[r[:-1],r[:-1]+sx]   = 1\n",
      "            # Fill y\n",
      "            if y > 0:   A[r,r-sy] = 1\n",
      "            if y < N-1: A[r,r+sy] = 1\n",
      "            # Fill z\n",
      "            if z > 0:   A[r,r-sz] = 1\n",
      "            if z < N-1: A[r,r+sz] = 1\n",
      "    \n",
      "    return A / ((N+1)**3)\n",
      "\n",
      "\n",
      "def toy_problem(N, rhs=0, dim=2):\n",
      "    m = pi / (N+1)\n",
      "    R = xrange(1,N+1)\n",
      "    \n",
      "    if dim == 1:\n",
      "        A = -poisson1D(N)\n",
      "        x = array([sin(m*i) for i in R])\n",
      "    elif dim == 2:\n",
      "        A = -poisson2D(N)\n",
      "        x = array([sin(m*i) * sin(m*j) for j in R for i in R])\n",
      "    elif dim == 3:\n",
      "        A = -poisson3D(N)\n",
      "        x = array([sin(m*i) * sin(m*j) * sin(m*k) for k in R for j in R for i in R])\n",
      "    else:\n",
      "        raise ValueError('Unsupported dimension: {}!'.format(dim))\n",
      "    \n",
      "    b = empty_like(x)\n",
      "    b.fill(-rhs)\n",
      "    \n",
      "    return A, x, b"
     ],
     "language": "python",
     "metadata": {},
     "outputs": [],
     "prompt_number": 2
    },
    {
     "cell_type": "heading",
     "level": 3,
     "metadata": {},
     "source": [
      "Write problem to file"
     ]
    },
    {
     "cell_type": "code",
     "collapsed": false,
     "input": [
      "def write_problem(filename, A, x, b, precision=8):\n",
      "    N = A.shape[0]\n",
      "    fmt = '{{:{}.{}f}}'.format(precision+3, precision)\n",
      "    \n",
      "    with open(filename, 'w') as f:\n",
      "        f.write('A:\\n')\n",
      "        for i in xrange(N):\n",
      "            for j in xrange(N):\n",
      "                f.write(fmt.format(A[i,j]) + ' ')\n",
      "            f.write('\\n')\n",
      "        f.write('\\n')\n",
      "        \n",
      "        f.write('p:\\n')\n",
      "        for i in xrange(N):\n",
      "            f.write(fmt.format(x[i]) + '\\n')\n",
      "        f.write('\\n')\n",
      "        \n",
      "        f.write('rhs:\\n')\n",
      "        for i in xrange(N):\n",
      "            f.write(fmt.format(b[i]) + '\\n')\n",
      "        f.write('\\n')"
     ],
     "language": "python",
     "metadata": {},
     "outputs": [],
     "prompt_number": 3
    },
    {
     "cell_type": "heading",
     "level": 3,
     "metadata": {},
     "source": [
      "Read problem from file"
     ]
    },
    {
     "cell_type": "code",
     "collapsed": false,
     "input": [
      "def read_problem(filename):\n",
      "    # Parsing states\n",
      "    Started, Collect_A, Collect_x, Collect_b = range(4)\n",
      "    state = Started\n",
      "    \n",
      "    N = 0\n",
      "    A = []\n",
      "    x = []\n",
      "    b = []\n",
      "    with open(filename, 'r') as f:\n",
      "        for line in f:\n",
      "            line = line.strip()\n",
      "            \n",
      "            if len(line) == 0:\n",
      "                continue\n",
      "            \n",
      "            if line == 'A:':\n",
      "                state = Collect_A\n",
      "            elif line == 'p:':\n",
      "                state = Collect_x\n",
      "            elif line == 'rhs:':\n",
      "                state = Collect_b\n",
      "            \n",
      "            elif state == Collect_A:\n",
      "                row = line.split()\n",
      "                if N == 0:\n",
      "                    N = len(row)\n",
      "                elif N != len(row):\n",
      "                    raise ValueError('Matrix A has rows of different lengths ({} != {}).'.format(N, len(row)))\n",
      "                A.extend([float(a) for a in row])\n",
      "                \n",
      "            elif state == Collect_x:\n",
      "                x.append(float(line))\n",
      "                \n",
      "            elif state == Collect_b:\n",
      "                b.append(float(line))\n",
      "    \n",
      "    # Verify input\n",
      "    if len(A) != N*N:\n",
      "        raise ValueError('Matrix A is not a square matrix.')\n",
      "    if len(x) != N or len(b) != N:\n",
      "        raise ValueError('Vectors \"x\" and \"b\" do not match the dimentions of matrix A.')\n",
      "    \n",
      "    A = array(A).reshape((N,N))\n",
      "    x = array(x)\n",
      "    b = array(b)\n",
      "    \n",
      "    return A, x, b"
     ],
     "language": "python",
     "metadata": {},
     "outputs": [],
     "prompt_number": 4
    },
    {
     "cell_type": "heading",
     "level": 3,
     "metadata": {},
     "source": [
      "Helpers for testing and comparing different methods"
     ]
    },
    {
     "cell_type": "code",
     "collapsed": false,
     "input": [
      "def residual(A, x, b):\n",
      "    N = A.shape[0]\n",
      "    \n",
      "    r = empty_like(x)\n",
      "    for i in xrange(N):\n",
      "        r[i] = b[i] - (A[i,:].dot( x ))\n",
      "    \n",
      "    return r\n",
      "\n",
      "\n",
      "def solve(A, x, b, method, threshold):\n",
      "    i = 0\n",
      "    res_norm = 100.\n",
      "    \n",
      "    try:\n",
      "        method.setup(A, x, b)\n",
      "    except AttributeError:\n",
      "        pass\n",
      "    \n",
      "    start_time = default_timer()\n",
      "    b_norm = norm(b)\n",
      "    res_norm = norm(residual(A, x, b))\n",
      "    \n",
      "    while abs(res_norm) >= threshold * b_norm:\n",
      "        method(A, x, b)\n",
      "        res_norm = norm(residual(A, x, b))\n",
      "        i += 1\n",
      "    end_time = default_timer()\n",
      "    \n",
      "    return i, end_time - start_time\n",
      "\n",
      "\n",
      "def test_methods(methods, sizes=(3, 7, 15, 31), threshold=1e-06, dim=2, visualize=True):\n",
      "    solutions = {}\n",
      "    for size in sizes:\n",
      "        for method in methods:\n",
      "            A, x, b = toy_problem(size, rhs=1.0/size, dim=dim)\n",
      "            iterations, time = solve(A, x, b, method=method, threshold=threshold)\n",
      "            solutions[method] = x\n",
      "            fmt = 'Problem size: {}x{}\\tMethod: {:18s}\\tIterations: {:5d}\\tTime: {:12.8f}'\n",
      "            print fmt.format(size, size, method.__name__, iterations, time)\n",
      "\n",
      "    if visualize and dim == 2:\n",
      "        print '\\nInitial state:'\n",
      "        A, x, b = toy_problem(size, rhs=1.0/size)\n",
      "        plot_surface( x.reshape((size,size)) )\n",
      "        for method in methods:\n",
      "            print 'Solution by {}:'.format(method.__name__)\n",
      "            plot_surface( solutions[method].reshape((size,size)) )\n",
      "\n",
      "\n",
      "def print_table(methods, problems, iterations, times):\n",
      "    cols = len(methods)\n",
      "    i_width = 7\n",
      "    t_width = 12\n",
      "\n",
      "    print '|       |{i:^{iw}}|{t:^{tw}}|'.format(i='Iterations', iw=(i_width+1)*cols-1, t='Time', tw=(t_width+1)*cols-1)\n",
      "    s = '|Problem|'\n",
      "    for method in methods:\n",
      "        s += '{m:^{mw}.{mw}}|'.format(m=method.__name__, mw=i_width)\n",
      "    for method in methods:\n",
      "        s += '{m:^{mw}.{mw}}|'.format(m=method.__name__, mw=t_width)\n",
      "    print s\n",
      "    for problem in problems:\n",
      "        s = '|{:^7s}|'.format(problem.name)\n",
      "        for method in methods:\n",
      "            s += '{:>6d} |'.format(iterations[((method, problem))])\n",
      "        for method in methods:\n",
      "            s += '{:>11f} |'.format(times[(method, problem)])\n",
      "        print s\n",
      "\n",
      "\n",
      "class Problem(object):\n",
      "    def __init__(self, name, A, x, b):\n",
      "        self.name, self.A, self.x, self.b = name, A, x, b\n",
      "        \n",
      "    def get_copy(self):\n",
      "        return self.A.copy(), self.x.copy(), self.b.copy()\n",
      "\n",
      "\n",
      "def compare_methods(methods, problems=None, sizes=(3, 7, 15, 31), threshold=1e-06, verbose=True):\n",
      "    iterations = {}\n",
      "    times = {}\n",
      "    \n",
      "    if problems is None:\n",
      "        problems = [Problem('{0}x{0}'.format(size), *toy_problem(size, rhs=1, dim=2)) for size in sizes]\n",
      "\n",
      "    for problem in problems:\n",
      "        if verbose: print 'Processing problem: {}...'.format(problem.name)\n",
      "        for method in methods:\n",
      "            A, x, b = problem.get_copy()\n",
      "            i, t = solve(A, x, b, method=method, threshold=threshold)\n",
      "            iterations[(method, problem)] = i\n",
      "            times[(method, problem)] = t\n",
      "            if verbose: print '\\t{} is done.'.format(method.__name__)\n",
      "\n",
      "    if verbose: print 'Finished.\\n\\n'\n",
      "\n",
      "    print_table(methods, problems, iterations, times)\n",
      "\n",
      "\n",
      "def is_permutation(a, b, threshold=1e-5):\n",
      "    a = np.sort(a)\n",
      "    b = np.sort(b)\n",
      "    \n",
      "    res = True\n",
      "    for i in xrange(a.size):\n",
      "        if abs(a[i] - b[i]) > threshold * abs(max(a[i], b[i])):\n",
      "            print '|{} - {}| = {} > {}'.format(a[i], b[i], abs(a[i] - b[i]), threshold * abs(max(a[i], b[i])))\n",
      "            res = False\n",
      "            break\n",
      "        \n",
      "    return res"
     ],
     "language": "python",
     "metadata": {},
     "outputs": [],
     "prompt_number": 5
    },
    {
     "cell_type": "heading",
     "level": 3,
     "metadata": {},
     "source": [
      "Test the helpers"
     ]
    },
    {
     "cell_type": "code",
     "collapsed": false,
     "input": [
      "if RUN_TESTS:\n",
      "    N = 3\n",
      "    A, x, b = toy_problem(N, rhs=1)\n",
      "\n",
      "    write_problem('problem.txt', A, x, b)\n",
      "\n",
      "    A, x, b = read_problem('problem.txt')\n",
      "\n",
      "    print A\n",
      "    print x\n",
      "    print b"
     ],
     "language": "python",
     "metadata": {},
     "outputs": [],
     "prompt_number": 6
    },
    {
     "cell_type": "heading",
     "level": 1,
     "metadata": {},
     "source": [
      "Basic solvers"
     ]
    },
    {
     "cell_type": "heading",
     "level": 3,
     "metadata": {},
     "source": [
      "Jacobi smoother"
     ]
    },
    {
     "cell_type": "code",
     "collapsed": false,
     "input": [
      "def jacobi(A, x, b):\n",
      "    N = A.shape[0]\n",
      "    \n",
      "    res = empty_like(x)\n",
      "    for i in xrange(N):\n",
      "        res[i] = 1.0 / A[i,i] * (b[i] - (A[i,:i].dot( x[:i] ) + A[i,i+1:].dot( x[i+1:] )))\n",
      "    \n",
      "    copyto(x, res)"
     ],
     "language": "python",
     "metadata": {},
     "outputs": [],
     "prompt_number": 7
    },
    {
     "cell_type": "heading",
     "level": 3,
     "metadata": {},
     "source": [
      "Gauss-seidel smoother"
     ]
    },
    {
     "cell_type": "code",
     "collapsed": false,
     "input": [
      "def gauss_seidel(A, x, b):\n",
      "    N = A.shape[0]\n",
      "    \n",
      "    for i in xrange(N):\n",
      "        x[i] = 1.0 / A[i,i] * (b[i] - (A[i,:i].dot( x[:i] ) + A[i,i+1:].dot( x[i+1:] )))"
     ],
     "language": "python",
     "metadata": {},
     "outputs": [],
     "prompt_number": 8
    },
    {
     "cell_type": "heading",
     "level": 3,
     "metadata": {},
     "source": [
      "Steepest descent"
     ]
    },
    {
     "cell_type": "code",
     "collapsed": false,
     "input": [
      "def steepest_descent(A, x, b):\n",
      "    r = b - A.dot(x)\n",
      "    a = (r.dot(r)) / (r.dot(A.dot(r)))\n",
      "    x += a * r"
     ],
     "language": "python",
     "metadata": {},
     "outputs": [],
     "prompt_number": 9
    },
    {
     "cell_type": "heading",
     "level": 3,
     "metadata": {},
     "source": [
      "Test basic solvers"
     ]
    },
    {
     "cell_type": "code",
     "collapsed": false,
     "input": [
      "if RUN_TESTS:\n",
      "    test_methods([jacobi, gauss_seidel, steepest_descent])"
     ],
     "language": "python",
     "metadata": {},
     "outputs": [],
     "prompt_number": 10
    },
    {
     "cell_type": "heading",
     "level": 1,
     "metadata": {},
     "source": [
      "Conjugate gradients and preconditioners"
     ]
    },
    {
     "cell_type": "heading",
     "level": 5,
     "metadata": {},
     "source": [
      "Base class for preconditioners"
     ]
    },
    {
     "cell_type": "code",
     "collapsed": false,
     "input": [
      "class Preconditioner:\n",
      "    def __init__(self):\n",
      "        self.__name__ = ''\n",
      "    \n",
      "    \n",
      "    def setup(self, A):\n",
      "        pass\n",
      "    \n",
      "    \n",
      "    def __call__(self, A, r):\n",
      "        return r"
     ],
     "language": "python",
     "metadata": {},
     "outputs": [],
     "prompt_number": 11
    },
    {
     "cell_type": "markdown",
     "metadata": {},
     "source": [
      "Initialize: $r_0 = b - A x_0$, $d_0 = M^{-1} r_0$\n",
      "\n",
      "While $r_i>\\epsilon$ do:\n",
      "\\begin{align}\n",
      "    \\alpha_i &= \\frac{r_i^T M^{-1} r_i}{d_i^T A d_i} \\\\\n",
      "    x_{i+1} &= x_i + \\alpha_i d_i \\\\\n",
      "    r_{i+1} &= r_i - \\alpha_iAd_i \\\\\n",
      "    \\beta_{i+1} &= \\frac{r_{i+1}^T M^{-1} r_{i+1}}{r_i^T M^{-1} r_i} \\\\\n",
      "    d_{i+1} &= M^{-1} r_{i+1} + \\beta_{i+1} d_i\n",
      "\\end{align}"
     ]
    },
    {
     "cell_type": "code",
     "collapsed": false,
     "input": [
      "class CG:\n",
      "    def __init__(self, precond=Preconditioner()):\n",
      "        self.precond = precond\n",
      "        self.__name__ = 'CG({})'.format(precond.__name__)\n",
      "        self.r, self.d, self.rMr = None, None, None\n",
      "    \n",
      "    \n",
      "    def setup(self, A, x, b):\n",
      "        self.precond.setup(A)\n",
      "        \n",
      "        r = b - A.dot(x)\n",
      "        Mr = self.precond(A, r)\n",
      "        rMr = r.dot(Mr)\n",
      "        \n",
      "        set_printoptions(suppress=False,precision=16)\n",
      "\n",
      "        self.r, self.d, self.rMr = r, Mr, rMr\n",
      "        \n",
      "        \n",
      "    def __call__(self, A, x, b):\n",
      "        r, d, rMr = self.r, self.d, self.rMr\n",
      "        fusedCG = True\n",
      "        \n",
      "        # Steps 1,2,3\n",
      "        Ad = A.dot(d)\n",
      "        dAd = d.dot(Ad)\n",
      "        \n",
      "        alpha = rMr / dAd\n",
      "        x += alpha * d\n",
      "        r -= alpha * Ad\n",
      "\n",
      "        # Steps 4,5\n",
      "        Mr = self.precond(A, r)\n",
      "        \n",
      "        if (fusedCG):\n",
      "            # CG by Saad/Meurant:\n",
      "            Mu = self.precond(A, Ad)\n",
      "            uMu = Ad.dot(Mu)\n",
      "            rMr = alpha * alpha * uMu - self.rMr\n",
      "\n",
      "            beta = rMr / self.rMr\n",
      "            rMr = r.dot(Mr)\n",
      "        else:\n",
      "            rMr = r.dot(Mr)\n",
      "            beta = rMr / self.rMr\n",
      "         \n",
      "        d = Mr + beta * d\n",
      "        \n",
      "        self.r, self.d, self.rMr = r, d, rMr"
     ],
     "language": "python",
     "metadata": {},
     "outputs": [],
     "prompt_number": 12
    },
    {
     "cell_type": "heading",
     "level": 3,
     "metadata": {},
     "source": [
      "Preconditioners"
     ]
    },
    {
     "cell_type": "heading",
     "level": 5,
     "metadata": {},
     "source": [
      "Jacobi preconditioner"
     ]
    },
    {
     "cell_type": "code",
     "collapsed": false,
     "input": [
      "class JacobiPrec(Preconditioner):\n",
      "    def __init__(self):\n",
      "        self.__name__ = 'Jac'\n",
      "    \n",
      "    \n",
      "    def __call__(self, A, r):\n",
      "        N = r.shape[0]\n",
      "\n",
      "        #res = empty_like(r)\n",
      "        res = r.copy()\n",
      "        for i in xrange(N):\n",
      "            if A[i,i] != 0: res[i] = 1.0 / A[i,i] * r[i]\n",
      "\n",
      "        return res"
     ],
     "language": "python",
     "metadata": {},
     "outputs": [],
     "prompt_number": 13
    },
    {
     "cell_type": "heading",
     "level": 5,
     "metadata": {},
     "source": [
      "Symmetric Gauss-Seidel preconditioner"
     ]
    },
    {
     "cell_type": "code",
     "collapsed": false,
     "input": [
      "class GaussSeidelPrec(Preconditioner):\n",
      "    def __init__(self):\n",
      "        self.__name__ = 'GS'\n",
      "    \n",
      "    \n",
      "    def __call__(self, A, r):\n",
      "        N = r.shape[0]\n",
      "\n",
      "        # Forward pass\n",
      "        #x = zeros_like(r)\n",
      "        x = r.copy()\n",
      "        for i in xrange(N):\n",
      "            if A[i,i] != 0: x[i] = 1.0 / A[i,i] * (r[i] - A[i,:i].dot( x[:i] ))\n",
      "\n",
      "        # Backward pass\n",
      "        #res = zeros_like(r)\n",
      "        res = x.copy()\n",
      "        for i in xrange(N-1, -1, -1):\n",
      "            if A[i,i] != 0: res[i] = 1.0 / A[i,i] * (x[i] - A[i,i+1:].dot( res[i+1:] ))\n",
      "\n",
      "        return res"
     ],
     "language": "python",
     "metadata": {},
     "outputs": [],
     "prompt_number": 14
    },
    {
     "cell_type": "heading",
     "level": 5,
     "metadata": {},
     "source": [
      "Incomplete Cholesky preconditioner"
     ]
    },
    {
     "cell_type": "markdown",
     "metadata": {},
     "source": [
      "$L := \\{0\\}$\n",
      "\n",
      "For i from 1 to N:\n",
      "\n",
      "$\\qquad$If $A_{ii} \\neq 0: \\quad L_{ii} = \\left( {A_{ii}  - \\sum\\limits_{k = 1}^{i - 1} {L_{ik}^2 } } \\right)^{{1 \\over 2}}$\n",
      "\n",
      "$\\qquad$For j from i+1 to N:\n",
      "\n",
      "$\\qquad\\qquad$If $A_{ij} \\neq 0: \\quad L_{ji} = {1 \\over {L_{ii} }}\\left( {A_{ij}  - \\sum\\limits_{k = 1}^{i - 1} {L_{ik} L_{jk} } } \\right)$\n",
      "\n",
      "Use $LL^T$ as preconditioner."
     ]
    },
    {
     "cell_type": "code",
     "collapsed": false,
     "input": [
      "class IncompleteCholeskyPrec(Preconditioner):\n",
      "    def __init__(self):\n",
      "        self.__name__ = \"ICh\"\n",
      "        self.L = None\n",
      "    \n",
      "    \n",
      "    def setup(self, A):\n",
      "        self.L = self.factorize(A)\n",
      "        self.LT = self.L.T.copy()\n",
      "    \n",
      "    \n",
      "    def __call__(self, A, r):\n",
      "        N = r.shape[0]\n",
      "        L = self.L\n",
      "        LT = self.LT\n",
      "        \n",
      "        #x = zeros_like(r)\n",
      "        x = r.copy()\n",
      "        for i in xrange(N):\n",
      "            if L[i,i] != 0: x[i] = 1.0 / L[i,i] * (r[i] - L[i,:i].dot( x[:i] ))\n",
      "        \n",
      "        #res = zeros_like(r)\n",
      "        res = r.copy()\n",
      "        for i in xrange(N-1, -1, -1):\n",
      "            if LT[i,i] != 0: res[i] = 1.0 / LT[i,i] * (x[i] - LT[i,i+1:].dot( res[i+1:] ))\n",
      "        \n",
      "        return res\n",
      "    \n",
      "    \n",
      "    def factorize(self, A):\n",
      "        #start_time = default_timer()\n",
      "        N = A.shape[0]\n",
      "        L = zeros_like(A)\n",
      "        for i in xrange(N):\n",
      "            if A[i,i] != 0: L[i,i] = (A[i,i] - L[i,:i].dot( L[i,:i] ))**0.5\n",
      "            for j in xrange(i+1, N):\n",
      "                if A[j,i] != 0: L[j,i] = 1.0 / L[i,i] * (A[i,j] - L[i,:i].dot( L[j,:i] ))\n",
      "        #end_time = default_timer()\n",
      "        #print 'factorize() took {} seconds'.format(end_time - start_time)\n",
      "        return L"
     ],
     "language": "python",
     "metadata": {},
     "outputs": [],
     "prompt_number": 15
    },
    {
     "cell_type": "heading",
     "level": 3,
     "metadata": {},
     "source": [
      "Test conjugate gradients"
     ]
    },
    {
     "cell_type": "code",
     "collapsed": false,
     "input": [
      "if RUN_TESTS:\n",
      "    test_methods([CG(None), CG(jacobi_pr), CG(gauss_seidel_pr)])"
     ],
     "language": "python",
     "metadata": {},
     "outputs": [],
     "prompt_number": 16
    },
    {
     "cell_type": "heading",
     "level": 1,
     "metadata": {},
     "source": [
      "Compare solvers"
     ]
    },
    {
     "cell_type": "heading",
     "level": 3,
     "metadata": {},
     "source": [
      "Solve the \"toy problem\" for different problem sizes"
     ]
    },
    {
     "cell_type": "code",
     "collapsed": false,
     "input": [
      "if RUN_TESTS:\n",
      "    compare_methods([jacobi, gauss_seidel, steepest_descent, CG(None), CG(jacobi_pr), CG(gauss_seidel_pr)])"
     ],
     "language": "python",
     "metadata": {},
     "outputs": [],
     "prompt_number": 17
    },
    {
     "cell_type": "code",
     "collapsed": false,
     "input": [
      "compare_methods([CG(), CG(JacobiPrec()), CG(GaussSeidelPrec()), CG(IncompleteCholeskyPrec())], sizes=[10,20,30])"
     ],
     "language": "python",
     "metadata": {},
     "outputs": [
      {
       "output_type": "stream",
       "stream": "stdout",
       "text": [
        "Processing problem: 10x10...\n",
        "\tCG() is done.\n",
        "\tCG(Jac) is done.\n",
        "\tCG(GS) is done."
       ]
      },
      {
       "output_type": "stream",
       "stream": "stdout",
       "text": [
        "\n",
        "\tCG(ICh) is done.\n",
        "Processing problem: 20x20...\n",
        "\tCG() is done."
       ]
      },
      {
       "output_type": "stream",
       "stream": "stdout",
       "text": [
        "\n",
        "\tCG(Jac) is done."
       ]
      },
      {
       "output_type": "stream",
       "stream": "stdout",
       "text": [
        "\n",
        "\tCG(GS) is done."
       ]
      },
      {
       "output_type": "stream",
       "stream": "stdout",
       "text": [
        "\n",
        "\tCG(ICh) is done."
       ]
      },
      {
       "output_type": "stream",
       "stream": "stdout",
       "text": [
        "\n",
        "Processing problem: 30x30...\n",
        "\tCG() is done."
       ]
      },
      {
       "output_type": "stream",
       "stream": "stdout",
       "text": [
        "\n",
        "\tCG(Jac) is done."
       ]
      },
      {
       "output_type": "stream",
       "stream": "stdout",
       "text": [
        "\n",
        "\tCG(GS) is done."
       ]
      },
      {
       "output_type": "stream",
       "stream": "stdout",
       "text": [
        "\n",
        "\tCG(ICh) is done."
       ]
      },
      {
       "output_type": "stream",
       "stream": "stdout",
       "text": [
        "\n",
        "Finished.\n",
        "\n",
        "\n",
        "|       |          Iterations           |                       Time                        |\n",
        "|Problem| CG()  |CG(Jac)|CG(GS) |CG(ICh)|    CG()    |  CG(Jac)   |   CG(GS)   |  CG(ICh)   |\n",
        "| 10x10 |    40 |    14 |    11 |    10 |   0.017510 |   0.010149 |   0.029714 |   0.031319 |\n",
        "| 20x20 |   134 |    32 |    18 |    16 |   0.247520 |   0.107681 |   0.210672 |   0.182072 |\n",
        "| 30x30 |   164 |    48 |    26 |    22 |   0.772038 |   0.372707 |   0.699196 |   0.590879 |\n"
       ]
      }
     ],
     "prompt_number": 18
    },
    {
     "cell_type": "heading",
     "level": 3,
     "metadata": {},
     "source": [
      "Testing LSE output problems"
     ]
    },
    {
     "cell_type": "code",
     "collapsed": false,
     "input": [
      "#filename_fmt = 'lse_output/lse_r0_s1_{:02d}.txt'\n",
      "filename_fmt = '/home/meistero/Desktop/Samoa/output/lse_r0_s1_{:d}.txt'\n",
      "verbose = False\n",
      "solving_threshold = 1e-8\n",
      "comparing_threshold = 1e-5\n",
      "\n",
      "methods = [CG(), CG(JacobiPrec()), CG(IncompleteCholeskyPrec())]\n",
      "\n",
      "for i in xrange(0, sys.maxint, 2):\n",
      "    #<DEBUG>\n",
      "    if i > 23:\n",
      "        methods = [CG(), CG(JacobiPrec()), CG(IncompleteCholeskyPrec())]\n",
      "    #<\\DEBUG>\n",
      "    \n",
      "    problem_file  = filename_fmt.format(i)\n",
      "    solution_file = filename_fmt.format(i+1)\n",
      "    \n",
      "    if (not os.path.isfile(problem_file)):\n",
      "        print 'Done.'\n",
      "        break\n",
      "            \n",
      "    A, x0, b = read_problem(problem_file)\n",
      "    \n",
      "    if (os.path.isfile(solution_file)):\n",
      "        x_sol = read_problem(solution_file)[1]\n",
      "    else:\n",
      "        solution_file = None\n",
      "        x_sol = x0\n",
      "    \n",
      "    print '=' * 127\n",
      "    print 'Problem file: {}\\nSolution file: {}'.format(problem_file, solution_file)\n",
      "    print '-' * 127\n",
      "    \n",
      "    if A.size == 0:\n",
      "        print 'Skipping an empty problem...\\n'\n",
      "        continue\n",
      "    \n",
      "    iterations = {}\n",
      "    times = {}\n",
      "    problem = Problem('lse_{:02d}'.format(i), A, x0, b)\n",
      "    for method in methods:\n",
      "        x = x0.copy()\n",
      "        it, ts = solve(A, x, b, method=method, threshold=solving_threshold)\n",
      "        \n",
      "        iterations[(method, problem)] = it\n",
      "        times[(method, problem)] = ts\n",
      "        \n",
      "        x_match = is_permutation(x, x_sol, threshold=comparing_threshold)\n",
      "        print 'Method: {}\\t\\tSolutions match: {}'.format(method.__name__, x_match)\n",
      "        sys.stdout.flush()\n",
      "        \n",
      "        if verbose:\n",
      "            print 'Method: {}\\tIterations: {:5d}\\tTime: {:12.8f}'.format(method.__name__, it, ts)\n",
      "            print 'Right-hand side:     ', b\n",
      "            print 'Initial guess:       ', x0\n",
      "            print 'Solution:            ', x\n",
      "            print 'Original solution:   ', x_sol\n",
      "            print 'Solution difference: ', x - x_sol\n",
      "            \n",
      "    print\n",
      "    print_table(methods, [problem], iterations, times)\n",
      "    \n",
      "    print '\\n'\n",
      "    sys.stdout.flush()"
     ],
     "language": "python",
     "metadata": {},
     "outputs": [
      {
       "output_type": "stream",
       "stream": "stdout",
       "text": [
        "===============================================================================================================================\n",
        "Problem file: /home/meistero/Desktop/Samoa/output/lse_r0_s1_0.txt\n",
        "Solution file: /home/meistero/Desktop/Samoa/output/lse_r0_s1_1.txt\n",
        "-------------------------------------------------------------------------------------------------------------------------------\n",
        "Skipping an empty problem...\n",
        "\n",
        "===============================================================================================================================\n",
        "Problem file: /home/meistero/Desktop/Samoa/output/lse_r0_s1_2.txt\n",
        "Solution file: /home/meistero/Desktop/Samoa/output/lse_r0_s1_3.txt\n",
        "-------------------------------------------------------------------------------------------------------------------------------\n",
        "Method: CG()\t\tSolutions match: True\n"
       ]
      },
      {
       "output_type": "stream",
       "stream": "stdout",
       "text": [
        "Method: CG(Jac)\t\tSolutions match: True\n"
       ]
      },
      {
       "output_type": "stream",
       "stream": "stdout",
       "text": [
        "Method: CG(ICh)\t\tSolutions match: True\n"
       ]
      },
      {
       "output_type": "stream",
       "stream": "stdout",
       "text": [
        "\n",
        "|       |      Iterations       |                 Time                 |\n",
        "|Problem| CG()  |CG(Jac)|CG(ICh)|    CG()    |  CG(Jac)   |  CG(ICh)   |\n",
        "|lse_02 |    34 |     2 |     1 |   0.001627 |   0.000173 |   0.000199 |\n",
        "\n",
        "\n"
       ]
      },
      {
       "output_type": "stream",
       "stream": "stdout",
       "text": [
        "===============================================================================================================================\n",
        "Problem file: /home/meistero/Desktop/Samoa/output/lse_r0_s1_4.txt\n",
        "Solution file: /home/meistero/Desktop/Samoa/output/lse_r0_s1_5.txt\n",
        "-------------------------------------------------------------------------------------------------------------------------------\n",
        "Method: CG()\t\tSolutions match: True\n"
       ]
      },
      {
       "output_type": "stream",
       "stream": "stdout",
       "text": [
        "Method: CG(Jac)\t\tSolutions match: True\n"
       ]
      },
      {
       "output_type": "stream",
       "stream": "stdout",
       "text": [
        "Method: CG(ICh)\t\tSolutions match: True\n"
       ]
      },
      {
       "output_type": "stream",
       "stream": "stdout",
       "text": [
        "\n",
        "|       |      Iterations       |                 Time                 |\n",
        "|Problem| CG()  |CG(Jac)|CG(ICh)|    CG()    |  CG(Jac)   |  CG(ICh)   |\n",
        "|lse_04 |    16 |     1 |     1 |   0.000786 |   0.000167 |   0.000172 |\n",
        "\n",
        "\n"
       ]
      },
      {
       "output_type": "stream",
       "stream": "stdout",
       "text": [
        "===============================================================================================================================\n",
        "Problem file: /home/meistero/Desktop/Samoa/output/lse_r0_s1_6.txt\n",
        "Solution file: /home/meistero/Desktop/Samoa/output/lse_r0_s1_7.txt\n",
        "-------------------------------------------------------------------------------------------------------------------------------\n",
        "Method: CG()\t\tSolutions match: True\n"
       ]
      },
      {
       "output_type": "stream",
       "stream": "stdout",
       "text": [
        "Method: CG(Jac)\t\tSolutions match: True\n"
       ]
      },
      {
       "output_type": "stream",
       "stream": "stdout",
       "text": [
        "Method: CG(ICh)\t\tSolutions match: True\n"
       ]
      },
      {
       "output_type": "stream",
       "stream": "stdout",
       "text": [
        "\n",
        "|       |      Iterations       |                 Time                 |\n",
        "|Problem| CG()  |CG(Jac)|CG(ICh)|    CG()    |  CG(Jac)   |  CG(ICh)   |\n",
        "|lse_06 |   172 |     7 |     4 |   0.011111 |   0.000696 |   0.001031 |\n",
        "\n",
        "\n"
       ]
      },
      {
       "output_type": "stream",
       "stream": "stdout",
       "text": [
        "===============================================================================================================================\n",
        "Problem file: /home/meistero/Desktop/Samoa/output/lse_r0_s1_8.txt\n",
        "Solution file: /home/meistero/Desktop/Samoa/output/lse_r0_s1_9.txt\n",
        "-------------------------------------------------------------------------------------------------------------------------------\n",
        "Method: CG()\t\tSolutions match: True\n"
       ]
      },
      {
       "output_type": "stream",
       "stream": "stdout",
       "text": [
        "Method: CG(Jac)\t\tSolutions match: True\n"
       ]
      },
      {
       "output_type": "stream",
       "stream": "stdout",
       "text": [
        "Method: CG(ICh)\t\tSolutions match: True\n"
       ]
      },
      {
       "output_type": "stream",
       "stream": "stdout",
       "text": [
        "\n",
        "|       |      Iterations       |                 Time                 |\n",
        "|Problem| CG()  |CG(Jac)|CG(ICh)|    CG()    |  CG(Jac)   |  CG(ICh)   |\n",
        "|lse_08 |    81 |     9 |     7 |   0.006752 |   0.001202 |   0.002677 |\n",
        "\n",
        "\n"
       ]
      },
      {
       "output_type": "stream",
       "stream": "stdout",
       "text": [
        "===============================================================================================================================\n",
        "Problem file: /home/meistero/Desktop/Samoa/output/lse_r0_s1_10.txt\n",
        "Solution file: /home/meistero/Desktop/Samoa/output/lse_r0_s1_11.txt\n",
        "-------------------------------------------------------------------------------------------------------------------------------\n",
        "Method: CG()\t\tSolutions match: True\n"
       ]
      },
      {
       "output_type": "stream",
       "stream": "stdout",
       "text": [
        "Method: CG(Jac)\t\tSolutions match: True\n"
       ]
      },
      {
       "output_type": "stream",
       "stream": "stdout",
       "text": [
        "Method: CG(ICh)\t\tSolutions match: True\n"
       ]
      },
      {
       "output_type": "stream",
       "stream": "stdout",
       "text": [
        "\n",
        "|       |      Iterations       |                 Time                 |\n",
        "|Problem| CG()  |CG(Jac)|CG(ICh)|    CG()    |  CG(Jac)   |  CG(ICh)   |\n",
        "|lse_10 |   123 |    17 |    10 |   0.018017 |   0.004182 |   0.006559 |\n",
        "\n",
        "\n"
       ]
      },
      {
       "output_type": "stream",
       "stream": "stdout",
       "text": [
        "===============================================================================================================================\n",
        "Problem file: /home/meistero/Desktop/Samoa/output/lse_r0_s1_12.txt\n",
        "Solution file: /home/meistero/Desktop/Samoa/output/lse_r0_s1_13.txt\n",
        "-------------------------------------------------------------------------------------------------------------------------------\n",
        "Method: CG()\t\tSolutions match: True"
       ]
      },
      {
       "output_type": "stream",
       "stream": "stdout",
       "text": [
        "\n"
       ]
      },
      {
       "output_type": "stream",
       "stream": "stdout",
       "text": [
        "Method: CG(Jac)\t\tSolutions match: True\n"
       ]
      },
      {
       "output_type": "stream",
       "stream": "stdout",
       "text": [
        "Method: CG(ICh)\t\tSolutions match: True\n"
       ]
      },
      {
       "output_type": "stream",
       "stream": "stdout",
       "text": [
        "\n",
        "|       |      Iterations       |                 Time                 |\n",
        "|Problem| CG()  |CG(Jac)|CG(ICh)|    CG()    |  CG(Jac)   |  CG(ICh)   |\n",
        "|lse_12 |  2979 |    35 |    16 |   0.748648 |   0.014494 |   0.021090 |\n",
        "\n",
        "\n"
       ]
      },
      {
       "output_type": "stream",
       "stream": "stdout",
       "text": [
        "===============================================================================================================================\n",
        "Problem file: /home/meistero/Desktop/Samoa/output/lse_r0_s1_14.txt\n",
        "Solution file: /home/meistero/Desktop/Samoa/output/lse_r0_s1_15.txt\n",
        "-------------------------------------------------------------------------------------------------------------------------------\n",
        "Method: CG()\t\tSolutions match: True"
       ]
      },
      {
       "output_type": "stream",
       "stream": "stdout",
       "text": [
        "\n"
       ]
      },
      {
       "output_type": "stream",
       "stream": "stdout",
       "text": [
        "Method: CG(Jac)\t\tSolutions match: True\n"
       ]
      },
      {
       "output_type": "stream",
       "stream": "stdout",
       "text": [
        "Method: CG(ICh)\t\tSolutions match: True\n"
       ]
      },
      {
       "output_type": "stream",
       "stream": "stdout",
       "text": [
        "\n",
        "|       |      Iterations       |                 Time                 |\n",
        "|Problem| CG()  |CG(Jac)|CG(ICh)|    CG()    |  CG(Jac)   |  CG(ICh)   |\n",
        "|lse_14 |  2331 |    57 |    21 |   0.912271 |   0.037388 |   0.046387 |\n",
        "\n",
        "\n"
       ]
      },
      {
       "output_type": "stream",
       "stream": "stdout",
       "text": [
        "===============================================================================================================================\n",
        "Problem file: /home/meistero/Desktop/Samoa/output/lse_r0_s1_16.txt\n",
        "Solution file: /home/meistero/Desktop/Samoa/output/lse_r0_s1_17.txt\n",
        "-------------------------------------------------------------------------------------------------------------------------------\n",
        "Method: CG()\t\tSolutions match: True"
       ]
      },
      {
       "output_type": "stream",
       "stream": "stdout",
       "text": [
        "\n"
       ]
      },
      {
       "output_type": "stream",
       "stream": "stdout",
       "text": [
        "Method: CG(Jac)\t\tSolutions match: True\n"
       ]
      },
      {
       "output_type": "stream",
       "stream": "stdout",
       "text": [
        "Method: CG(ICh)\t\tSolutions match: True\n"
       ]
      },
      {
       "output_type": "stream",
       "stream": "stdout",
       "text": [
        "\n",
        "|       |      Iterations       |                 Time                 |\n",
        "|Problem| CG()  |CG(Jac)|CG(ICh)|    CG()    |  CG(Jac)   |  CG(ICh)   |\n",
        "|lse_16 |  3754 |    89 |    33 |   2.515293 |   0.102619 |   0.133380 |\n",
        "\n",
        "\n"
       ]
      },
      {
       "output_type": "stream",
       "stream": "stdout",
       "text": [
        "===============================================================================================================================\n",
        "Problem file: /home/meistero/Desktop/Samoa/output/lse_r0_s1_18.txt\n",
        "Solution file: /home/meistero/Desktop/Samoa/output/lse_r0_s1_19.txt\n",
        "-------------------------------------------------------------------------------------------------------------------------------\n",
        "Method: CG()\t\tSolutions match: True"
       ]
      },
      {
       "output_type": "stream",
       "stream": "stdout",
       "text": [
        "\n"
       ]
      },
      {
       "output_type": "stream",
       "stream": "stdout",
       "text": [
        "Method: CG(Jac)\t\tSolutions match: True\n"
       ]
      },
      {
       "output_type": "stream",
       "stream": "stdout",
       "text": [
        "Method: CG(ICh)\t\tSolutions match: True\n"
       ]
      },
      {
       "output_type": "stream",
       "stream": "stdout",
       "text": [
        "\n",
        "|       |      Iterations       |                 Time                 |\n",
        "|Problem| CG()  |CG(Jac)|CG(ICh)|    CG()    |  CG(Jac)   |  CG(ICh)   |\n",
        "|lse_18 |  7105 |   137 |    45 |   9.459474 |   0.310143 |   0.355411 |\n",
        "\n",
        "\n"
       ]
      },
      {
       "output_type": "stream",
       "stream": "stdout",
       "text": [
        "===============================================================================================================================\n",
        "Problem file: /home/meistero/Desktop/Samoa/output/lse_r0_s1_20.txt\n",
        "Solution file: /home/meistero/Desktop/Samoa/output/lse_r0_s1_21.txt\n",
        "-------------------------------------------------------------------------------------------------------------------------------\n",
        "Method: CG()\t\tSolutions match: True"
       ]
      },
      {
       "output_type": "stream",
       "stream": "stdout",
       "text": [
        "\n"
       ]
      },
      {
       "output_type": "stream",
       "stream": "stdout",
       "text": [
        "Method: CG(Jac)\t\tSolutions match: True\n"
       ]
      },
      {
       "output_type": "stream",
       "stream": "stdout",
       "text": [
        "Method: CG(ICh)\t\tSolutions match: True\n"
       ]
      },
      {
       "output_type": "stream",
       "stream": "stdout",
       "text": [
        "\n",
        "|       |      Iterations       |                 Time                 |\n",
        "|Problem| CG()  |CG(Jac)|CG(ICh)|    CG()    |  CG(Jac)   |  CG(ICh)   |\n",
        "|lse_20 |  6687 |   217 |    77 |  16.649116 |   0.891918 |   1.155759 |\n",
        "\n",
        "\n"
       ]
      },
      {
       "output_type": "stream",
       "stream": "stdout",
       "text": [
        "===============================================================================================================================\n",
        "Problem file: /home/meistero/Desktop/Samoa/output/lse_r0_s1_22.txt\n",
        "Solution file: /home/meistero/Desktop/Samoa/output/lse_r0_s1_23.txt\n",
        "-------------------------------------------------------------------------------------------------------------------------------\n"
       ]
      },
      {
       "ename": "KeyboardInterrupt",
       "evalue": "",
       "output_type": "pyerr",
       "traceback": [
        "\u001b[1;31m---------------------------------------------------------------------------\u001b[0m\n\u001b[1;31mKeyboardInterrupt\u001b[0m                         Traceback (most recent call last)",
        "\u001b[1;32m<ipython-input-23-63c2ea5be557>\u001b[0m in \u001b[0;36m<module>\u001b[1;34m()\u001b[0m\n\u001b[0;32m     41\u001b[0m     \u001b[1;32mfor\u001b[0m \u001b[0mmethod\u001b[0m \u001b[1;32min\u001b[0m \u001b[0mmethods\u001b[0m\u001b[1;33m:\u001b[0m\u001b[1;33m\u001b[0m\u001b[0m\n\u001b[0;32m     42\u001b[0m         \u001b[0mx\u001b[0m \u001b[1;33m=\u001b[0m \u001b[0mx0\u001b[0m\u001b[1;33m.\u001b[0m\u001b[0mcopy\u001b[0m\u001b[1;33m(\u001b[0m\u001b[1;33m)\u001b[0m\u001b[1;33m\u001b[0m\u001b[0m\n\u001b[1;32m---> 43\u001b[1;33m         \u001b[0mit\u001b[0m\u001b[1;33m,\u001b[0m \u001b[0mts\u001b[0m \u001b[1;33m=\u001b[0m \u001b[0msolve\u001b[0m\u001b[1;33m(\u001b[0m\u001b[0mA\u001b[0m\u001b[1;33m,\u001b[0m \u001b[0mx\u001b[0m\u001b[1;33m,\u001b[0m \u001b[0mb\u001b[0m\u001b[1;33m,\u001b[0m \u001b[0mmethod\u001b[0m\u001b[1;33m=\u001b[0m\u001b[0mmethod\u001b[0m\u001b[1;33m,\u001b[0m \u001b[0mthreshold\u001b[0m\u001b[1;33m=\u001b[0m\u001b[0msolving_threshold\u001b[0m\u001b[1;33m)\u001b[0m\u001b[1;33m\u001b[0m\u001b[0m\n\u001b[0m\u001b[0;32m     44\u001b[0m \u001b[1;33m\u001b[0m\u001b[0m\n\u001b[0;32m     45\u001b[0m         \u001b[0miterations\u001b[0m\u001b[1;33m[\u001b[0m\u001b[1;33m(\u001b[0m\u001b[0mmethod\u001b[0m\u001b[1;33m,\u001b[0m \u001b[0mproblem\u001b[0m\u001b[1;33m)\u001b[0m\u001b[1;33m]\u001b[0m \u001b[1;33m=\u001b[0m \u001b[0mit\u001b[0m\u001b[1;33m\u001b[0m\u001b[0m\n",
        "\u001b[1;32m<ipython-input-5-a90a0fbd5f77>\u001b[0m in \u001b[0;36msolve\u001b[1;34m(A, x, b, method, threshold)\u001b[0m\n\u001b[0;32m     24\u001b[0m     \u001b[1;32mwhile\u001b[0m \u001b[0mabs\u001b[0m\u001b[1;33m(\u001b[0m\u001b[0mres_norm\u001b[0m\u001b[1;33m)\u001b[0m \u001b[1;33m>=\u001b[0m \u001b[0mthreshold\u001b[0m \u001b[1;33m*\u001b[0m \u001b[0mb_norm\u001b[0m\u001b[1;33m:\u001b[0m\u001b[1;33m\u001b[0m\u001b[0m\n\u001b[0;32m     25\u001b[0m         \u001b[0mmethod\u001b[0m\u001b[1;33m(\u001b[0m\u001b[0mA\u001b[0m\u001b[1;33m,\u001b[0m \u001b[0mx\u001b[0m\u001b[1;33m,\u001b[0m \u001b[0mb\u001b[0m\u001b[1;33m)\u001b[0m\u001b[1;33m\u001b[0m\u001b[0m\n\u001b[1;32m---> 26\u001b[1;33m         \u001b[0mres_norm\u001b[0m \u001b[1;33m=\u001b[0m \u001b[0mnorm\u001b[0m\u001b[1;33m(\u001b[0m\u001b[0mresidual\u001b[0m\u001b[1;33m(\u001b[0m\u001b[0mA\u001b[0m\u001b[1;33m,\u001b[0m \u001b[0mx\u001b[0m\u001b[1;33m,\u001b[0m \u001b[0mb\u001b[0m\u001b[1;33m)\u001b[0m\u001b[1;33m)\u001b[0m\u001b[1;33m\u001b[0m\u001b[0m\n\u001b[0m\u001b[0;32m     27\u001b[0m         \u001b[0mi\u001b[0m \u001b[1;33m+=\u001b[0m \u001b[1;36m1\u001b[0m\u001b[1;33m\u001b[0m\u001b[0m\n\u001b[0;32m     28\u001b[0m     \u001b[0mend_time\u001b[0m \u001b[1;33m=\u001b[0m \u001b[0mdefault_timer\u001b[0m\u001b[1;33m(\u001b[0m\u001b[1;33m)\u001b[0m\u001b[1;33m\u001b[0m\u001b[0m\n",
        "\u001b[1;32m<ipython-input-5-a90a0fbd5f77>\u001b[0m in \u001b[0;36mresidual\u001b[1;34m(A, x, b)\u001b[0m\n\u001b[0;32m      4\u001b[0m     \u001b[0mr\u001b[0m \u001b[1;33m=\u001b[0m \u001b[0mempty_like\u001b[0m\u001b[1;33m(\u001b[0m\u001b[0mx\u001b[0m\u001b[1;33m)\u001b[0m\u001b[1;33m\u001b[0m\u001b[0m\n\u001b[0;32m      5\u001b[0m     \u001b[1;32mfor\u001b[0m \u001b[0mi\u001b[0m \u001b[1;32min\u001b[0m \u001b[0mxrange\u001b[0m\u001b[1;33m(\u001b[0m\u001b[0mN\u001b[0m\u001b[1;33m)\u001b[0m\u001b[1;33m:\u001b[0m\u001b[1;33m\u001b[0m\u001b[0m\n\u001b[1;32m----> 6\u001b[1;33m         \u001b[0mr\u001b[0m\u001b[1;33m[\u001b[0m\u001b[0mi\u001b[0m\u001b[1;33m]\u001b[0m \u001b[1;33m=\u001b[0m \u001b[0mb\u001b[0m\u001b[1;33m[\u001b[0m\u001b[0mi\u001b[0m\u001b[1;33m]\u001b[0m \u001b[1;33m-\u001b[0m \u001b[1;33m(\u001b[0m\u001b[0mA\u001b[0m\u001b[1;33m[\u001b[0m\u001b[0mi\u001b[0m\u001b[1;33m,\u001b[0m\u001b[1;33m:\u001b[0m\u001b[1;33m]\u001b[0m\u001b[1;33m.\u001b[0m\u001b[0mdot\u001b[0m\u001b[1;33m(\u001b[0m \u001b[0mx\u001b[0m \u001b[1;33m)\u001b[0m\u001b[1;33m)\u001b[0m\u001b[1;33m\u001b[0m\u001b[0m\n\u001b[0m\u001b[0;32m      7\u001b[0m \u001b[1;33m\u001b[0m\u001b[0m\n\u001b[0;32m      8\u001b[0m     \u001b[1;32mreturn\u001b[0m \u001b[0mr\u001b[0m\u001b[1;33m\u001b[0m\u001b[0m\n",
        "\u001b[1;31mKeyboardInterrupt\u001b[0m: "
       ]
      }
     ],
     "prompt_number": 23
    },
    {
     "cell_type": "code",
     "collapsed": false,
     "input": [],
     "language": "python",
     "metadata": {},
     "outputs": [],
     "prompt_number": 19
    }
   ],
   "metadata": {}
  }
 ]
}