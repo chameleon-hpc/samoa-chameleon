{
 "metadata": {
  "name": "",
  "signature": "sha256:d2586790ce454656ccbe4fad54935328b0ca19b4896f7a8bfbe375c0d7effd7f"
 },
 "nbformat": 3,
 "nbformat_minor": 0,
 "worksheets": [
  {
   "cells": [
    {
     "cell_type": "heading",
     "level": 2,
     "metadata": {},
     "source": [
      "Define helper functions"
     ]
    },
    {
     "cell_type": "code",
     "collapsed": false,
     "input": [
      "import random\n",
      "import numpy\n",
      "import argparse\n",
      "import math\n",
      "import matplotlib.pyplot as plt\n",
      "\n",
      "def low_freq_gauss(mu, sigma, n, frequency = 13):\n",
      "    noise_low = [max(1, int(random.gauss(mu, sigma))) for i in xrange(0, frequency)]\n",
      "    return [noise_low[i * (frequency - 1) / (n - 1)] for i in xrange(0, n)]\n",
      "\n",
      "def sin_noise(mu, sigma, n, amplitudes):\n",
      "    octaves = int(math.log(n)) + 1\n",
      "    phases = [random.random() for octave in xrange(0, octaves)]\n",
      "    f = lambda x: sum([amplitudes(octave + 1) * math.sin(2.0 * math.pi * float(2 ** (octave - 1)) * float(x) / float(n) + phases[octave]) for octave in xrange(0, octaves)])\n",
      "    return [max(1, int(mu + sigma * f(x))) for x in xrange(0, n)]\n",
      "\n",
      "def dint(arr):\n",
      "    arr_int = [0 for i in xrange(0, len(arr) + 1)]\n",
      "\n",
      "    arr_int[0] = 0\n",
      "    for i in xrange(0, len(arr)):\n",
      "        arr_int[i + 1] = arr_int[i] + arr[i]\n",
      "\n",
      "    return arr_int\n",
      "\n",
      "def dder(arr_int):\n",
      "    return [arr_int[i] - arr_int[i - 1] for i in xrange(1, len(arr_int))]\n",
      "\n",
      "def exp(X, count):\n",
      "    return X / count\n",
      "\n",
      "def var(X, X_sq, count):\n",
      "    return int(math.sqrt(X_sq - X ** 2 / count)) / count"
     ],
     "language": "python",
     "metadata": {},
     "outputs": [],
     "prompt_number": 3
    },
    {
     "cell_type": "heading",
     "level": 2,
     "metadata": {},
     "source": [
      "Define solvers"
     ]
    },
    {
     "cell_type": "code",
     "collapsed": false,
     "input": [
      "class Solver:\n",
      "    i_calls = 0\n",
      "    imbalance = 0.0\n",
      "    imbalance_sq = 0.0\n",
      "    iterations = 0\n",
      "    iterations_sq = 0\n",
      "        \n",
      "    def __repr__(self):\n",
      "        s = self.__name__.ljust(50)\n",
      "        s += \"imbalance: {0:.2f}\".format(float(self.imbalance) / self.i_calls)\n",
      "        s += \" (+/- {0:.2f}) % \".format(math.sqrt(self.imbalance_sq / self.i_calls - (self.imbalance / self.i_calls)**2))\n",
      "        s += \"iterations: {0:.2f}\".format(self.iterations / self.i_calls)\n",
      "        s += \" (+/- {0:.2f}) \".format(math.sqrt(float(self.iterations_sq) / self.i_calls - (float(self.iterations) / self.i_calls)**2))\n",
      "\n",
      "        return s\n",
      "    \n",
      "    def __call__(self, l, c, *args):\n",
      "        load_i, core_j, iterations = self.solve(l, c, *args)\n",
      "        \n",
      "        load_exact = exact(l, c)\n",
      "        \n",
      "        assert(sum(load_i) == sum(load_exact))\n",
      "        \n",
      "        n = len(l)\n",
      "        for i in xrange(0, c):\n",
      "            l_i = 0\n",
      "            for j in xrange(0, n):\n",
      "                if (core_j[j] == i):\n",
      "                    l_i += l[j]\n",
      "\n",
      "            assert(load_i[i] == l_i)\n",
      "        \n",
      "        imbalance = 100.0 * float(max(load_i) - 1) / max(load_exact) - 99.0\n",
      "        self.imbalance += imbalance\n",
      "        self.imbalance_sq += imbalance ** 2\n",
      "        self.iterations += iterations\n",
      "        self.iterations_sq += iterations ** 2\n",
      "        self.i_calls += 1\n",
      "        \n",
      "        return load_i, core_j, iterations\n",
      "        "
     ],
     "language": "python",
     "metadata": {},
     "outputs": [],
     "prompt_number": 4
    },
    {
     "cell_type": "heading",
     "level": 3,
     "metadata": {},
     "source": [
      "Exact solution"
     ]
    },
    {
     "cell_type": "code",
     "collapsed": false,
     "input": [
      "def exact(l, c):\n",
      "    n = len(l)\n",
      "\n",
      "    l_sum = sum(l)\n",
      "\n",
      "    load_i_int = [(i * l_sum) / c for i in xrange(0, c + 1)]\n",
      "    core_j = [0 for j in xrange(0, n)]\n",
      "\n",
      "    return dder(load_i_int)\n",
      "\n",
      "print exact([124,12,67,23,56,136,27,125,313,6,13,61,351,61,44], 4)"
     ],
     "language": "python",
     "metadata": {},
     "outputs": [
      {
       "output_type": "stream",
       "stream": "stdout",
       "text": [
        "[354, 355, 355, 355]\n"
       ]
      }
     ],
     "prompt_number": 5
    },
    {
     "cell_type": "heading",
     "level": 3,
     "metadata": {},
     "source": [
      "Longest processing time"
     ]
    },
    {
     "cell_type": "code",
     "collapsed": false,
     "input": [
      "class LPT(Solver):\n",
      "    def __init__(self):\n",
      "        self.__name__ = 'LPT'\n",
      "\n",
      "    def solve(self, l, c):\n",
      "        n = len(l)\n",
      "\n",
      "        load_i = [0 for i in xrange(0, c)]\n",
      "        core_j = [0 for i in xrange(0, n)]\n",
      "\n",
      "        l_sorted = sorted(zip(l, xrange(0, n)))\n",
      "        l_sorted.reverse()\n",
      "\n",
      "        for l_j in l_sorted:\n",
      "            #find core with the smallest load\n",
      "            i = numpy.argmin(load_i)\n",
      "            core_j[l_j[1]] = i\n",
      "            load_i[i] += l_j[0]\n",
      "\n",
      "        return load_i, core_j, 0\n",
      "\n",
      "lpt = LPT()\n",
      "print lpt([124,12,67,23,56,136,27,125,313,6,13,61,351,61,44], 4)"
     ],
     "language": "python",
     "metadata": {},
     "outputs": [
      {
       "output_type": "stream",
       "stream": "stdout",
       "text": [
        "([357, 353, 355, 354], [3, 2, 2, 2, 2, 2, 1, 3, 1, 0, 1, 3, 0, 2, 3], 0)\n"
       ]
      }
     ],
     "prompt_number": 6
    },
    {
     "cell_type": "heading",
     "level": 3,
     "metadata": {},
     "source": [
      "Cutoff in the middle"
     ]
    },
    {
     "cell_type": "code",
     "collapsed": false,
     "input": [
      "class Midpoint_Cutoff(Solver):\n",
      "    def __init__(self):\n",
      "        self.__name__ = 'Midpoint'\n",
      "\n",
      "    def solve(self, l, c):\n",
      "        L = dint(l)\n",
      "        n = len(l)\n",
      "\n",
      "        load_i = [0 for i in xrange(0, c)]\n",
      "        core_j = [0 for j in xrange(0, n)]\n",
      "\n",
      "        for j in xrange(0, n):\n",
      "            i = (c * (L[j] + L[j + 1])) / (2 * L[n])\n",
      "\n",
      "            load_i[i] += l[j]\n",
      "            core_j[j] = i\n",
      "\n",
      "        return load_i, core_j, 0\n",
      "\n",
      "midpoint_cutoff = Midpoint_Cutoff()\n",
      "print midpoint_cutoff([124,12,67,23,56,136,27,125,313,6,13,61,351,61,44], 4)"
     ],
     "language": "python",
     "metadata": {},
     "outputs": [
      {
       "output_type": "stream",
       "stream": "stdout",
       "text": [
        "([418, 152, 393, 456], [0, 0, 0, 0, 0, 0, 1, 1, 2, 2, 2, 2, 3, 3, 3], 0)\n"
       ]
      }
     ],
     "prompt_number": 7
    },
    {
     "cell_type": "heading",
     "level": 3,
     "metadata": {},
     "source": [
      "Iterative solution with binary search"
     ]
    },
    {
     "cell_type": "code",
     "collapsed": false,
     "input": [
      "class Iterative_Binary(Solver):\n",
      "    def __init__(self, estimator=Midpoint_Cutoff()):\n",
      "        self.__name__ = 'Iterative(Binary)'\n",
      "        self.estimator = estimator\n",
      "\n",
      "    def solve(self, l, c):\n",
      "        L = dint(l)\n",
      "        n = len(l)\n",
      "\n",
      "        load_i, core_j, iters = self.estimator(l, c)\n",
      "        load_i_int = dint(load_i) \n",
      "\n",
      "        current_max = max(load_i)\n",
      "        current_min = max(L[n] / c, max(l))\n",
      "\n",
      "        load_i_test_int = [load_i_int[i] for i in xrange(0, c + 1)]\n",
      "\n",
      "        iters = 0\n",
      "        test = (current_min + current_max) / 2\n",
      "\n",
      "        while current_max > current_min:\n",
      "            j = 0\n",
      "            for i in xrange(1, c):\n",
      "                #S_i := max(L_j; L_j \\in L and L_j < S_{i-1} + test)\n",
      "                #S_i < S_k + (i - k) * test\n",
      "\n",
      "                while j < n and L[j + 1] < load_i_test_int[i - 1] + test:\n",
      "                    j += 1\n",
      "\n",
      "                load_i_test_int[i] = L[j]\n",
      "\n",
      "            if L[n] < load_i_test_int[c - 1] + test:\n",
      "                current_max = max(dder(load_i_test_int))\n",
      "                test = (current_min + current_max) / 2\n",
      "\n",
      "                for i in xrange(1, c):\n",
      "                    load_i_int[i] = load_i_test_int[i]\n",
      "            else:\n",
      "                current_min = test\n",
      "                test = current_max\n",
      "\n",
      "            iters = iters + 1\n",
      "\n",
      "        i = 1\n",
      "        for j in xrange(1, n + 1):\n",
      "            while load_i_int[i] < L[j]:\n",
      "                i += 1\n",
      "\n",
      "            core_j[j - 1] = i - 1\n",
      "\n",
      "        return dder(load_i_int), core_j, iters\n",
      "\n",
      "iterative_binary = Iterative_Binary()\n",
      "print iterative_binary([124,12,67,23,56,136,27,125,313,6,13,61,351,61,44], 4)"
     ],
     "language": "python",
     "metadata": {},
     "outputs": [
      {
       "output_type": "stream",
       "stream": "stdout",
       "text": [
        "([445, 444, 425, 105], [0, 0, 0, 0, 0, 0, 0, 1, 1, 1, 2, 2, 2, 3, 3], 4)\n"
       ]
      }
     ],
     "prompt_number": 8
    },
    {
     "cell_type": "heading",
     "level": 3,
     "metadata": {},
     "source": [
      "Iterative solution with linear search"
     ]
    },
    {
     "cell_type": "code",
     "collapsed": false,
     "input": [
      "class Iterative_Linear(Solver):\n",
      "    def __init__(self, estimator=Midpoint_Cutoff()):\n",
      "        self.__name__ = 'Iterative(Linear)'\n",
      "        self.estimator = estimator\n",
      "\n",
      "    def solve(self, l, c):\n",
      "        L = dint(l)\n",
      "        n = len(l)\n",
      "\n",
      "        load_i, core_j, iters = self.estimator(l, c)\n",
      "        load_i_int = dint(load_i) \n",
      "\n",
      "        current_max = max(dder(load_i_int)) + 1\n",
      "\n",
      "        load_i_test_int = [load_i_int[i] for i in xrange(0, c + 1)]\n",
      "\n",
      "        iters = 0\n",
      "        converged = False\n",
      "        while(not converged):\n",
      "            j = 0\n",
      "            for i in xrange(1, c):\n",
      "                while j < n and L[j + 1] < load_i_test_int[i - 1] + current_max:\n",
      "                    j += 1\n",
      "\n",
      "                load_i_test_int[i] = L[j]\n",
      "\n",
      "            if L[n] < load_i_test_int[c - 1] + current_max:\n",
      "                current_max = max(dder(load_i_test_int))\n",
      "\n",
      "                for i in xrange(1, c):\n",
      "                    load_i_int[i] = load_i_test_int[i]\n",
      "            else:\n",
      "                converged = True\n",
      "\n",
      "            iters = iters + 1\n",
      "\n",
      "        i = 1\n",
      "        for j in xrange(1, n + 1):\n",
      "            while load_i_int[i] < L[j]:\n",
      "                i += 1\n",
      "\n",
      "            core_j[j - 1] = i - 1\n",
      "\n",
      "        return dder(load_i_int), core_j, iters\n",
      "\n",
      "iterative_linear = Iterative_Linear()\n",
      "print iterative_linear([124,12,67,23,56,136,27,125,313,6,13,61,351,61,44], 4)"
     ],
     "language": "python",
     "metadata": {},
     "outputs": [
      {
       "output_type": "stream",
       "stream": "stdout",
       "text": [
        "([445, 444, 425, 105], [0, 0, 0, 0, 0, 0, 0, 1, 1, 1, 2, 2, 2, 3, 3], 2)\n"
       ]
      }
     ],
     "prompt_number": 9
    },
    {
     "cell_type": "heading",
     "level": 3,
     "metadata": {},
     "source": [
      "Hybrid solver"
     ]
    },
    {
     "cell_type": "code",
     "collapsed": false,
     "input": [
      "class Hybrid(Solver):\n",
      "    def __init__(self, alg_global=Iterative_Binary(), alg_local=LPT(), groups=2):\n",
      "        self.alg_global = alg_global\n",
      "        self.alg_local = alg_local\n",
      "        self.groups = groups\n",
      "        self.__name__ = 'Hybrid(' + self.alg_global.__name__ + \" + \" + self.alg_local.__name__ + \")\"\n",
      "\n",
      "    def solve(self, l, c):\n",
      "        n = len(l)\n",
      "        j = 0\n",
      "\n",
      "        #use a fast, approximate algorithm to distribute the load to groups of cores\n",
      "        load_i = [0 for i in xrange(0, c)]\n",
      "        core_j = [0 for i in xrange(0, n)]\n",
      "\n",
      "        load_i_global, core_j_global, iters_global = self.alg_global(l, c)\n",
      "\n",
      "        #now, refine load balance on groups with a more precise algorithm\n",
      "        for k in xrange(0, self.groups):\n",
      "            #pick all jobs in group k\n",
      "            local_jobs = []\n",
      "            local_loads = []\n",
      "\n",
      "            for j in xrange(0, n):\n",
      "                if (k == (core_j_global[j]*self.groups)/c):\n",
      "                    local_jobs.append(j)\n",
      "                    local_loads.append(l[j])\n",
      "\n",
      "            load_i_local, core_j_local, iters_local = self.alg_local(local_loads, c/self.groups)\n",
      "\n",
      "            for i_local in xrange(0, c/self.groups):\n",
      "                load_i[(c*k)/self.groups + i_local] += load_i_local[i_local]\n",
      "\n",
      "            for j_local in xrange(0, len(local_jobs)):\n",
      "                core_j[local_jobs[j_local]] = (c*k)/self.groups + core_j_local[j_local]\n",
      "\n",
      "        return load_i, core_j, 0\n",
      "\n",
      "hybrid = Hybrid()\n",
      "print hybrid([124,12,67,23,56,136,27,125,313,6,13,61,351,61,44], 4)"
     ],
     "language": "python",
     "metadata": {},
     "outputs": [
      {
       "output_type": "stream",
       "stream": "stdout",
       "text": [
        "([442, 447, 351, 179], [1, 1, 0, 1, 0, 1, 1, 1, 0, 0, 3, 3, 2, 3, 3], 0)\n"
       ]
      }
     ],
     "prompt_number": 10
    },
    {
     "cell_type": "heading",
     "level": 2,
     "metadata": {},
     "source": [
      "Test suite"
     ]
    },
    {
     "cell_type": "code",
     "collapsed": false,
     "input": [
      "def run_test(c, n, mu, sigma, max_tests):\n",
      "    i_tests = 0\n",
      "    \n",
      "    methods = [Midpoint_Cutoff()]\n",
      "\n",
      "    if n < 512:\n",
      "        methods.append(Iterative_Linear())\n",
      "        \n",
      "    methods.append(LPT())\n",
      "    methods.append(Iterative_Binary())\n",
      "    methods.append(Hybrid(Midpoint_Cutoff(), LPT(), 4))\n",
      "        \n",
      "    while(i_tests < max_tests):\n",
      "        l = sin_noise(mu, sigma, n, lambda f: 1.0/f)\n",
      "        #l = low_freq_gauss(mu, sigma, n)\n",
      "\n",
      "        print \"Testing..\", \"avg(l_i):\", sum(l) / n, \"max(l_i):\", max(l), \"sum(l_i) / c:\", sum(l) / c\n",
      "\n",
      "        sol_exact = exact(l, c)\n",
      "        \n",
      "        for method in methods:\n",
      "            sol, empty, iters = method(l, c)\n",
      "            print method\n",
      "\n",
      "        i_tests += 1\n",
      "        print \"Test complete! (total tests:\", i_tests, \")\"\n",
      "        print \"\"\n",
      "\n",
      "    %matplotlib inline\n",
      "    for method in methods:\n",
      "        sol, empty, iters = method(l, c)\n",
      "        plt.plot(xrange(0, c), sol)"
     ],
     "language": "python",
     "metadata": {},
     "outputs": [],
     "prompt_number": 14
    },
    {
     "cell_type": "code",
     "collapsed": false,
     "input": [
      "run_test(2048, 32768, 1000, 2000, 1)"
     ],
     "language": "python",
     "metadata": {},
     "outputs": [
      {
       "output_type": "stream",
       "stream": "stdout",
       "text": [
        "Testing.. avg(l_i): 1972 max(l_i): 5485 sum(l_i) / c: 31558\n",
        "Midpoint                                          imbalance: 16.50 (+/- 0.00) % iterations: 0.00 (+/- 0.00) "
       ]
      },
      {
       "output_type": "stream",
       "stream": "stdout",
       "text": [
        "\n",
        "LPT                                               imbalance: 1.22 (+/- 0.00) % iterations: 0.00 (+/- 0.00) "
       ]
      },
      {
       "output_type": "stream",
       "stream": "stdout",
       "text": [
        "\n",
        "Iterative(Binary)                                 imbalance: 6.55 (+/- 0.00) % iterations: 16.00 (+/- 0.00) "
       ]
      },
      {
       "output_type": "stream",
       "stream": "stdout",
       "text": [
        "\n",
        "Hybrid(Midpoint + LPT)                            imbalance: 10.62 (+/- 0.00) % iterations: 0.00 (+/- 0.00) "
       ]
      },
      {
       "output_type": "stream",
       "stream": "stdout",
       "text": [
        "\n",
        "Test complete! (total tests: 1 )\n",
        "\n"
       ]
      },
      {
       "metadata": {},
       "output_type": "display_data",
       "png": "[encoded data removed]",
       "text": [
        "<matplotlib.figure.Figure at 0x7f64fba5b0d0>"
       ]
      }
     ],
     "prompt_number": 17
    },
    {
     "cell_type": "code",
     "collapsed": false,
     "input": [],
     "language": "python",
     "metadata": {},
     "outputs": [],
     "prompt_number": 12
    }
   ],
   "metadata": {}
  }
 ]
}