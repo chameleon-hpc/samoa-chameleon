{
 "metadata": {
  "name": "",
  "signature": "sha256:010b7ae3a9f862269be6e4dc009f31b74d1c1f903309c40d1ee2cb4b61bac223"
 },
 "nbformat": 3,
 "nbformat_minor": 0,
 "worksheets": [
  {
   "cells": [
    {
     "cell_type": "heading",
     "level": 1,
     "metadata": {},
     "source": [
      "General Riemann solver for Two Phase Porous Media Flow"
     ]
    },
    {
     "cell_type": "markdown",
     "metadata": {},
     "source": [
      "The conservative form of the coupled system for two-phase porous media flow is given by:\n",
      "$$\n",
      "\\Phi S_t + div \\left( \\mathbf u_w \\right) = 0 \\\\\n",
      "-\\Phi S_t + div \\left( \\mathbf u_n \\right) = 0 \\\\\n",
      "\\Rightarrow div \\left( \\mathbf u_w + \\mathbf u_n \\right) = 0\n",
      "$$\n",
      "\n",
      "where:\n",
      "$$\n",
      "\\mathbf u_w := \\lambda_w(S) \\mathbf K (-\\nabla p + \\rho_w \\mathbf g) \\\\\n",
      "\\mathbf u_n := \\lambda_n(S) \\mathbf K (-\\nabla p + \\rho_n \\mathbf g)\n",
      "$$"
     ]
    },
    {
     "cell_type": "code",
     "collapsed": false,
     "input": [
      "%pylab inline\n",
      "from sympy import *\n",
      "from sympy.plotting import plot, plot_parametric, plot3d, plot3d_parametric_surface"
     ],
     "language": "python",
     "metadata": {},
     "outputs": [
      {
       "output_type": "stream",
       "stream": "stdout",
       "text": [
        "Populating the interactive namespace from numpy and matplotlib\n"
       ]
      }
     ],
     "prompt_number": 1
    },
    {
     "cell_type": "heading",
     "level": 2,
     "metadata": {},
     "source": [
      "Obtaining a quasilinear form from the conservative form\n"
     ]
    },
    {
     "cell_type": "markdown",
     "metadata": {},
     "source": [
      "First we replace the pressure in the definition for $\\mathbf u_w$ by the total flux $\\mathbf u_w + \\mathbf u_n$:\n",
      "$$\n",
      "\\mathbf u_w = \\lambda_w(S) \\mathbf K (-\\nabla p + \\rho_w \\mathbf g) \\\\\n",
      "$$ \n",
      "We extend the equation:\n",
      "$$\n",
      "\\mathbf u_w = \\frac{\\lambda_w(S)}{\\lambda_w(S) + \\lambda_n(S)} \\left( \\lambda_w(S) + \\lambda_n(S) \\right) \\mathbf K (-\\nabla p) + \\lambda_w(S) \\rho_w \\mathbf K \\mathbf g \\\\\n",
      "$$ \n",
      "Now we can use the total flux:\n",
      "$$\n",
      "\\mathbf u_T := \\mathbf u_w + \\mathbf u_n = \\left( \\lambda_w(S) + \\lambda_n(S) \\right) \\mathbf K (-\\nabla p) + \\left( \\lambda_w(S) \\rho_w + \\lambda_n(S) \\rho_n \\right) \\mathbf K \\mathbf g \\\\\n",
      " div \\ (\\mathbf u_T) = div \\ (\\mathbf u_w + \\mathbf u_n) = 0\n",
      "$$\n",
      "and substitute in the equation:\n",
      "$$\n",
      "\\mathbf u_w = \\frac{\\lambda_w(S)}{\\lambda_w(S) + \\lambda_n(S)} \\left( \\mathbf u_T - \\left( \\lambda_w(S) \\rho_w + \\lambda_n(S) \\rho_n \\right) \\mathbf K \\mathbf g \\right) + \n",
      "\\lambda_w(S) \\rho_w \\mathbf K \\mathbf g \\\\\n",
      "%\n",
      "\\Rightarrow \\mathbf u_w = \\frac{\\lambda_w(S)}{\\lambda_w(S) + \\lambda_n(S)} \\mathbf u_T - \n",
      "\\frac{\\lambda_w(S) \\left( \\lambda_w(S) \\rho_w + \\lambda_n(S) \\rho_n \\right)}{\\lambda_w(S) + \\lambda_n(S)} \\mathbf K \\mathbf g + \\frac{\\lambda_w(S) \\rho_w \\left(\\lambda_w(S) + \\lambda_n(S) \\right)}{\\lambda_w(S) + \\lambda_n(S)} \\mathbf K \\mathbf g \\\\\n",
      "%\n",
      "\\Rightarrow \\mathbf u_w = \\frac{\\lambda_w(S)}{\\lambda_w(S) + \\lambda_n(S)} \\mathbf u_T + \n",
      "\\frac{\\lambda_w(S) \\lambda_n(S)}{\\lambda_w(S) + \\lambda_n(S)} (\\rho_w - \\rho_n) \\mathbf K \\mathbf g \n",
      "$$\n",
      "We can insert this fractional flow in the transport equation and obtain:\n",
      "$$\n",
      "\\Phi S_t + div \\left( \\frac{\\lambda_w(S)}{\\lambda_w(S) + \\lambda_n(S)} \\mathbf u_T + \n",
      "\\frac{\\lambda_w(S) \\lambda_n(S)}{\\lambda_w(S) + \\lambda_n(S)} (\\rho_w - \\rho_n) \\mathbf K \\mathbf g \\right) = 0 \\\\\n",
      "%\n",
      "\\Rightarrow \\Phi S_t + \n",
      "\\frac{\\lambda^\\prime_w(S) \\lambda_n(S) - \\lambda_w(S) \\lambda^\\prime_n(S)}{\\left( \\lambda_w(S) + \\lambda_n(S) \\right)^2} \\mathbf u_T \\nabla S + \n",
      "\\frac{\\lambda^\\prime_w(S) \\lambda_n^2(S) + \\lambda^2_w(S) \\lambda^\\prime_n(S)}{\\left( \\lambda_w(S) + \\lambda_n(S) \\right)^2} (\\rho_w - \\rho_n) \\mathbf K \\mathbf g \\nabla S + \n",
      "\\frac{\\lambda_w(S) \\lambda_n(S)}{\\lambda_w(S) + \\lambda_n(S)} (\\rho_w - \\rho_n) div \\left( \\mathbf K \\mathbf g \\right) = 0 \n",
      "$$\n",
      "A quaslinear form is the result that is no longer conservative:\n",
      "$$\n",
      "\\Phi S_t + \n",
      "\\left( \\frac{\\lambda^\\prime_w(S) \\lambda_n(S) - \\lambda_w(S) \\lambda^\\prime_n(S)}{\\left( \\lambda_w(S) + \\lambda_n(S) \\right)^2} \\mathbf u_T + \n",
      "\\frac{\\lambda^\\prime_w(S) \\lambda_n^2(S) + \\lambda^2_w(S) \\lambda^\\prime_n(S)}{\\left( \\lambda_w(S) + \\lambda_n(S) \\right)^2} (\\rho_w - \\rho_n) \\mathbf K \\mathbf g \\right) \\nabla S + \n",
      "\\frac{\\lambda_w(S) \\lambda_n(S)}{\\lambda_w(S) + \\lambda_n(S)} (\\rho_w - \\rho_n) div \\left( \\mathbf K \\mathbf g \\right) = 0 \n",
      "$$\n",
      "It can be used to compute wave speeds for analytic Riemann solutions."
     ]
    },
    {
     "cell_type": "heading",
     "level": 2,
     "metadata": {},
     "source": [
      "Computing shock speeds from the different forms\n"
     ]
    },
    {
     "cell_type": "code",
     "collapsed": false,
     "input": [
      "S, S_l, S_r, mu_w, mu_n, rho_w, rho_n = symbols('S, S_l, S_r, mu_w, mu_n, rho_w, rho_n', real=True, positive=True)\n",
      "K = MatrixSymbol('K', 3, 3)\n",
      "K_l = MatrixSymbol('K_l', 3, 3)\n",
      "K_r = MatrixSymbol('K_r', 3, 3)\n",
      "grad_p = MatrixSymbol('grad(p)', 3, 1)\n",
      "g = MatrixSymbol('g', 3, 1)\n",
      "\n",
      "lambda_w = S*S/mu_w\n",
      "lambda_n = (1-S)*(1-S)/mu_n\n",
      "\n",
      "u_w = lambda_w * K * (-grad_p + rho_w * g)\n",
      "u_n = lambda_n * K * (-grad_p + rho_n * g)"
     ],
     "language": "python",
     "metadata": {},
     "outputs": [],
     "prompt_number": 2
    },
    {
     "cell_type": "markdown",
     "metadata": {},
     "source": [
      "With a phase-upwind scheme we compute the total velocity $\\mathbf u_T$ on a cell interface as follows:\n",
      "\n",
      "$$\n",
      "\\mathbf u_T = \\mathbf u_w(S_1, \\nabla p) + \\mathbf u_n(S_2, \\nabla p) \\\\\n",
      "\\mathbf u_w(S, \\nabla p) = \\lambda_w(S) \\mathbf K (-\\nabla p + \\rho_w \\mathbf g)\n",
      "$$\n",
      "\n",
      "where\n",
      "\n",
      "$$\n",
      "S_1 = \\left\\{ \\begin{array}{ll} S_l \\qquad \\text{if} \\ \\mathbf u_w \\cdot \\mathbf n > 0 \\\\S_r \\qquad \\text{else} \\end{array} \\right.\n",
      "\\qquad \\text{and} \\qquad \n",
      "S_2 = \\left\\{ \\begin{array}{ll} S_l \\qquad \\text{if} \\ \\mathbf u_n \\cdot \\mathbf n > 0 \\\\S_r \\qquad \\text{else} \\end{array} \\right.\n",
      "$$\n",
      "\n",
      "Hence, the upwind scheme computes the phase flux on the interface either by using the saturation of the left state or the right state. This corresponds to approximating the Riemann solution with a single shock wave per phase. The speed of the shock wave can be found by application of the Rankine-Hugoniot condition. It states that the solution of a Riemann problem with the states $S_l$ and $S_r$ must have the shock speed:\n",
      "\n",
      "$$\n",
      "\\mathbf \\xi_w = \\frac{\\mathbf u_w (S_r, \\nabla p_r) - \\mathbf u_w(S_l, \\nabla p_l)}{S_r - S_l}\n",
      "$$\n",
      "\n",
      "The hard part here is computation of the pressure gradients $\\nabla p_r$ and $\\nabla p_l$ the pressure equation returns only the pressure gradient $\\nabla p$ on the cell interface. $\\nabla p_r$ and $\\nabla p_l$ are cell evaluations though, which may be very different. A simple example shows nicely that the pressure gradient is usually even discontinuous on interfaces:\n",
      "\n",
      "Consider the following Riemann problem with Neumann boundary conditions: \n",
      "\n",
      "$$\n",
      "S = \\left\\{ \\begin{array}{ll} 1 \\qquad \\text{if} \\ x < 0 \\\\0 \\qquad \\text{else} \\end{array} \\right. \\\\\n",
      "\\mathbf K \\ \\mathbf g \\neq 0\n",
      "$$\n",
      "\n",
      "Without sources, sinks or pressure conditions $\\mathbf u_T = 0$. That implies:\n",
      "\n",
      "$$\n",
      "0 = \\mathbf u_T = \\mathbf u_w + \\mathbf u_n = \\lambda_w(1) \\ \\mathbf K (-\\nabla p + \\rho_w \\mathbf g) +  \\underbrace{\\lambda_n(1)}_{=0} \\ \\mathbf K (-\\nabla p + \\rho_n \\mathbf g) \\Rightarrow \\nabla p = \\rho_w \\mathbf g \\qquad \\text{if} \\ x < 0 \\\\\n",
      "0 = \\mathbf u_T = \\mathbf u_w + \\mathbf u_n = \\underbrace{\\lambda_w(0)}_{=0} \\ \\mathbf K (-\\nabla p + \\rho_w \\mathbf g) + \\lambda_n(0) \\ \\mathbf K (-\\nabla p + \\rho_n \\mathbf g) \\Rightarrow \\nabla p = \\rho_n \\mathbf g \\qquad \\text{if} \\ x > 0\n",
      "$$\n",
      "\n",
      "So the pressure gradient is discontinuous in $x = 0$ if $\\rho_w \\neq \\rho_n$.\n",
      "\n",
      "In 1D the total flux $\\mathbf u_T$ is constant. As we can compute $\\mathbf u_T$ on the interface with the phase upwind method, we know its value everywhere and can compute $\\mathbf u_w$ on the left state and right state fluxes from the fractional flow formulation:\n",
      "\n",
      "$$\n",
      "\\mathbf u_w(S_l, \\mathbf u_T) = \\frac{\\lambda_w(S_l)}{\\lambda_w(S_l) + \\lambda_n(S_l)} ( \\mathbf u_T + \\lambda_n(S_l) (\\rho_w - \\rho_n) \\mathbf K \\mathbf g) \\\\\n",
      "\\mathbf u_w(S_r, \\mathbf u_T) = \\frac{\\lambda_w(S_r)}{\\lambda_w(S_r) + \\lambda_n(S_r)} ( \\mathbf u_T + \\lambda_n(S_r) (\\rho_w - \\rho_n) \\mathbf K \\mathbf g) \n",
      "$$\n",
      "\n",
      "With this, we can compute the shock speeds now:\n",
      "\n",
      "$$\n",
      "\\mathbf \\xi_w = \\left\\{ \\begin{array}{ll} \\frac{ \\mathbf u_w(S_r, \\mathbf u_T) - \\mathbf u_w(S_l, \\nabla p)}{S_r - S_l} \\qquad \\text{if} \\ \\mathbf u_w \\cdot \\mathbf n > 0 \\\\ \\frac{\\mathbf u_w(S_r, \\nabla p) - \\mathbf u_w(S_l, \\mathbf u_T)}{S_r - S_l} \\qquad \\text{else} \\end{array} \\right. \\\\\n",
      "\\mathbf \\xi_n = \\left\\{ \\begin{array}{ll} \\frac{ \\mathbf u_n(S_r, \\mathbf u_T) - \\mathbf u_n(S_l, \\nabla p)}{(1 - S_r) - (1 - S_l)} \\qquad \\text{if} \\ \\mathbf u_n \\cdot \\mathbf n > 0 \\\\ \\frac{\\mathbf u_n(S_r, \\nabla p) - \\mathbf u_n(S_l, \\mathbf u_T)}{(1 - S_r) - (1 - S_l)} \\qquad \\text{else} \\end{array} \\right.\n",
      "$$\n",
      "An interesting observation here is that $\\xi_w - \\xi_n = 0$ if $\\mathbf u_w \\cdot \\mathbf n = \\mathbf u_n \\cdot \\mathbf n$, therefore the shock waves will be identical if pressure-driven flow is dominant over density-driven flow."
     ]
    },
    {
     "cell_type": "code",
     "collapsed": false,
     "input": [
      "print \"Riemann velocities:\"\n",
      "\n",
      "u_T = MatrixSymbol('u_T', 3, 1)\n",
      "n = MatrixSymbol('n', 3, 1)\n",
      "\n",
      "u_w_frac = lambda_w / (lambda_w + lambda_n) * u_T + lambda_w * lambda_n / (lambda_w + lambda_n) * (rho_w - rho_n) * K * g\n",
      "u_n_frac = lambda_n / (lambda_w + lambda_n) * u_T + lambda_w * lambda_n / (lambda_w + lambda_n) * (rho_n - rho_w) * K * g\n",
      "\n",
      "xi_w = Piecewise(((u_w_frac.subs({S:S_r}) - u_w.subs({S:S_l})) / (S_r - S_l), (n * u_w.T).subs({S:S_l}) > 0), \\\n",
      "        (u_w.subs({S:S_r}) - u_w_frac.subs({S:S_l})) / (S_r - S_l), True)\n",
      "xi_n = Piecewise(((u_n_frac.subs({S:S_r}) - u_n.subs({S:S_l})) / (S_l - S_r), (n * u_n.T).subs({S:S_l}) > 0), \\\n",
      "        (u_n.subs({S:S_r}) - u_n_frac.subs({S:S_l})) / (S_l - S_r), True)\n",
      "pprint([\"xi_w = \", xi_w])\n",
      "pprint([\"xi_n = \", xi_n])\n",
      "\n",
      "print \"Upwind velocities:\"\n",
      "\n",
      "u_T_upwind = Piecewise((u_w.subs({S:S_l}), u_w.subs({S:S_l}) > 0), ((n * u_w.T).subs({S:S_r}), True)) + \\\n",
      "    Piecewise((u_n.subs({S:S_l}), u_n.subs({S:S_l}) > 0), ((n * u_n.T).subs({S:S_r}), True))\n",
      "\n",
      "pprint([\"xi_w = \", xi_w.subs({u_T:u_T_upwind})])\n",
      "pprint([\"xi_n = \", xi_n.subs({u_T:u_T_upwind})])"
     ],
     "language": "python",
     "metadata": {},
     "outputs": [
      {
       "output_type": "stream",
       "stream": "stdout",
       "text": [
        "Riemann velocities:\n",
        "\u23a1                   \u239b    2                             2          2           \n",
        "\u23a2             1     \u239c-S_l                            S\u1d63 \u22c5(-S\u1d63 + 1) \u22c5(-rho_n + \n",
        "\u23a2xi_w = , \u2500\u2500\u2500\u2500\u2500\u2500\u2500\u2500\u2500\u22c5\u239c\u2500\u2500\u2500\u2500\u2500\u2500\u22c5K\u22c5(-grad(p) + rho_w\u22c5g) + \u2500\u2500\u2500\u2500\u2500\u2500\u2500\u2500\u2500\u2500\u2500\u2500\u2500\u2500\u2500\u2500\u2500\u2500\u2500\u2500\u2500\u2500\u2500\u2500\u2500\n",
        "\u23a2         -S_l + S\u1d63 \u239c mu_w                                      \u239b  2          \n",
        "\u23a2                   \u239c                                           \u239cS\u1d63     (-S\u1d63 +\n",
        "\u23a2                   \u239c                                 mu_n\u22c5mu_w\u22c5\u239c\u2500\u2500\u2500\u2500 + \u2500\u2500\u2500\u2500\u2500\u2500\n",
        "\u23a3                   \u239d                                           \u239dmu_w      mu_\n",
        "\n",
        "                         2               \u239e\u23a4\n",
        "rho_w)                 S\u1d63                \u239f\u23a5\n",
        "\u2500\u2500\u2500\u2500\u2500\u2500\u22c5K\u22c5g + \u2500\u2500\u2500\u2500\u2500\u2500\u2500\u2500\u2500\u2500\u2500\u2500\u2500\u2500\u2500\u2500\u2500\u2500\u2500\u2500\u2500\u2500\u2500\u2500\u22c5u_T\u239f\u23a5\n",
        "   2\u239e             \u239b  2             2\u239e    \u239f\u23a5\n",
        " 1) \u239f             \u239cS\u1d63     (-S\u1d63 + 1) \u239f    \u239f\u23a5\n",
        "\u2500\u2500\u2500\u2500\u239f        mu_w\u22c5\u239c\u2500\u2500\u2500\u2500 + \u2500\u2500\u2500\u2500\u2500\u2500\u2500\u2500\u2500\u2500\u239f    \u239f\u23a5\n",
        "n   \u23a0             \u239dmu_w      mu_n   \u23a0    \u23a0\u23a6"
       ]
      },
      {
       "output_type": "stream",
       "stream": "stdout",
       "text": [
        "\n",
        "\u23a1                  \u239b                2                         2               \n",
        "\u23a2            1     \u239c       (-S\u1d63 + 1)               -(-S_l + 1)                \n",
        "\u23a2xi_n = , \u2500\u2500\u2500\u2500\u2500\u2500\u2500\u2500\u22c5\u239c\u2500\u2500\u2500\u2500\u2500\u2500\u2500\u2500\u2500\u2500\u2500\u2500\u2500\u2500\u2500\u2500\u2500\u2500\u2500\u2500\u2500\u2500\u2500\u2500\u22c5u_T + \u2500\u2500\u2500\u2500\u2500\u2500\u2500\u2500\u2500\u2500\u2500\u2500\u2500\u22c5K\u22c5(-grad(p) +\n",
        "\u23a2         S_l - S\u1d63 \u239c     \u239b  2             2\u239e            mu_n                  \n",
        "\u23a2                  \u239c     \u239cS\u1d63     (-S\u1d63 + 1) \u239f                                  \n",
        "\u23a2                  \u239cmu_n\u22c5\u239c\u2500\u2500\u2500\u2500 + \u2500\u2500\u2500\u2500\u2500\u2500\u2500\u2500\u2500\u2500\u239f                                  \n",
        "\u23a3                  \u239d     \u239dmu_w      mu_n   \u23a0                                  \n",
        "\n",
        "              2          2                    \u239e\u23a4\n",
        "            S\u1d63 \u22c5(-S\u1d63 + 1) \u22c5(rho_n - rho_w)    \u239f\u23a5\n",
        " rho_n\u22c5g) + \u2500\u2500\u2500\u2500\u2500\u2500\u2500\u2500\u2500\u2500\u2500\u2500\u2500\u2500\u2500\u2500\u2500\u2500\u2500\u2500\u2500\u2500\u2500\u2500\u2500\u2500\u2500\u2500\u2500\u2500\u22c5K\u22c5g\u239f\u23a5\n",
        "                      \u239b  2             2\u239e     \u239f\u23a5\n",
        "                      \u239cS\u1d63     (-S\u1d63 + 1) \u239f     \u239f\u23a5\n",
        "            mu_n\u22c5mu_w\u22c5\u239c\u2500\u2500\u2500\u2500 + \u2500\u2500\u2500\u2500\u2500\u2500\u2500\u2500\u2500\u2500\u239f     \u239f\u23a5\n",
        "                      \u239dmu_w      mu_n   \u23a0     \u23a0\u23a6\n",
        "Upwind velocities:\n",
        "\u23a1                   \u239b    2                             2          2           \n",
        "\u23a2             1     \u239c-S_l                            S\u1d63 \u22c5(-S\u1d63 + 1) \u22c5(-rho_n + \n",
        "\u23a2xi_w = , \u2500\u2500\u2500\u2500\u2500\u2500\u2500\u2500\u2500\u22c5\u239c\u2500\u2500\u2500\u2500\u2500\u2500\u22c5K\u22c5(-grad(p) + rho_w\u22c5g) + \u2500\u2500\u2500\u2500\u2500\u2500\u2500\u2500\u2500\u2500\u2500\u2500\u2500\u2500\u2500\u2500\u2500\u2500\u2500\u2500\u2500\u2500\u2500\u2500\u2500\n",
        "\u23a2         -S_l + S\u1d63 \u239c mu_w                                      \u239b  2          \n",
        "\u23a2                   \u239c                                           \u239cS\u1d63     (-S\u1d63 +\n",
        "\u23a2                   \u239c                                 mu_n\u22c5mu_w\u22c5\u239c\u2500\u2500\u2500\u2500 + \u2500\u2500\u2500\u2500\u2500\u2500\n",
        "\u23a3                   \u239d                                           \u239dmu_w      mu_\n",
        "\n",
        "                         2            \u239b          2                            \n",
        "rho_w)                 S\u1d63             \u239c(-S_l + 1)                           S_\n",
        "\u2500\u2500\u2500\u2500\u2500\u2500\u22c5K\u22c5g + \u2500\u2500\u2500\u2500\u2500\u2500\u2500\u2500\u2500\u2500\u2500\u2500\u2500\u2500\u2500\u2500\u2500\u2500\u2500\u2500\u2500\u2500\u2500\u2500\u22c5\u239c\u2500\u2500\u2500\u2500\u2500\u2500\u2500\u2500\u2500\u2500\u2500\u22c5K\u22c5(-grad(p) + rho_n\u22c5g) + \u2500\u2500\n",
        "   2\u239e             \u239b  2             2\u239e \u239d    mu_n                             mu\n",
        " 1) \u239f             \u239cS\u1d63     (-S\u1d63 + 1) \u239f                                         \n",
        "\u2500\u2500\u2500\u2500\u239f        mu_w\u22c5\u239c\u2500\u2500\u2500\u2500 + \u2500\u2500\u2500\u2500\u2500\u2500\u2500\u2500\u2500\u2500\u239f                                         \n",
        "n   \u23a0             \u239dmu_w      mu_n   \u23a0                                         \n",
        "\n",
        " 2                       \u239e\u239e\u23a4\n",
        "l                        \u239f\u239f\u23a5\n",
        "\u2500\u2500\u22c5K\u22c5(-grad(p) + rho_w\u22c5g)\u239f\u239f\u23a5\n",
        "_w                       \u23a0\u239f\u23a5\n",
        "                          \u239f\u23a5\n",
        "                          \u239f\u23a5\n",
        "                          \u23a0\u23a6\n",
        "\u23a1                  \u239b                2        \u239b          2                     \n",
        "\u23a2            1     \u239c       (-S\u1d63 + 1)         \u239c(-S_l + 1)                      \n",
        "\u23a2xi_n = , \u2500\u2500\u2500\u2500\u2500\u2500\u2500\u2500\u22c5\u239c\u2500\u2500\u2500\u2500\u2500\u2500\u2500\u2500\u2500\u2500\u2500\u2500\u2500\u2500\u2500\u2500\u2500\u2500\u2500\u2500\u2500\u2500\u2500\u2500\u22c5\u239c\u2500\u2500\u2500\u2500\u2500\u2500\u2500\u2500\u2500\u2500\u2500\u22c5K\u22c5(-grad(p) + rho_n\u22c5\n",
        "\u23a2         S_l - S\u1d63 \u239c     \u239b  2             2\u239e \u239d    mu_n                        \n",
        "\u23a2                  \u239c     \u239cS\u1d63     (-S\u1d63 + 1) \u239f                                  \n",
        "\u23a2                  \u239cmu_n\u22c5\u239c\u2500\u2500\u2500\u2500 + \u2500\u2500\u2500\u2500\u2500\u2500\u2500\u2500\u2500\u2500\u239f                                  \n",
        "\u23a3                  \u239d     \u239dmu_w      mu_n   \u23a0                                  \n",
        "\n",
        "        2                       \u239e              2                             2\n",
        "     S_l                        \u239f   -(-S_l + 1)                            S\u1d63 \n",
        "g) + \u2500\u2500\u2500\u2500\u22c5K\u22c5(-grad(p) + rho_w\u22c5g)\u239f + \u2500\u2500\u2500\u2500\u2500\u2500\u2500\u2500\u2500\u2500\u2500\u2500\u2500\u22c5K\u22c5(-grad(p) + rho_n\u22c5g) + \u2500\u2500\u2500\n",
        "     mu_w                       \u23a0        mu_n                                 \n",
        "                                                                              \n",
        "                                                                           mu_\n",
        "                                                                              \n",
        "\n",
        "          2                    \u239e\u23a4\n",
        "\u22c5(-S\u1d63 + 1) \u22c5(rho_n - rho_w)    \u239f\u23a5\n",
        "\u2500\u2500\u2500\u2500\u2500\u2500\u2500\u2500\u2500\u2500\u2500\u2500\u2500\u2500\u2500\u2500\u2500\u2500\u2500\u2500\u2500\u2500\u2500\u2500\u2500\u2500\u2500\u22c5K\u22c5g\u239f\u23a5\n",
        "       \u239b  2             2\u239e     \u239f\u23a5\n",
        "       \u239cS\u1d63     (-S\u1d63 + 1) \u239f     \u239f\u23a5\n",
        "n\u22c5mu_w\u22c5\u239c\u2500\u2500\u2500\u2500 + \u2500\u2500\u2500\u2500\u2500\u2500\u2500\u2500\u2500\u2500\u239f     \u239f\u23a5\n",
        "       \u239dmu_w      mu_n   \u23a0     \u23a0\u23a6\n"
       ]
      }
     ],
     "prompt_number": 3
    },
    {
     "cell_type": "code",
     "collapsed": false,
     "input": [
      "print \"Riemann velocities:\"\n",
      "\n",
      "u_T = MatrixSymbol('u_T', 3, 1)\n",
      "\n",
      "u_w = lambda_w / (lambda_w + lambda_n) * u_T + lambda_w * lambda_n / (lambda_w + lambda_n) * (rho_w - rho_n) * K * g\n",
      "u_n = lambda_n / (lambda_w + lambda_n) * u_T + lambda_w * lambda_n / (lambda_w + lambda_n) * (rho_n - rho_w) * K * g\n",
      "\n",
      "l_wl = lambda_w.subs({S:S_l})\n",
      "l_wr = lambda_w.subs({S:S_r})\n",
      "l_nl = lambda_n.subs({S:S_l})\n",
      "l_nr = lambda_n.subs({S:S_r})\n",
      "\n",
      "xi_w1, r = div(l_wl * l_nr - l_wr * l_nl, (S_r - S_l), S_l, S_r)\n",
      "xi_w2, r = div(l_wl * l_nl * (l_wr + l_nr) - l_wr * l_nr * (l_wl + l_nl), (S_r - S_l), S_l, S_r)\n",
      "xi_w = simplify(xi_w1 * u_T + xi_w2 * (rho_w - rho_n) * K * g) / ((l_wl + l_nl) * (l_wr + l_nr))\n",
      "\n",
      "xi_n1, r = div(l_nl * l_wr - l_nr * l_wl, (S_l - S_r), S_l, S_r)\n",
      "xi_n2, r = div(l_wl * l_nl * (l_wr + l_nr) - l_wr * l_nr * (l_wl + l_nl), (S_l - S_r), S_l, S_r)\n",
      "xi_n = simplify(xi_n1 * u_T + xi_n2 * (rho_n - rho_w) * K * g) / ((l_wl + l_nl) * (l_wr + l_nr))\n",
      "\n",
      "pprint([\"xi_w = \", xi_w])\n",
      "pprint([\"xi_n = \", xi_n])"
     ],
     "language": "python",
     "metadata": {},
     "outputs": [
      {
       "output_type": "stream",
       "stream": "stdout",
       "text": [
        "Riemann velocities:\n",
        "\u23a1                                                  \u239b                \u239b   2   2 \n",
        "\u23a2                            1                     \u239c(rho_n - rho_w)\u22c5\u239dS_l \u22c5S\u1d63 \u22c5\n",
        "\u23a2xi_w = , \u2500\u2500\u2500\u2500\u2500\u2500\u2500\u2500\u2500\u2500\u2500\u2500\u2500\u2500\u2500\u2500\u2500\u2500\u2500\u2500\u2500\u2500\u2500\u2500\u2500\u2500\u2500\u2500\u2500\u2500\u2500\u2500\u2500\u2500\u2500\u2500\u2500\u2500\u2500\u2500\u22c5\u239c\u2500\u2500\u2500\u2500\u2500\u2500\u2500\u2500\u2500\u2500\u2500\u2500\u2500\u2500\u2500\u2500\u2500\u2500\u2500\u2500\u2500\u2500\u2500\u2500\u2500\u2500\n",
        "\u23a2         \u239b   2             2\u239e \u239b  2             2\u239e \u239c                          \n",
        "\u23a2         \u239cS_l    (-S_l + 1) \u239f \u239cS\u1d63     (-S\u1d63 + 1) \u239f \u239d                          \n",
        "\u23a2         \u239c\u2500\u2500\u2500\u2500 + \u2500\u2500\u2500\u2500\u2500\u2500\u2500\u2500\u2500\u2500\u2500\u239f\u22c5\u239c\u2500\u2500\u2500\u2500 + \u2500\u2500\u2500\u2500\u2500\u2500\u2500\u2500\u2500\u2500\u239f                            \n",
        "\u23a3         \u239dmu_w       mu_n   \u23a0 \u239dmu_w      mu_n   \u23a0                            \n",
        "\n",
        "                                                                \u239b       3     \n",
        "(S_l\u22c5(mu_n + mu_w) + S\u1d63\u22c5(mu_n + mu_w) - 2\u22c5mu_n - 4\u22c5mu_w) + mu_w\u22c5\u239d- 2\u22c5S_l \u22c5S\u1d63 +\n",
        "\u2500\u2500\u2500\u2500\u2500\u2500\u2500\u2500\u2500\u2500\u2500\u2500\u2500\u2500\u2500\u2500\u2500\u2500\u2500\u2500\u2500\u2500\u2500\u2500\u2500\u2500\u2500\u2500\u2500\u2500\u2500\u2500\u2500\u2500\u2500\u2500\u2500\u2500\u2500\u2500\u2500\u2500\u2500\u2500\u2500\u2500\u2500\u2500\u2500\u2500\u2500\u2500\u2500\u2500\u2500\u2500\u2500\u2500\u2500\u2500\u2500\u2500\u2500\u2500\u2500\u2500\u2500\u2500\u2500\u2500\u2500\u2500\u2500\u2500\u2500\u2500\u2500\u2500\n",
        "                                                                    2     2   \n",
        "                                                                mu_n \u22c5mu_w    \n",
        "                                                                              \n",
        "                                                                              \n",
        "\n",
        "    3        2           2           3           2                      3     \n",
        " S_l  + 5\u22c5S_l \u22c5S\u1d63 - 2\u22c5S_l  - 2\u22c5S_l\u22c5S\u1d63  + 5\u22c5S_l\u22c5S\u1d63  - 4\u22c5S_l\u22c5S\u1d63 + S_l + S\u1d63  - 2\u22c5\n",
        "\u2500\u2500\u2500\u2500\u2500\u2500\u2500\u2500\u2500\u2500\u2500\u2500\u2500\u2500\u2500\u2500\u2500\u2500\u2500\u2500\u2500\u2500\u2500\u2500\u2500\u2500\u2500\u2500\u2500\u2500\u2500\u2500\u2500\u2500\u2500\u2500\u2500\u2500\u2500\u2500\u2500\u2500\u2500\u2500\u2500\u2500\u2500\u2500\u2500\u2500\u2500\u2500\u2500\u2500\u2500\u2500\u2500\u2500\u2500\u2500\u2500\u2500\u2500\u2500\u2500\u2500\u2500\u2500\u2500\u2500\u2500\u2500\u2500\u2500\u2500\u2500\u2500\u2500\n",
        "                                                                              \n",
        "                                                                              \n",
        "                                                                              \n",
        "                                                                              \n",
        "\n",
        "  2     \u239e\u239e                              \u239e\u23a4\n",
        "S\u1d63  + S\u1d63\u23a0\u23a0       2\u22c5S_l\u22c5S\u1d63 - S_l - S\u1d63    \u239f\u23a5\n",
        "\u2500\u2500\u2500\u2500\u2500\u2500\u2500\u2500\u2500\u2500\u22c5K\u22c5g + \u2500\u2500\u2500\u2500\u2500\u2500\u2500\u2500\u2500\u2500\u2500\u2500\u2500\u2500\u2500\u2500\u2500\u2500\u2500\u22c5u_T\u239f\u23a5\n",
        "                      mu_n\u22c5mu_w         \u239f\u23a5\n",
        "                                        \u23a0\u23a5\n",
        "                                         \u23a5\n",
        "                                         \u23a6"
       ]
      },
      {
       "output_type": "stream",
       "stream": "stdout",
       "text": [
        "\n",
        "\u23a1                                                  \u239b                \u239b   2   2 \n",
        "\u23a2                            1                     \u239c(rho_n - rho_w)\u22c5\u239dS_l \u22c5S\u1d63 \u22c5\n",
        "\u23a2xi_n = , \u2500\u2500\u2500\u2500\u2500\u2500\u2500\u2500\u2500\u2500\u2500\u2500\u2500\u2500\u2500\u2500\u2500\u2500\u2500\u2500\u2500\u2500\u2500\u2500\u2500\u2500\u2500\u2500\u2500\u2500\u2500\u2500\u2500\u2500\u2500\u2500\u2500\u2500\u2500\u2500\u22c5\u239c\u2500\u2500\u2500\u2500\u2500\u2500\u2500\u2500\u2500\u2500\u2500\u2500\u2500\u2500\u2500\u2500\u2500\u2500\u2500\u2500\u2500\u2500\u2500\u2500\u2500\u2500\n",
        "\u23a2         \u239b   2             2\u239e \u239b  2             2\u239e \u239c                          \n",
        "\u23a2         \u239cS_l    (-S_l + 1) \u239f \u239cS\u1d63     (-S\u1d63 + 1) \u239f \u239d                          \n",
        "\u23a2         \u239c\u2500\u2500\u2500\u2500 + \u2500\u2500\u2500\u2500\u2500\u2500\u2500\u2500\u2500\u2500\u2500\u239f\u22c5\u239c\u2500\u2500\u2500\u2500 + \u2500\u2500\u2500\u2500\u2500\u2500\u2500\u2500\u2500\u2500\u239f                            \n",
        "\u23a3         \u239dmu_w       mu_n   \u23a0 \u239dmu_w      mu_n   \u23a0                            \n",
        "\n",
        "                                                                \u239b       3     \n",
        "(S_l\u22c5(mu_n + mu_w) + S\u1d63\u22c5(mu_n + mu_w) - 2\u22c5mu_n - 4\u22c5mu_w) + mu_w\u22c5\u239d- 2\u22c5S_l \u22c5S\u1d63 +\n",
        "\u2500\u2500\u2500\u2500\u2500\u2500\u2500\u2500\u2500\u2500\u2500\u2500\u2500\u2500\u2500\u2500\u2500\u2500\u2500\u2500\u2500\u2500\u2500\u2500\u2500\u2500\u2500\u2500\u2500\u2500\u2500\u2500\u2500\u2500\u2500\u2500\u2500\u2500\u2500\u2500\u2500\u2500\u2500\u2500\u2500\u2500\u2500\u2500\u2500\u2500\u2500\u2500\u2500\u2500\u2500\u2500\u2500\u2500\u2500\u2500\u2500\u2500\u2500\u2500\u2500\u2500\u2500\u2500\u2500\u2500\u2500\u2500\u2500\u2500\u2500\u2500\u2500\u2500\n",
        "                                                                    2     2   \n",
        "                                                                mu_n \u22c5mu_w    \n",
        "                                                                              \n",
        "                                                                              \n",
        "\n",
        "    3        2           2           3           2                      3     \n",
        " S_l  + 5\u22c5S_l \u22c5S\u1d63 - 2\u22c5S_l  - 2\u22c5S_l\u22c5S\u1d63  + 5\u22c5S_l\u22c5S\u1d63  - 4\u22c5S_l\u22c5S\u1d63 + S_l + S\u1d63  - 2\u22c5\n",
        "\u2500\u2500\u2500\u2500\u2500\u2500\u2500\u2500\u2500\u2500\u2500\u2500\u2500\u2500\u2500\u2500\u2500\u2500\u2500\u2500\u2500\u2500\u2500\u2500\u2500\u2500\u2500\u2500\u2500\u2500\u2500\u2500\u2500\u2500\u2500\u2500\u2500\u2500\u2500\u2500\u2500\u2500\u2500\u2500\u2500\u2500\u2500\u2500\u2500\u2500\u2500\u2500\u2500\u2500\u2500\u2500\u2500\u2500\u2500\u2500\u2500\u2500\u2500\u2500\u2500\u2500\u2500\u2500\u2500\u2500\u2500\u2500\u2500\u2500\u2500\u2500\u2500\u2500\n",
        "                                                                              \n",
        "                                                                              \n",
        "                                                                              \n",
        "                                                                              \n",
        "\n",
        "  2     \u239e\u239e                              \u239e\u23a4\n",
        "S\u1d63  + S\u1d63\u23a0\u23a0       2\u22c5S_l\u22c5S\u1d63 - S_l - S\u1d63    \u239f\u23a5\n",
        "\u2500\u2500\u2500\u2500\u2500\u2500\u2500\u2500\u2500\u2500\u22c5K\u22c5g + \u2500\u2500\u2500\u2500\u2500\u2500\u2500\u2500\u2500\u2500\u2500\u2500\u2500\u2500\u2500\u2500\u2500\u2500\u2500\u22c5u_T\u239f\u23a5\n",
        "                      mu_n\u22c5mu_w         \u239f\u23a5\n",
        "                                        \u23a0\u23a5\n",
        "                                         \u23a5\n",
        "                                         \u23a6\n"
       ]
      }
     ],
     "prompt_number": 4
    },
    {
     "cell_type": "heading",
     "level": 2,
     "metadata": {},
     "source": [
      "Riemann solver implementation"
     ]
    },
    {
     "cell_type": "code",
     "collapsed": false,
     "input": [
      "def compute_left_shock(eq, xi, S_l, S_r):\n",
      "    S = symbols('S',real=True, positive=True)\n",
      "   \n",
      "    print \" Solve for the left shock state:\", S_l, S_r\n",
      "    \n",
      "    dxi = factor((eq - eq.subs({S:S_l})) / (S - S_l) - xi)\n",
      "    pprint(Eq(dxi, 0))\n",
      "    \n",
      "    try:\n",
      "        solutions = nroots(fraction(dxi)[0], n=20, maxsteps=1000)\n",
      "\n",
      "        print \"  Numerical solution found:\", solutions\n",
      "    except:\n",
      "        pprint(fraction(dxi)[0])\n",
      "        solutions = solve(fraction(dxi)[0], S)\n",
      "\n",
      "        print \"  Symbolic solution found:\", solutions\n",
      "  \n",
      "    S_m = S_r\n",
      "\n",
      "    #The shocks create monotonic solutions\n",
      "    for S_sol in solutions:\n",
      "        if xi.subs({S:S_sol}) <= xi.subs({S:S_l}) and ((S_l < S_r and S_l + 1.0e-8 < S_sol and S_sol < S_m - 1.0e-8) or (S_l > S_r and S_l - 1.0e-8 > S_sol and S_sol > S_m + 1.0e-8)):\n",
      "            S_m = S_sol\n",
      "    \n",
      "    if S_m == S_r:\n",
      "        xi_shock = (eq.subs({S:S_r}) - eq.subs({S:S_l})) / (S_r - S_l)\n",
      "        \n",
      "        if xi_shock <= xi.subs({S:S_l}):\n",
      "            pprint(((S_l + S_r) / 2, xi_shock))\n",
      "            return (S_l + S_r) / 2, xi_shock\n",
      "        else:\n",
      "            pprint((S_l, xi.subs({S:S_l})))\n",
      "            return (S_l, xi.subs({S:S_l}))\n",
      "    \n",
      "    pprint((S_m, xi.subs({S: S_m})))\n",
      "    return S_m, xi.subs({S: S_m})\n",
      "\n",
      "def compute_right_shock(eq, xi, S_l, S_r):\n",
      "    S = symbols('S',real=True, positive=True)\n",
      "   \n",
      "    print \" Solve for the right shock state:\", S_l, S_r\n",
      "    \n",
      "    dxi = factor((eq - eq.subs({S:S_r})) / (S - S_r) - xi)\n",
      "    pprint(Eq(dxi, 0))\n",
      "    \n",
      "    try:\n",
      "        solutions = nroots(fraction(dxi)[0], n=20, maxsteps=1000)\n",
      "\n",
      "        print \"  Numerical solution found:\", solutions\n",
      "    except:\n",
      "        solutions = solve(fraction(dxi)[0], S, filter='R')\n",
      "\n",
      "        print \"  Symbolic solution found:\", solutions\n",
      "  \n",
      "    S_m = S_l\n",
      "\n",
      "    #The shocks create monotonic solutions\n",
      "    for S_sol in solutions:\n",
      "        if xi.subs({S:S_sol}) >= xi.subs({S:S_r}) and ((S_l < S_r and S_m + 1.0e-8 < S_sol and S_sol < S_r - 1.0e-8) or (S_l > S_r and S_m - 1.0e-8 > S_sol and S_sol > S_r + 1.0e-8)):\n",
      "            S_m = S_sol\n",
      "    \n",
      "    if S_m == S_l:\n",
      "        xi_shock = (eq.subs({S:S_r}) - eq.subs({S:S_l})) / (S_r - S_l)\n",
      "        \n",
      "        if xi_shock >= xi.subs({S:S_r}):\n",
      "            pprint(((S_l + S_r) / 2, xi_shock))\n",
      "            return (S_l + S_r) / 2, xi_shock\n",
      "        else:\n",
      "            pprint((S_r, xi.subs({S:S_r})))\n",
      "            return (S_r, xi.subs({S:S_r}))\n",
      "    \n",
      "    pprint((S_m, xi.subs({S: S_m})))\n",
      "    return S_m, xi.subs({S: S_m})\n",
      "\n",
      "def Riemann(S_l, S_r, mu_w, mu_n, rho_w, rho_n, u_t, K, g, Phi, perm_model = \"quadratic\", perm_param = 2):\n",
      "    S = symbols('S',real=True,positive=True)\n",
      "\n",
      "    if (perm_model == \"linear\"):\n",
      "        lambda_w = S / mu_w \n",
      "        lambda_n = (1-S) / mu_n\n",
      "    elif (perm_model == \"quadratic\"):\n",
      "        lambda_w = S**2 / mu_w \n",
      "        lambda_n = (1-S)**2 / mu_n\n",
      "    elif (perm_model == \"brooks-corey\"):\n",
      "        lambda_w = S**2 * S ** (2 / perm_param + 1) / mu_w \n",
      "        lambda_n = (1-S)**2 * (1 - S ** (2 / perm_param + 1)) / mu_n\n",
      "    else:\n",
      "        raise ValueError(\"permeability model must be one of 'linear', 'quadratic', or 'brooks-corey'\")\n",
      "\n",
      "    eq = 1 / Phi * (lambda_w / (lambda_w + lambda_n) * u_t + (lambda_w * lambda_n) / (lambda_w + lambda_n) * (rho_w - rho_n) * K * g)\n",
      "    \n",
      "    eq = eq.factor()\n",
      "    xi = eq.diff(S)\n",
      "    \n",
      "    #find the two shocks\n",
      "    try:\n",
      "        S_1, xi_1 = compute_left_shock(eq, xi, S_l, S_r)\n",
      "        S_2, xi_2 = compute_right_shock(eq, xi, S_l, S_r)\n",
      "        plot_solution(S_l, S_r, S_1, S_2, xi, xi_1, xi_2)\n",
      "        return S_l, S_r, S_1, S_2, xi, xi_1, xi_2\n",
      "    except:\n",
      "        plot_solution(S_l, S_r, S_l, S_r, xi, xi, xi)\n",
      "        return S_l, S_r, S_l, S_r, xi, xi, xi\n",
      "    \n",
      "\n",
      "def plot_solution(S_l, S_r, S_1, S_2, xi, xi_1, xi_2):\n",
      "    S = symbols('S',real=True,positive=True)\n",
      "    x = symbols('x',real=True)\n",
      "\n",
      "    try:\n",
      "        S_a = min(max(S_l, S_r), max(min(S_l, S_r), nsolve(xi.diff(S), S_l)))\n",
      "        S_b = min(max(S_l, S_r), max(min(S_l, S_r), nsolve(xi.diff(S), S_r)))\n",
      "\n",
      "        xi_min = min(xi_1, xi_2, xi.subs({S:S_a}), xi.subs({S:S_b}))\n",
      "        xi_max = max(xi_1, xi_2, xi.subs({S:S_a}), xi.subs({S:S_b}))\n",
      "        \n",
      "        print \" Characteristic velocity:\"\n",
      "        p_v = plot_parametric((xi, S, (S, S_l, S_r)), show=False)\n",
      "        p_v[0].line_color='royalblue'\n",
      "        p_v.show()\n",
      "        \n",
      "        print \" Physical solution with shocks:\"\n",
      "        p_sol = plot_parametric((x, S_l, (x, xi_min, xi_1)), (xi_1, S, (S, S_l, S_1)), (xi, S, (S, S_1, S_2)), (xi_2, S, (S, S_2, S_r)), (x, S_r, (x, xi_2, xi_max)), show=False)\n",
      "        p_sol[0].line_color='firebrick'\n",
      "        p_sol[1].line_color='firebrick'\n",
      "        p_sol[2].line_color='firebrick'\n",
      "        p_sol[3].line_color='firebrick'\n",
      "        p_sol[4].line_color='firebrick'\n",
      "        p_sol.show()\n",
      "    except:\n",
      "        print \"  Plotting not possible!\"\n",
      "\n",
      "def write_solution(S_l, S_r, S_1, S_2, xi, xi_1, xi_2, file_name = \"out\"):\n",
      "    S = symbols('S',real=True,positive=True)\n",
      "    x = symbols('x',real=True)\n",
      "    \n",
      "    S_a = min(max(S_l, S_r), max(min(S_l, S_r), nsolve(xi.diff(S), S_l)))\n",
      "    S_b = min(max(S_l, S_r), max(min(S_l, S_r), nsolve(xi.diff(S), S_r)))\n",
      "\n",
      "    xi_min = min(xi_1, xi_2, xi.subs({S:S_a}), xi.subs({S:S_b}))\n",
      "    xi_max = max(xi_1, xi_2, xi.subs({S:S_a}), xi.subs({S:S_b}))\n",
      "\n",
      "    t = 0.0\n",
      "    dt = 1.0e4\n",
      "    \n",
      "    for i in xrange(11):\n",
      "        f = open(\"%s_%i.csv\" % (file_name, i), \"w\")\n",
      "        \n",
      "        f.write(\"X, saturation\\n\")\n",
      "        \n",
      "        f.write(\"%e,%e\\n\" % (0.5 - 0.5, S_l))\n",
      "\n",
      "        for S_test in numpy.linspace(float(S_l), float(S_r), 100):\n",
      "            if (S_l < S_r and S_test < S_1) or (S_l > S_r and S_test > S_1):\n",
      "                f.write(\"%e,%e\\n\" % (0.5 + xi_1 * t, S_test))\n",
      "            elif (S_l < S_r and S_test < S_2) or (S_l > S_r and S_test > S_2):\n",
      "                f.write(\"%e,%e\\n\" % (0.5 + xi.subs({S:S_test}) * t, S_test))\n",
      "            else:\n",
      "                f.write(\"%e,%e\\n\" % (0.5 + xi_2 * t, S_test))\n",
      "         \n",
      "        f.write(\"%e,%e\\n\" % (0.5 + 0.5, S_r))\n",
      "        \n",
      "        t += dt\n",
      "       \n",
      "        f.close()\n"
     ],
     "language": "python",
     "metadata": {},
     "outputs": [],
     "prompt_number": 5
    },
    {
     "cell_type": "code",
     "collapsed": false,
     "input": [
      "x,g = symbols('x,g',real=True)\n",
      "Phi,t,mu_w,mu_n,rho_w,rho_n = symbols('Phi,t,mu_w, mu_n,rho_w,rho_n',real=True,positive=True)\n",
      "S = Function('S',real=True,positive=True)(x)\n",
      "#K = Function('K',real=True,positive=True)(x)\n",
      "K = symbols('K',real=True,positive=True)\n",
      "S_r,S_l = symbols('Sr,Sl',real=True,positive=True)\n",
      "u_t = symbols('u_t',real=True)\n",
      "\n",
      "#mu_w = 0.3e-3; mu_n = 3.0e-3; rho_w = 312.0; rho_n = 258.64; K = 1.0e-8; g = -9.80665; S_l = 1.0; S_r = 0.0; u_t = 1e-7\n",
      "print \"Test (mu_w:0.3e-3, mu_n:3.0e-3, u_t:10^(-6), K:5.0e-12, g:0.0, Phi: 0.2):\"\n",
      "\n",
      "for perm_model in [\"linear\", \"quadratic\", \"brooks-corey\"]:\n",
      "    sol = Riemann(Rational(10, 10), Rational(0, 10), Rational(3, 1e4), Rational(3, 1e3), Rational(102518, 100), Rational(84898, 100), \\\n",
      "                  Rational(1, 1e6), Rational(5, 1e12), 0, Rational(1,5), perm_model)\n",
      "    write_solution(*sol, file_name = \"inflow_rarefaction_\" + perm_model)\n",
      "    sol = Riemann(Rational(10, 10), Rational(0, 10), Rational(3, 1e4), Rational(3, 1e3), Rational(102518, 100), Rational(84898, 100), \\\n",
      "                  Rational(-1, 1e6), Rational(5, 1e12), 0, Rational(1,5), perm_model)\n",
      "    write_solution(*sol, file_name = \"inflow_shock_\" + perm_model)\n",
      "\n",
      "print \"done.\"\n",
      "print \"\"\n",
      "\n",
      "print \"Test (mu_w:0.3e-3, mu_n:3.0e-3, u_t:0, K:5.0e-12, g:9.80665, Phi: 0.2):\"\n",
      "\n",
      "for perm_model in [\"linear\", \"quadratic\", \"brooks-corey\"]:\n",
      "    sol = Riemann(Rational(10, 10), Rational(0, 10), Rational(3, 1e4), Rational(3, 1e3), Rational(102518, 100), Rational(84898, 100), \\\n",
      "                  0, Rational(5, 1e12), Rational(980665,1e5), Rational(1,5), perm_model)\n",
      "    write_solution(*sol, file_name = \"density_rarefaction_\" + perm_model)\n",
      "    sol = Riemann(Rational(10, 10), Rational(0, 10), Rational(3, 1e4), Rational(3, 1e3), Rational(102518, 100), Rational(84898, 100), \\\n",
      "                  0, Rational(5, 1e12), Rational(-980665,1e5), Rational(1,5), perm_model)\n",
      "    write_solution(*sol, file_name = \"density_shock_\" + perm_model)\n",
      "\n",
      "print \"done.\"\n",
      "print \"\"\n",
      "\n",
      "print \"General formula:\"\n",
      "Riemann(S_l, S_r, mu_w, mu_n, rho_w, rho_n, u_t, K, 0, Phi)\n",
      "print \"done.\"\n",
      "print \"\""
     ],
     "language": "python",
     "metadata": {},
     "outputs": [
      {
       "output_type": "stream",
       "stream": "stdout",
       "text": [
        "Test (mu_w:0.3e-3, mu_n:3.0e-3, u_t:10^(-6), K:5.0e-12, g:0.0, Phi: 0.2):\n",
        " Solve for the left shock state: 1 0\n",
        "    9\u22c5(S - 1)        \n",
        "\u2500\u2500\u2500\u2500\u2500\u2500\u2500\u2500\u2500\u2500\u2500\u2500\u2500\u2500\u2500\u2500\u2500 = 0\n",
        "                2    \n",
        "200000\u22c5(9\u22c5S + 1)     \n",
        "  Numerical solution found: [1.0000000000000000000]\n",
        "(1, 1/2000000)\n",
        " Solve for the right shock state: 1 0\n",
        "      9\u22c5S           \n",
        "\u2500\u2500\u2500\u2500\u2500\u2500\u2500\u2500\u2500\u2500\u2500\u2500\u2500\u2500\u2500\u2500 = 0\n",
        "               2    \n",
        "20000\u22c5(9\u22c5S + 1)     \n",
        "  Numerical solution found: [0]\n",
        "(0, 1/20000)\n",
        " Characteristic velocity:"
       ]
      },
      {
       "output_type": "stream",
       "stream": "stdout",
       "text": [
        "\n"
       ]
      },
      {
       "metadata": {},
       "output_type": "display_data",
       "png": "[encoded data removed]",
       "text": [
        "<matplotlib.figure.Figure at 0x7f10fdc32710>"
       ]
      },
      {
       "output_type": "stream",
       "stream": "stdout",
       "text": [
        " Physical solution with shocks:\n"
       ]
      },
      {
       "output_type": "stream",
       "stream": "stderr",
       "text": [
        "/usr/local/lib/python2.7/dist-packages/sympy/plotting/plot.py:1038: RuntimeWarning: invalid value encountered in double_scalars\n",
        "  cos_theta = dot_product / (vector_a_norm * vector_b_norm)\n"
       ]
      },
      {
       "metadata": {},
       "output_type": "display_data",
       "png": "[encoded data removed]",
       "text": [
        "<matplotlib.figure.Figure at 0x7f10fdd68450>"
       ]
      },
      {
       "output_type": "stream",
       "stream": "stdout",
       "text": [
        " Solve for the left shock state: 1 0\n",
        "   -9\u22c5(S - 1)        \n",
        "\u2500\u2500\u2500\u2500\u2500\u2500\u2500\u2500\u2500\u2500\u2500\u2500\u2500\u2500\u2500\u2500\u2500 = 0\n",
        "                2    \n",
        "200000\u22c5(9\u22c5S + 1)     \n",
        "  Numerical solution found: [1.0000000000000000000]\n",
        "(1/2, -1/200000)\n",
        " Solve for the right shock state: 1 0\n",
        "     -9\u22c5S           \n",
        "\u2500\u2500\u2500\u2500\u2500\u2500\u2500\u2500\u2500\u2500\u2500\u2500\u2500\u2500\u2500\u2500 = 0\n",
        "               2    \n",
        "20000\u22c5(9\u22c5S + 1)     \n",
        "  Numerical solution found: [0]\n",
        "(1/2, -1/200000)\n",
        " Characteristic velocity:\n"
       ]
      },
      {
       "metadata": {},
       "output_type": "display_data",
       "png": "[encoded data removed]",
       "text": [
        "<matplotlib.figure.Figure at 0x7f10fb12a490>"
       ]
      },
      {
       "output_type": "stream",
       "stream": "stdout",
       "text": [
        " Physical solution with shocks:\n"
       ]
      },
      {
       "metadata": {},
       "output_type": "display_data",
       "png": "[encoded data removed]",
       "text": [
        "<matplotlib.figure.Figure at 0x7f10fdd13c10>"
       ]
      },
      {
       "output_type": "stream",
       "stream": "stdout",
       "text": [
        " Solve for the left shock state: 1 0\n",
        "         \u239b    2           \u239e     \n",
        "-(S - 1)\u22c5\u239d11\u22c5S  - 22\u22c5S + 1\u23a0     \n",
        "\u2500\u2500\u2500\u2500\u2500\u2500\u2500\u2500\u2500\u2500\u2500\u2500\u2500\u2500\u2500\u2500\u2500\u2500\u2500\u2500\u2500\u2500\u2500\u2500\u2500\u2500\u2500\u2500 = 0\n",
        "                         2      \n",
        "        \u239b    2          \u239e       \n",
        " 200000\u22c5\u239d11\u22c5S  - 2\u22c5S + 1\u23a0       \n",
        "  Numerical solution found: [0.046537410754407684553, 1.0000000000000000000, 1.9534625892455923154]\n",
        "(1, 0)\n",
        " Solve for the right shock state: 1 0\n",
        "       \u239b    2    \u239e          \n",
        "     S\u22c5\u239d11\u22c5S  - 1\u23a0          \n",
        "\u2500\u2500\u2500\u2500\u2500\u2500\u2500\u2500\u2500\u2500\u2500\u2500\u2500\u2500\u2500\u2500\u2500\u2500\u2500\u2500\u2500\u2500\u2500\u2500 = 0\n",
        "                       2    \n",
        "      \u239b    2          \u239e     \n",
        "20000\u22c5\u239d11\u22c5S  - 2\u22c5S + 1\u23a0     \n",
        "  Numerical solution found: [-0.30151134457776362265, 0, 0.30151134457776362265]\n",
        "(0.30151134457776362265, 0.000010791561975888499623)"
       ]
      },
      {
       "output_type": "stream",
       "stream": "stdout",
       "text": [
        "\n",
        " Characteristic velocity:"
       ]
      },
      {
       "output_type": "stream",
       "stream": "stdout",
       "text": [
        "\n"
       ]
      },
      {
       "metadata": {},
       "output_type": "display_data",
       "png": "[encoded data removed]",
       "text": [
        "<matplotlib.figure.Figure at 0x7f10fb5e2510>"
       ]
      },
      {
       "output_type": "stream",
       "stream": "stdout",
       "text": [
        " Physical solution with shocks:\n"
       ]
      },
      {
       "metadata": {},
       "output_type": "display_data",
       "png": "[encoded data removed]",
       "text": [
        "<matplotlib.figure.Figure at 0x7f10fdc79d90>"
       ]
      },
      {
       "output_type": "stream",
       "stream": "stdout",
       "text": [
        " Solve for the left shock state: 1 0\n",
        "        \u239b    2           \u239e    \n",
        "(S - 1)\u22c5\u239d11\u22c5S  - 22\u22c5S + 1\u23a0    \n",
        "\u2500\u2500\u2500\u2500\u2500\u2500\u2500\u2500\u2500\u2500\u2500\u2500\u2500\u2500\u2500\u2500\u2500\u2500\u2500\u2500\u2500\u2500\u2500\u2500\u2500\u2500 = 0\n",
        "                        2     \n",
        "       \u239b    2          \u239e      \n",
        "200000\u22c5\u239d11\u22c5S  - 2\u22c5S + 1\u23a0      \n",
        "  Numerical solution found: [0.046537410754407684553, 1.0000000000000000000, 1.9534625892455923154]\n",
        "(0.046537410754407684553, -5.1220221204253788675e-6)\n",
        " Solve for the right shock state: 1 0\n",
        "       \u239b    2    \u239e          \n",
        "    -S\u22c5\u239d11\u22c5S  - 1\u23a0          \n",
        "\u2500\u2500\u2500\u2500\u2500\u2500\u2500\u2500\u2500\u2500\u2500\u2500\u2500\u2500\u2500\u2500\u2500\u2500\u2500\u2500\u2500\u2500\u2500\u2500 = 0\n",
        "                       2    \n",
        "      \u239b    2          \u239e     \n",
        "20000\u22c5\u239d11\u22c5S  - 2\u22c5S + 1\u23a0     \n",
        "  Numerical solution found: [-0.30151134457776362265, 0, 0.30151134457776362265]\n",
        "(0, 0)\n",
        " Characteristic velocity:"
       ]
      },
      {
       "output_type": "stream",
       "stream": "stdout",
       "text": [
        "\n"
       ]
      },
      {
       "metadata": {},
       "output_type": "display_data",
       "png": "[encoded data removed]",
       "text": [
        "<matplotlib.figure.Figure at 0x7f10fb66a9d0>"
       ]
      },
      {
       "output_type": "stream",
       "stream": "stdout",
       "text": [
        " Physical solution with shocks:\n"
       ]
      },
      {
       "metadata": {},
       "output_type": "display_data",
       "png": "[encoded data removed]",
       "text": [
        "<matplotlib.figure.Figure at 0x7f10fb4cd690>"
       ]
      },
      {
       "output_type": "stream",
       "stream": "stdout",
       "text": [
        " Solve for the left shock state: 1 0\n",
        "       2 \u239b   5      4       3      2        \u239e    \n",
        "(S - 1) \u22c5\u239d9\u22c5S  - 9\u22c5S  - 38\u22c5S  - 2\u22c5S  - S + 1\u23a0    \n",
        "\u2500\u2500\u2500\u2500\u2500\u2500\u2500\u2500\u2500\u2500\u2500\u2500\u2500\u2500\u2500\u2500\u2500\u2500\u2500\u2500\u2500\u2500\u2500\u2500\u2500\u2500\u2500\u2500\u2500\u2500\u2500\u2500\u2500\u2500\u2500\u2500\u2500\u2500\u2500\u2500\u2500\u2500\u2500\u2500\u2500 = 0\n",
        "                                     2           \n",
        "              \u239b   4      3          \u239e            \n",
        "       200000\u22c5\u239d9\u22c5S  + 2\u22c5S  - 2\u22c5S + 1\u23a0            \n",
        "  Numerical solution found:"
       ]
      },
      {
       "output_type": "stream",
       "stream": "stdout",
       "text": [
        " [-1.5985446441035900168, -0.14444252709130883173 - 0.2904452477024394472*I, -0.14444252709130883173 + 0.2904452477024394472*I, 0.25051245002122877978, 1.0000000000000000000, 1.0000000000505293311 + 3.7647658850355738211e-10*I, 2.6369172482649789005]\n",
        "(1, 0)"
       ]
      },
      {
       "output_type": "stream",
       "stream": "stdout",
       "text": [
        "\n",
        " Solve for the right shock state: 1 0\n",
        "      3 \u239b   4          \u239e          \n",
        "     S \u22c5\u239d9\u22c5S  + 4\u22c5S - 3\u23a0          \n",
        "\u2500\u2500\u2500\u2500\u2500\u2500\u2500\u2500\u2500\u2500\u2500\u2500\u2500\u2500\u2500\u2500\u2500\u2500\u2500\u2500\u2500\u2500\u2500\u2500\u2500\u2500\u2500\u2500\u2500\u2500 = 0\n",
        "                             2    \n",
        "      \u239b   4      3          \u239e     \n",
        "20000\u22c5\u239d9\u22c5S  + 2\u22c5S  - 2\u22c5S + 1\u23a0     \n",
        "  Numerical solution found:"
       ]
      },
      {
       "output_type": "stream",
       "stream": "stdout",
       "text": [
        " [-0.92949994636866941014, -1.1991573657551723772e-22, -9.3099261018971647529e-23, 2.7384352155233159668e-22, 0.1909335922828810512 - 0.78637874635042433602*I, 0.1909335922828810512 + 0.78637874635042433602*I, 0.54763276180290730774]\n",
        "(0.54763276180290730774, 7.8756999060532710416e-6)"
       ]
      },
      {
       "output_type": "stream",
       "stream": "stdout",
       "text": [
        "\n",
        " Characteristic velocity:"
       ]
      },
      {
       "output_type": "stream",
       "stream": "stdout",
       "text": [
        "\n"
       ]
      },
      {
       "metadata": {},
       "output_type": "display_data",
       "png": "[encoded data removed]",
       "text": [
        "<matplotlib.figure.Figure at 0x7f10fb00bc90>"
       ]
      },
      {
       "output_type": "stream",
       "stream": "stdout",
       "text": [
        " Physical solution with shocks:\n"
       ]
      },
      {
       "metadata": {},
       "output_type": "display_data",
       "png": "[encoded data removed]",
       "text": [
        "<matplotlib.figure.Figure at 0x7f10faf9ef50>"
       ]
      },
      {
       "output_type": "stream",
       "stream": "stdout",
       "text": [
        " Solve for the left shock state: 1 0\n",
        "        2 \u239b   5      4       3      2        \u239e     \n",
        "-(S - 1) \u22c5\u239d9\u22c5S  - 9\u22c5S  - 38\u22c5S  - 2\u22c5S  - S + 1\u23a0     \n",
        "\u2500\u2500\u2500\u2500\u2500\u2500\u2500\u2500\u2500\u2500\u2500\u2500\u2500\u2500\u2500\u2500\u2500\u2500\u2500\u2500\u2500\u2500\u2500\u2500\u2500\u2500\u2500\u2500\u2500\u2500\u2500\u2500\u2500\u2500\u2500\u2500\u2500\u2500\u2500\u2500\u2500\u2500\u2500\u2500\u2500\u2500\u2500 = 0\n",
        "                                      2            \n",
        "               \u239b   4      3          \u239e             \n",
        "        200000\u22c5\u239d9\u22c5S  + 2\u22c5S  - 2\u22c5S + 1\u23a0             \n",
        "  Numerical solution found:"
       ]
      },
      {
       "output_type": "stream",
       "stream": "stdout",
       "text": [
        " [-1.5985446441035900168, -0.14444252709130883173 - 0.2904452477024394472*I, -0.14444252709130883173 + 0.2904452477024394472*I, 0.25051245002122877978, 1.0000000000000000000, 1.0000000000505293311 + 3.7647658850355738211e-10*I, 2.6369172482649789005]\n",
        "(0.25051245002122877978, -6.2069111903033441028e-6)"
       ]
      },
      {
       "output_type": "stream",
       "stream": "stdout",
       "text": [
        "\n",
        " Solve for the right shock state: 1 0\n",
        "      3 \u239b   4          \u239e          \n",
        "    -S \u22c5\u239d9\u22c5S  + 4\u22c5S - 3\u23a0          \n",
        "\u2500\u2500\u2500\u2500\u2500\u2500\u2500\u2500\u2500\u2500\u2500\u2500\u2500\u2500\u2500\u2500\u2500\u2500\u2500\u2500\u2500\u2500\u2500\u2500\u2500\u2500\u2500\u2500\u2500\u2500 = 0\n",
        "                             2    \n",
        "      \u239b   4      3          \u239e     \n",
        "20000\u22c5\u239d9\u22c5S  + 2\u22c5S  - 2\u22c5S + 1\u23a0     \n",
        "  Numerical solution found:"
       ]
      },
      {
       "output_type": "stream",
       "stream": "stdout",
       "text": [
        " [-0.92949994636866941014, -1.1991573657551723772e-22, -9.3099261018971647529e-23, 2.7384352155233159668e-22, 0.1909335922828810512 - 0.78637874635042433602*I, 0.1909335922828810512 + 0.78637874635042433602*I, 0.54763276180290730774]\n",
        "(0, 0)"
       ]
      },
      {
       "output_type": "stream",
       "stream": "stdout",
       "text": [
        "\n",
        " Characteristic velocity:"
       ]
      },
      {
       "output_type": "stream",
       "stream": "stdout",
       "text": [
        "\n"
       ]
      },
      {
       "metadata": {},
       "output_type": "display_data",
       "png": "[encoded data removed]",
       "text": [
        "<matplotlib.figure.Figure at 0x7f10fb515210>"
       ]
      },
      {
       "output_type": "stream",
       "stream": "stdout",
       "text": [
        " Physical solution with shocks:\n"
       ]
      },
      {
       "metadata": {},
       "output_type": "display_data",
       "png": "[encoded data removed]",
       "text": [
        "<matplotlib.figure.Figure at 0x7f10fa8ef790>"
       ]
      },
      {
       "output_type": "stream",
       "stream": "stdout",
       "text": [
        "done.\n",
        "\n",
        "Test (mu_w:0.3e-3, mu_n:3.0e-3, u_t:0, K:5.0e-12, g:9.80665, Phi: 0.2):\n",
        " Solve for the left shock state: 1 0\n",
        "   172793173\u22c5(S - 1)        \n",
        "\u2500\u2500\u2500\u2500\u2500\u2500\u2500\u2500\u2500\u2500\u2500\u2500\u2500\u2500\u2500\u2500\u2500\u2500\u2500\u2500\u2500\u2500\u2500\u2500 = 0\n",
        "                       2    \n",
        "1200000000000\u22c5(9\u22c5S + 1)     \n",
        "  Numerical solution found: [1.0000000000000000000]\n",
        "\u239b    -172793173   \u239e\n",
        "\u239c1, \u2500\u2500\u2500\u2500\u2500\u2500\u2500\u2500\u2500\u2500\u2500\u2500\u2500\u2500\u239f\n",
        "\u239d   12000000000000\u23a0\n",
        " Solve for the right shock state: 1 0\n",
        "      172793173\u22c5S          \n",
        "\u2500\u2500\u2500\u2500\u2500\u2500\u2500\u2500\u2500\u2500\u2500\u2500\u2500\u2500\u2500\u2500\u2500\u2500\u2500\u2500\u2500\u2500\u2500 = 0\n",
        "                      2    \n",
        "120000000000\u22c5(9\u22c5S + 1)     \n",
        "  Numerical solution found: [0]\n",
        "\u239b     172793173  \u239e\n",
        "\u239c0, \u2500\u2500\u2500\u2500\u2500\u2500\u2500\u2500\u2500\u2500\u2500\u2500\u2500\u239f\n",
        "\u239d   1200000000000\u23a0\n",
        " Characteristic velocity:\n"
       ]
      },
      {
       "metadata": {},
       "output_type": "display_data",
       "png": "[encoded data removed]",
       "text": [
        "<matplotlib.figure.Figure at 0x7f10fa7b3cd0>"
       ]
      },
      {
       "output_type": "stream",
       "stream": "stdout",
       "text": [
        " Physical solution with shocks:\n"
       ]
      },
      {
       "metadata": {},
       "output_type": "display_data",
       "png": "[encoded data removed]",
       "text": [
        "<matplotlib.figure.Figure at 0x7f10fa9b7a50>"
       ]
      },
      {
       "output_type": "stream",
       "stream": "stdout",
       "text": [
        " Solve for the left shock state: 1 0\n",
        "  -172793173\u22c5(S - 1)        \n",
        "\u2500\u2500\u2500\u2500\u2500\u2500\u2500\u2500\u2500\u2500\u2500\u2500\u2500\u2500\u2500\u2500\u2500\u2500\u2500\u2500\u2500\u2500\u2500\u2500 = 0\n",
        "                       2    \n",
        "1200000000000\u22c5(9\u22c5S + 1)     \n",
        "  Numerical solution found: [1.0000000000000000000]\n",
        "(1/2, 0)\n",
        " Solve for the right shock state: 1 0\n",
        "     -172793173\u22c5S          \n",
        "\u2500\u2500\u2500\u2500\u2500\u2500\u2500\u2500\u2500\u2500\u2500\u2500\u2500\u2500\u2500\u2500\u2500\u2500\u2500\u2500\u2500\u2500\u2500 = 0\n",
        "                      2    \n",
        "120000000000\u22c5(9\u22c5S + 1)     \n",
        "  Numerical solution found: [0]\n",
        "(1/2, 0)\n",
        " Characteristic velocity:\n"
       ]
      },
      {
       "metadata": {},
       "output_type": "display_data",
       "png": "[encoded data removed]",
       "text": [
        "<matplotlib.figure.Figure at 0x7f10fdc87e90>"
       ]
      },
      {
       "output_type": "stream",
       "stream": "stdout",
       "text": [
        " Physical solution with shocks:\n"
       ]
      },
      {
       "metadata": {},
       "output_type": "display_data",
       "png": "[encoded data removed]",
       "text": [
        "<matplotlib.figure.Figure at 0x7f10fa43dd50>"
       ]
      },
      {
       "output_type": "stream",
       "stream": "stdout",
       "text": [
        " Solve for the left shock state: 1 0\n",
        "                     \u239b    3      2          \u239e     \n",
        "-172793173\u22c5S\u22c5(S - 1)\u22c5\u239d11\u22c5S  - 4\u22c5S  + 5\u22c5S - 2\u23a0     \n",
        "\u2500\u2500\u2500\u2500\u2500\u2500\u2500\u2500\u2500\u2500\u2500\u2500\u2500\u2500\u2500\u2500\u2500\u2500\u2500\u2500\u2500\u2500\u2500\u2500\u2500\u2500\u2500\u2500\u2500\u2500\u2500\u2500\u2500\u2500\u2500\u2500\u2500\u2500\u2500\u2500\u2500\u2500\u2500\u2500\u2500\u2500 = 0\n",
        "                                      2           \n",
        "                     \u239b    2          \u239e            \n",
        "       1200000000000\u22c5\u239d11\u22c5S  - 2\u22c5S + 1\u23a0            \n",
        "  Numerical solution found: [-0.013608277425247778279 - 0.68190757381440331756*I, -0.013608277425247778279 + 0.68190757381440331756*I, -3.2626522339992622634e-55, 0.39085291848685919292, 1.0000000000000000000]\n",
        "(0.39085291848685919292, -7.0572133605694388894e-6)"
       ]
      },
      {
       "output_type": "stream",
       "stream": "stdout",
       "text": [
        "\n",
        " Solve for the right shock state: 1 0\n",
        "                     \u239b    3      2          \u239e     \n",
        "-172793173\u22c5S\u22c5(S - 1)\u22c5\u239d11\u22c5S  + 7\u22c5S  + 3\u22c5S - 1\u23a0     \n",
        "\u2500\u2500\u2500\u2500\u2500\u2500\u2500\u2500\u2500\u2500\u2500\u2500\u2500\u2500\u2500\u2500\u2500\u2500\u2500\u2500\u2500\u2500\u2500\u2500\u2500\u2500\u2500\u2500\u2500\u2500\u2500\u2500\u2500\u2500\u2500\u2500\u2500\u2500\u2500\u2500\u2500\u2500\u2500\u2500\u2500\u2500 = 0\n",
        "                                      2           \n",
        "                     \u239b    2          \u239e            \n",
        "       1200000000000\u22c5\u239d11\u22c5S  - 2\u22c5S + 1\u23a0            \n",
        "  Numerical solution found: [-0.42040997463409572855 - 0.5175844593874522479*I, -0.42040997463409572855 + 0.5175844593874522479*I, 3.7092061506874213857e-68, 0.20445631290455509345, 1.0000000000000000000]\n",
        "(0.20445631290455509345, 0.000017729925665573211032)"
       ]
      },
      {
       "output_type": "stream",
       "stream": "stdout",
       "text": [
        "\n",
        " Characteristic velocity:"
       ]
      },
      {
       "output_type": "stream",
       "stream": "stdout",
       "text": [
        "\n"
       ]
      },
      {
       "metadata": {},
       "output_type": "display_data",
       "png": "[encoded data removed]",
       "text": [
        "<matplotlib.figure.Figure at 0x7f10faac2210>"
       ]
      },
      {
       "output_type": "stream",
       "stream": "stdout",
       "text": [
        " Physical solution with shocks:\n"
       ]
      },
      {
       "metadata": {},
       "output_type": "display_data",
       "png": "[encoded data removed]",
       "text": [
        "<matplotlib.figure.Figure at 0x7f10faa474d0>"
       ]
      },
      {
       "output_type": "stream",
       "stream": "stdout",
       "text": [
        " Solve for the left shock state: 1 0\n",
        "                    \u239b    3      2          \u239e    \n",
        "172793173\u22c5S\u22c5(S - 1)\u22c5\u239d11\u22c5S  - 4\u22c5S  + 5\u22c5S - 2\u23a0    \n",
        "\u2500\u2500\u2500\u2500\u2500\u2500\u2500\u2500\u2500\u2500\u2500\u2500\u2500\u2500\u2500\u2500\u2500\u2500\u2500\u2500\u2500\u2500\u2500\u2500\u2500\u2500\u2500\u2500\u2500\u2500\u2500\u2500\u2500\u2500\u2500\u2500\u2500\u2500\u2500\u2500\u2500\u2500\u2500\u2500 = 0\n",
        "                                     2          \n",
        "                    \u239b    2          \u239e           \n",
        "      1200000000000\u22c5\u239d11\u22c5S  - 2\u22c5S + 1\u23a0           \n",
        "  Numerical solution found: [-0.013608277425247778279 - 0.68190757381440331756*I, -0.013608277425247778279 + 0.68190757381440331756*I, -3.2626522339992622634e-55, 0.39085291848685919292, 1.0000000000000000000]\n",
        "(1/2, 0)"
       ]
      },
      {
       "output_type": "stream",
       "stream": "stdout",
       "text": [
        "\n",
        " Solve for the right shock state: 1 0\n",
        "                    \u239b    3      2          \u239e    \n",
        "172793173\u22c5S\u22c5(S - 1)\u22c5\u239d11\u22c5S  + 7\u22c5S  + 3\u22c5S - 1\u23a0    \n",
        "\u2500\u2500\u2500\u2500\u2500\u2500\u2500\u2500\u2500\u2500\u2500\u2500\u2500\u2500\u2500\u2500\u2500\u2500\u2500\u2500\u2500\u2500\u2500\u2500\u2500\u2500\u2500\u2500\u2500\u2500\u2500\u2500\u2500\u2500\u2500\u2500\u2500\u2500\u2500\u2500\u2500\u2500\u2500\u2500 = 0\n",
        "                                     2          \n",
        "                    \u239b    2          \u239e           \n",
        "      1200000000000\u22c5\u239d11\u22c5S  - 2\u22c5S + 1\u23a0           \n",
        "  Numerical solution found: [-0.42040997463409572855 - 0.5175844593874522479*I, -0.42040997463409572855 + 0.5175844593874522479*I, 3.7092061506874213857e-68, 0.20445631290455509345, 1.0000000000000000000]\n",
        "(1/2, 0)"
       ]
      },
      {
       "output_type": "stream",
       "stream": "stdout",
       "text": [
        "\n",
        " Characteristic velocity:"
       ]
      },
      {
       "output_type": "stream",
       "stream": "stdout",
       "text": [
        "\n"
       ]
      },
      {
       "metadata": {},
       "output_type": "display_data",
       "png": "[encoded data removed]",
       "text": [
        "<matplotlib.figure.Figure at 0x7f10fb7ee050>"
       ]
      },
      {
       "output_type": "stream",
       "stream": "stdout",
       "text": [
        " Physical solution with shocks:\n"
       ]
      },
      {
       "metadata": {},
       "output_type": "display_data",
       "png": "[encoded data removed]",
       "text": [
        "<matplotlib.figure.Figure at 0x7f10fb4cd7d0>"
       ]
      },
      {
       "output_type": "stream",
       "stream": "stdout",
       "text": [
        " Solve for the left shock state: 1 0\n",
        "           3        2 \u239b    6       5      4       3      2          \u239e    \n",
        "172793173\u22c5S \u22c5(S - 1) \u22c5\u239d27\u22c5S  + 17\u22c5S  + 2\u22c5S  - 14\u22c5S  + 5\u22c5S  + 7\u22c5S - 4\u23a0    \n",
        "\u2500\u2500\u2500\u2500\u2500\u2500\u2500\u2500\u2500\u2500\u2500\u2500\u2500\u2500\u2500\u2500\u2500\u2500\u2500\u2500\u2500\u2500\u2500\u2500\u2500\u2500\u2500\u2500\u2500\u2500\u2500\u2500\u2500\u2500\u2500\u2500\u2500\u2500\u2500\u2500\u2500\u2500\u2500\u2500\u2500\u2500\u2500\u2500\u2500\u2500\u2500\u2500\u2500\u2500\u2500\u2500\u2500\u2500\u2500\u2500\u2500\u2500\u2500\u2500\u2500\u2500\u2500\u2500\u2500 = 0\n",
        "                                                     2                   \n",
        "                              \u239b   4      3          \u239e                    \n",
        "                1200000000000\u22c5\u239d9\u22c5S  + 2\u22c5S  - 2\u22c5S + 1\u23a0                    \n",
        "  Numerical solution found:"
       ]
      },
      {
       "output_type": "stream",
       "stream": "stdout",
       "text": [
        " [-0.72626071317460523312, -0.63757247131048073491 - 0.81824598285015798223*I, -0.63757247131048073491 + 0.81824598285015798223*I, -2.4333785188439247078e-22, 3.8283116029531527111e-23, 1.3797946559839174440e-22, 0.43897063417829247936 - 0.43725098053003911933*I, 0.43897063417829247936 + 0.43725098053003911933*I, 0.49383475780935211460, 1.0000000000000000000, 1.0000000000000000000]\n",
        "(0.4938347578093521146, -4.1569867628713044579e-6)"
       ]
      },
      {
       "output_type": "stream",
       "stream": "stdout",
       "text": [
        "\n",
        " Solve for the right shock state: 1 0\n",
        "           3        2 \u239b    6       5       4       3      2          \u239e    \n",
        "172793173\u22c5S \u22c5(S - 1) \u22c5\u239d27\u22c5S  + 26\u22c5S  + 13\u22c5S  - 12\u22c5S  + 3\u22c5S  + 6\u22c5S - 3\u23a0    \n",
        "\u2500\u2500\u2500\u2500\u2500\u2500\u2500\u2500\u2500\u2500\u2500\u2500\u2500\u2500\u2500\u2500\u2500\u2500\u2500\u2500\u2500\u2500\u2500\u2500\u2500\u2500\u2500\u2500\u2500\u2500\u2500\u2500\u2500\u2500\u2500\u2500\u2500\u2500\u2500\u2500\u2500\u2500\u2500\u2500\u2500\u2500\u2500\u2500\u2500\u2500\u2500\u2500\u2500\u2500\u2500\u2500\u2500\u2500\u2500\u2500\u2500\u2500\u2500\u2500\u2500\u2500\u2500\u2500\u2500\u2500 = 0\n",
        "                                                     2                    \n",
        "                              \u239b   4      3          \u239e                     \n",
        "                1200000000000\u22c5\u239d9\u22c5S  + 2\u22c5S  - 2\u22c5S + 1\u23a0                     \n",
        "  Numerical solution found:"
       ]
      },
      {
       "output_type": "stream",
       "stream": "stdout",
       "text": [
        " [-0.69128038328389047173 - 0.86116893378277270314*I, -0.69128038328389047173 + 0.86116893378277270314*I, -0.68913232556341257771, -1.4541900233031454287e-22, -4.3318760010406926241e-23, 2.1751914366907819910e-22, 0.34655220063156153678 - 0.44498512889979142117*I, 0.34655220063156153678 + 0.44498512889979142117*I, 0.41562572790510748465, 1.0000000000000000000, 1.0000000000000000000]\n",
        "(0.41562572790510748465, 5.0276584431219392415e-6)"
       ]
      },
      {
       "output_type": "stream",
       "stream": "stdout",
       "text": [
        "\n",
        " Characteristic velocity:"
       ]
      },
      {
       "output_type": "stream",
       "stream": "stdout",
       "text": [
        "\n"
       ]
      },
      {
       "metadata": {},
       "output_type": "display_data",
       "png": "[encoded data removed]",
       "text": [
        "<matplotlib.figure.Figure at 0x7f10fbb2e650>"
       ]
      },
      {
       "output_type": "stream",
       "stream": "stdout",
       "text": [
        " Physical solution with shocks:\n"
       ]
      },
      {
       "metadata": {},
       "output_type": "display_data",
       "png": "[encoded data removed]",
       "text": [
        "<matplotlib.figure.Figure at 0x7f10fa5c4750>"
       ]
      },
      {
       "output_type": "stream",
       "stream": "stdout",
       "text": [
        " Solve for the left shock state: 1 0\n",
        "            3        2 \u239b    6       5      4       3      2          \u239e     \n",
        "-172793173\u22c5S \u22c5(S - 1) \u22c5\u239d27\u22c5S  + 17\u22c5S  + 2\u22c5S  - 14\u22c5S  + 5\u22c5S  + 7\u22c5S - 4\u23a0     \n",
        "\u2500\u2500\u2500\u2500\u2500\u2500\u2500\u2500\u2500\u2500\u2500\u2500\u2500\u2500\u2500\u2500\u2500\u2500\u2500\u2500\u2500\u2500\u2500\u2500\u2500\u2500\u2500\u2500\u2500\u2500\u2500\u2500\u2500\u2500\u2500\u2500\u2500\u2500\u2500\u2500\u2500\u2500\u2500\u2500\u2500\u2500\u2500\u2500\u2500\u2500\u2500\u2500\u2500\u2500\u2500\u2500\u2500\u2500\u2500\u2500\u2500\u2500\u2500\u2500\u2500\u2500\u2500\u2500\u2500\u2500\u2500 = 0\n",
        "                                                      2                    \n",
        "                               \u239b   4      3          \u239e                     \n",
        "                 1200000000000\u22c5\u239d9\u22c5S  + 2\u22c5S  - 2\u22c5S + 1\u23a0                     \n",
        "  Numerical solution found:"
       ]
      },
      {
       "output_type": "stream",
       "stream": "stdout",
       "text": [
        " [-0.72626071317460523312, -0.63757247131048073491 - 0.81824598285015798223*I, -0.63757247131048073491 + 0.81824598285015798223*I, -2.4333785188439247078e-22, 3.8283116029531527111e-23, 1.3797946559839174440e-22, 0.43897063417829247936 - 0.43725098053003911933*I, 0.43897063417829247936 + 0.43725098053003911933*I, 0.49383475780935211460, 1.0000000000000000000, 1.0000000000000000000]\n",
        "(1/2, 0)"
       ]
      },
      {
       "output_type": "stream",
       "stream": "stdout",
       "text": [
        "\n",
        " Solve for the right shock state: 1 0\n",
        "            3        2 \u239b    6       5       4       3      2          \u239e     \n",
        "-172793173\u22c5S \u22c5(S - 1) \u22c5\u239d27\u22c5S  + 26\u22c5S  + 13\u22c5S  - 12\u22c5S  + 3\u22c5S  + 6\u22c5S - 3\u23a0     \n",
        "\u2500\u2500\u2500\u2500\u2500\u2500\u2500\u2500\u2500\u2500\u2500\u2500\u2500\u2500\u2500\u2500\u2500\u2500\u2500\u2500\u2500\u2500\u2500\u2500\u2500\u2500\u2500\u2500\u2500\u2500\u2500\u2500\u2500\u2500\u2500\u2500\u2500\u2500\u2500\u2500\u2500\u2500\u2500\u2500\u2500\u2500\u2500\u2500\u2500\u2500\u2500\u2500\u2500\u2500\u2500\u2500\u2500\u2500\u2500\u2500\u2500\u2500\u2500\u2500\u2500\u2500\u2500\u2500\u2500\u2500\u2500\u2500 = 0\n",
        "                                                      2                     \n",
        "                               \u239b   4      3          \u239e                      \n",
        "                 1200000000000\u22c5\u239d9\u22c5S  + 2\u22c5S  - 2\u22c5S + 1\u23a0                      \n",
        "  Numerical solution found:"
       ]
      },
      {
       "output_type": "stream",
       "stream": "stdout",
       "text": [
        " [-0.69128038328389047173 - 0.86116893378277270314*I, -0.69128038328389047173 + 0.86116893378277270314*I, -0.68913232556341257771, -1.4541900233031454287e-22, -4.3318760010406926241e-23, 2.1751914366907819910e-22, 0.34655220063156153678 - 0.44498512889979142117*I, 0.34655220063156153678 + 0.44498512889979142117*I, 0.41562572790510748465, 1.0000000000000000000, 1.0000000000000000000]\n",
        "(1/2, 0)"
       ]
      },
      {
       "output_type": "stream",
       "stream": "stdout",
       "text": [
        "\n",
        " Characteristic velocity:"
       ]
      },
      {
       "output_type": "stream",
       "stream": "stdout",
       "text": [
        "\n"
       ]
      },
      {
       "metadata": {},
       "output_type": "display_data",
       "png": "[encoded data removed]",
       "text": [
        "<matplotlib.figure.Figure at 0x7f10f9899650>"
       ]
      },
      {
       "output_type": "stream",
       "stream": "stdout",
       "text": [
        " Physical solution with shocks:\n"
       ]
      },
      {
       "metadata": {},
       "output_type": "display_data",
       "png": "[encoded data removed]",
       "text": [
        "<matplotlib.figure.Figure at 0x7f10f97f6190>"
       ]
      },
      {
       "output_type": "stream",
       "stream": "stdout",
       "text": [
        "done.\n",
        "\n",
        "General formula:\n",
        " Solve for the left shock state: Sl Sr\n",
        "                        \u239b   2              2            2         2           \n",
        "-mu_n\u22c5mu_w\u22c5u_t\u22c5(S - Sl)\u22c5\u239d2\u22c5S \u22c5Sl\u22c5mu_n + 2\u22c5S \u22c5Sl\u22c5mu_w - S \u22c5mu_n - S \u22c5mu_w - 2\u22c5S\n",
        "\u2500\u2500\u2500\u2500\u2500\u2500\u2500\u2500\u2500\u2500\u2500\u2500\u2500\u2500\u2500\u2500\u2500\u2500\u2500\u2500\u2500\u2500\u2500\u2500\u2500\u2500\u2500\u2500\u2500\u2500\u2500\u2500\u2500\u2500\u2500\u2500\u2500\u2500\u2500\u2500\u2500\u2500\u2500\u2500\u2500\u2500\u2500\u2500\u2500\u2500\u2500\u2500\u2500\u2500\u2500\u2500\u2500\u2500\u2500\u2500\u2500\u2500\u2500\u2500\u2500\u2500\u2500\u2500\u2500\u2500\u2500\u2500\u2500\u2500\u2500\u2500\u2500\u2500\n",
        "                                                     2                        \n",
        "                \u239b 2         2                       \u239e  \u239b  2          2        \n",
        "              \u03a6\u22c5\u239dS \u22c5mu_n + S \u22c5mu_w - 2\u22c5S\u22c5mu_w + mu_w\u23a0 \u22c5\u239dSl \u22c5mu_n + Sl \u22c5mu_w - \n",
        "\n",
        "                             \u239e     \n",
        "\u22c5Sl\u22c5mu_n - 2\u22c5S\u22c5Sl\u22c5mu_w + mu_w\u23a0     \n",
        "\u2500\u2500\u2500\u2500\u2500\u2500\u2500\u2500\u2500\u2500\u2500\u2500\u2500\u2500\u2500\u2500\u2500\u2500\u2500\u2500\u2500\u2500\u2500\u2500\u2500\u2500\u2500\u2500\u2500\u2500\u2500 = 0\n",
        "                                   \n",
        "                \u239e                  \n",
        "2\u22c5Sl\u22c5mu_w + mu_w\u23a0                  "
       ]
      },
      {
       "output_type": "stream",
       "stream": "stdout",
       "text": [
        "\n",
        "                        \u239b   2              2            2         2           \n",
        "-mu_n\u22c5mu_w\u22c5u_t\u22c5(S - Sl)\u22c5\u239d2\u22c5S \u22c5Sl\u22c5mu_n + 2\u22c5S \u22c5Sl\u22c5mu_w - S \u22c5mu_n - S \u22c5mu_w - 2\u22c5S\n",
        "\n",
        "                             \u239e\n",
        "\u22c5Sl\u22c5mu_n - 2\u22c5S\u22c5Sl\u22c5mu_w + mu_w\u23a0\n",
        "  Symbolic solution found:"
       ]
      },
      {
       "output_type": "stream",
       "stream": "stdout",
       "text": [
        " [Sl, (Sl*mu_n + Sl*mu_w - sqrt(Sl**2*mu_n**2 + 2*Sl**2*mu_n*mu_w + Sl**2*mu_w**2 - 2*Sl*mu_n*mu_w - 2*Sl*mu_w**2 + mu_n*mu_w + mu_w**2))/(2*Sl*mu_n + 2*Sl*mu_w - mu_n - mu_w), (Sl*mu_n + Sl*mu_w + sqrt(Sl**2*mu_n**2 + 2*Sl**2*mu_n*mu_w + Sl**2*mu_w**2 - 2*Sl*mu_n*mu_w - 2*Sl*mu_w**2 + mu_n*mu_w + mu_w**2))/(2*Sl*mu_n + 2*Sl*mu_w - mu_n - mu_w)]\n",
        "\u239b                            2                                            2   \n",
        "\u239c                          Sl \u22c5mu_n\u22c5u_t                                 Sr \u22c5mu\n",
        "\u239c         - \u2500\u2500\u2500\u2500\u2500\u2500\u2500\u2500\u2500\u2500\u2500\u2500\u2500\u2500\u2500\u2500\u2500\u2500\u2500\u2500\u2500\u2500\u2500\u2500\u2500\u2500\u2500\u2500\u2500\u2500\u2500\u2500\u2500\u2500\u2500\u2500\u2500\u2500\u2500\u2500\u2500\u2500 + \u2500\u2500\u2500\u2500\u2500\u2500\u2500\u2500\u2500\u2500\u2500\u2500\u2500\u2500\u2500\u2500\u2500\u2500\u2500\u2500\u2500\n",
        "\u239c             \u239b  2          2                        \u239e     \u239b  2          2    \n",
        "\u239cSl   Sr    \u03a6\u22c5\u239dSl \u22c5mu_n + Sl \u22c5mu_w - 2\u22c5Sl\u22c5mu_w + mu_w\u23a0   \u03a6\u22c5\u239dSr \u22c5mu_n + Sr \u22c5mu_\n",
        "\u239c\u2500\u2500 + \u2500\u2500, \u2500\u2500\u2500\u2500\u2500\u2500\u2500\u2500\u2500\u2500\u2500\u2500\u2500\u2500\u2500\u2500\u2500\u2500\u2500\u2500\u2500\u2500\u2500\u2500\u2500\u2500\u2500\u2500\u2500\u2500\u2500\u2500\u2500\u2500\u2500\u2500\u2500\u2500\u2500\u2500\u2500\u2500\u2500\u2500\u2500\u2500\u2500\u2500\u2500\u2500\u2500\u2500\u2500\u2500\u2500\u2500\u2500\u2500\u2500\u2500\u2500\u2500\u2500\u2500\u2500\u2500\u2500\u2500\n",
        "\u239d2    2                                            -Sl + Sr                   \n",
        "\n",
        "                     \u239e\n",
        "_n\u22c5u_t               \u239f\n",
        "\u2500\u2500\u2500\u2500\u2500\u2500\u2500\u2500\u2500\u2500\u2500\u2500\u2500\u2500\u2500\u2500\u2500\u2500\u2500\u2500\u2500\u239f\n",
        "                    \u239e\u239f\n",
        "w - 2\u22c5Sr\u22c5mu_w + mu_w\u23a0\u239f\n",
        "\u2500\u2500\u2500\u2500\u2500\u2500\u2500\u2500\u2500\u2500\u2500\u2500\u2500\u2500\u2500\u2500\u2500\u2500\u2500\u2500\u2500\u239f\n",
        "                     \u23a0\n",
        " Solve for the right shock state: Sl Sr\n",
        "                        \u239b   2              2            2         2           \n",
        "-mu_n\u22c5mu_w\u22c5u_t\u22c5(S - Sr)\u22c5\u239d2\u22c5S \u22c5Sr\u22c5mu_n + 2\u22c5S \u22c5Sr\u22c5mu_w - S \u22c5mu_n - S \u22c5mu_w - 2\u22c5S\n",
        "\u2500\u2500\u2500\u2500\u2500\u2500\u2500\u2500\u2500\u2500\u2500\u2500\u2500\u2500\u2500\u2500\u2500\u2500\u2500\u2500\u2500\u2500\u2500\u2500\u2500\u2500\u2500\u2500\u2500\u2500\u2500\u2500\u2500\u2500\u2500\u2500\u2500\u2500\u2500\u2500\u2500\u2500\u2500\u2500\u2500\u2500\u2500\u2500\u2500\u2500\u2500\u2500\u2500\u2500\u2500\u2500\u2500\u2500\u2500\u2500\u2500\u2500\u2500\u2500\u2500\u2500\u2500\u2500\u2500\u2500\u2500\u2500\u2500\u2500\u2500\u2500\u2500\u2500\n",
        "                                                     2                        \n",
        "                \u239b 2         2                       \u239e  \u239b  2          2        \n",
        "              \u03a6\u22c5\u239dS \u22c5mu_n + S \u22c5mu_w - 2\u22c5S\u22c5mu_w + mu_w\u23a0 \u22c5\u239dSr \u22c5mu_n + Sr \u22c5mu_w - \n",
        "\n",
        "                             \u239e     \n",
        "\u22c5Sr\u22c5mu_n - 2\u22c5S\u22c5Sr\u22c5mu_w + mu_w\u23a0     \n",
        "\u2500\u2500\u2500\u2500\u2500\u2500\u2500\u2500\u2500\u2500\u2500\u2500\u2500\u2500\u2500\u2500\u2500\u2500\u2500\u2500\u2500\u2500\u2500\u2500\u2500\u2500\u2500\u2500\u2500\u2500\u2500 = 0\n",
        "                                   \n",
        "                \u239e                  \n",
        "2\u22c5Sr\u22c5mu_w + mu_w\u23a0                  "
       ]
      },
      {
       "output_type": "stream",
       "stream": "stdout",
       "text": [
        "\n",
        "  Symbolic solution found:"
       ]
      },
      {
       "output_type": "stream",
       "stream": "stdout",
       "text": [
        " [Sr, (Sr*mu_n + Sr*mu_w - sqrt(Sr**2*mu_n**2 + 2*Sr**2*mu_n*mu_w + Sr**2*mu_w**2 - 2*Sr*mu_n*mu_w - 2*Sr*mu_w**2 + mu_n*mu_w + mu_w**2))/(2*Sr*mu_n + 2*Sr*mu_w - mu_n - mu_w), (Sr*mu_n + Sr*mu_w + sqrt(Sr**2*mu_n**2 + 2*Sr**2*mu_n*mu_w + Sr**2*mu_w**2 - 2*Sr*mu_n*mu_w - 2*Sr*mu_w**2 + mu_n*mu_w + mu_w**2))/(2*Sr*mu_n + 2*Sr*mu_w - mu_n - mu_w)]\n",
        "\u239b      2                                                                      \n",
        "\u239c    Sr \u22c5mu_n\u22c5u_t\u22c5(-2\u22c5Sr\u22c5mu_n - 2\u22c5Sr\u22c5mu_w + 2\u22c5mu_w)                 2\u22c5Sr\u22c5mu_n\u22c5\n",
        "\u239cSr, \u2500\u2500\u2500\u2500\u2500\u2500\u2500\u2500\u2500\u2500\u2500\u2500\u2500\u2500\u2500\u2500\u2500\u2500\u2500\u2500\u2500\u2500\u2500\u2500\u2500\u2500\u2500\u2500\u2500\u2500\u2500\u2500\u2500\u2500\u2500\u2500\u2500\u2500\u2500\u2500\u2500\u2500\u2500\u2500\u2500\u2500 + \u2500\u2500\u2500\u2500\u2500\u2500\u2500\u2500\u2500\u2500\u2500\u2500\u2500\u2500\u2500\u2500\u2500\u2500\u2500\u2500\u2500\u2500\u2500\u2500\n",
        "\u239c                                               2       \u239b  2          2       \n",
        "\u239c       \u239b  2          2                        \u239e      \u03a6\u22c5\u239dSr \u22c5mu_n + Sr \u22c5mu_w -\n",
        "\u239d     \u03a6\u22c5\u239dSr \u22c5mu_n + Sr \u22c5mu_w - 2\u22c5Sr\u22c5mu_w + mu_w\u23a0                              \n",
        "\n",
        "                  \u239e\n",
        "u_t               \u239f\n",
        "\u2500\u2500\u2500\u2500\u2500\u2500\u2500\u2500\u2500\u2500\u2500\u2500\u2500\u2500\u2500\u2500\u2500\u2500\u239f\n",
        "                 \u239e\u239f\n",
        " 2\u22c5Sr\u22c5mu_w + mu_w\u23a0\u239f\n",
        "                  \u23a0\n",
        "  Plotting not possible!"
       ]
      },
      {
       "output_type": "stream",
       "stream": "stdout",
       "text": [
        "\n",
        "done.\n",
        "\n"
       ]
      }
     ],
     "prompt_number": 6
    },
    {
     "cell_type": "heading",
     "level": 2,
     "metadata": {},
     "source": [
      "Exact solution of the 1D pressure equation"
     ]
    },
    {
     "cell_type": "markdown",
     "metadata": {},
     "source": [
      "The pressure equation is given by:\n",
      "\n",
      "$$\n",
      "div \\left( \\mathbf u_w + \\mathbf u_n \\right) = 0\n",
      "$$\n",
      "\n",
      "where $q_w$, $q_n$ are source terms and the fluxes $\\mathbf u_w, \\mathbf u_w$ are defined by:\n",
      "$$\n",
      "\\mathbf u_w := \\lambda_w(S) \\mathbf K (-\\nabla p + \\rho_w \\mathbf g) \\\\\n",
      "\\mathbf u_n := \\lambda_n(S) \\mathbf K (-\\nabla p + \\rho_n \\mathbf g)\n",
      "$$\n",
      "Here we consider only a simplified system without capillary pressure.\n",
      "\n",
      "We assume now a 1D domain $[a, b]$ and the following boundary conditions:\n",
      "$$\n",
      "p = p_0 \\text{ on } x = a\\\\\n",
      "\\mathbf u_w + \\mathbf u_n = \\mathbf u_b \\text{ on } x = b\n",
      "$$\n",
      "\n",
      "In 1D we can solve directly for the total flux:\n",
      "$$div \\left( \\mathbf u_w + \\mathbf u_n \\right) = 0\n",
      "\\Rightarrow \\mathbf u_w + \\mathbf u_n = const \\\\\n",
      "\\mathbf u_w + \\mathbf u_n = \\mathbf u_b \\text{ on } x = b$$\n",
      "and obtain \n",
      "$$\\mathbf u_w + \\mathbf u_n = \\mathbf u_b \\text{ everywhere}$$\n",
      "\n",
      "The fluxes can now be computed with the fractional flow formulation:\n",
      "$$\n",
      "\\mathbf u_w = \\frac{\\lambda_w(S)}{\\lambda_w(S) + \\lambda_n(S)} \\left( \\mathbf u_w + \\mathbf u_n \\right) + \n",
      "\\frac{\\lambda_w(S) \\lambda_n(S)}{\\lambda_w(S) + \\lambda_n(S)} (\\rho_w - \\rho_n) \\mathbf K \\mathbf g\n",
      "$$\n",
      "The solution is then:\n",
      "$$\n",
      "\\mathbf u_w = \\frac{\\lambda_w(S)}{\\lambda_w(S) + \\lambda_n(S)} \\left( \\mathbf u_b + \\lambda_n(S) (\\rho_w - \\rho_n) \\mathbf K \\mathbf g \\right) \\\\\n",
      "\\mathbf u_n = \\frac{\\lambda_n(S)}{\\lambda_w(S) + \\lambda_n(S)} \\left(\\mathbf u_b + \\lambda_w(S) (\\rho_n - \\rho_w) \\mathbf K \\mathbf g \\right)\\\\\n",
      "$$\n",
      "\n",
      "The pressure solution is obtained from the total flux:\n",
      "$$\n",
      "\\mathbf u_b = \\mathbf u_w + \\mathbf u_n = \\left( \\lambda_w(S) + \\lambda_n(S) \\right) \\mathbf K (-\\nabla p) + \\left( \\lambda_w(S) \\rho_w + \\lambda_n(S) \\rho_n \\right) \\mathbf K \\mathbf g \\\\\n",
      "\\Rightarrow\n",
      "\\nabla p = -\\frac{1}{\\lambda_w(S) + \\lambda_n(S)} \\mathbf K ^{-1} \\left( \\mathbf u_b - \\left( \\lambda_w(S) \\rho_w + \\lambda_n(S) \\rho_n \\right) \\mathbf K \\mathbf g \\right)\n",
      "$$ \n",
      "Integration over the domain gives:\n",
      "$$\n",
      "p(x) - p(a) = -\\int_{a}^{x} \\frac{1}{\\lambda_w(S) + \\lambda_n(S)} \\mathbf K ^{-1} \\left( \\mathbf u_b - \\left( \\lambda_w(S) \\rho_w + \\lambda_n(S) \\rho_n \\right) \\mathbf K \\mathbf g \\right) dx\n",
      "$$\n",
      "Finally, with insertion of the pressure boundary condition, we obtain the solution of the pressure equation:\n",
      "$$\n",
      "p = p_0 - \\int_{a}^{x} \\frac{1}{\\lambda_w(S) + \\lambda_n(S)} \\mathbf K ^{-1} \\mathbf u_b - \\frac{\\lambda_w(S) \\rho_w + \\lambda_n(S) \\rho_n}{\\lambda_w(S) + \\lambda_n(S)} \\mathbf g \\; dx\n",
      "$$"
     ]
    },
    {
     "cell_type": "code",
     "collapsed": false,
     "input": [
      "def get_solution(a, b, K, Q, mu_w, mu_n, S, p_0):\n",
      "    x,y,z = symbols('x,y,z',real=True)\n",
      "\n",
      "    lambda_w = S**2 / mu_w \n",
      "    lambda_n = (1-S)**2 / mu_n\n",
      "\n",
      "    #p_sol = p_0 - Integral(Integral(sympify(q).subs({x:z}), (z,y,b)) / sympify(K * (lambda_w + lambda_n)).subs({x:y}), (y,a,x)).doit()\n",
      "    p_sol = p_0 - Integral((sympify(Q) / (K * (lambda_w + lambda_n))).subs({x:y}), (y,a,x)).doit()\n",
      "\n",
      "    u_sol = -(lambda_w + lambda_n) * (K * p_sol.diff(x)).doit()\n",
      "    \n",
      "    return p_sol, u_sol\n",
      "\n",
      "S,p_0,mu_w,mu_n = symbols('S,p_0,mu_w, mu_n',real=True,positive=True)\n",
      "x,y,a,b = symbols('x,y,a,b',real=True)\n",
      "Q = Function('Q',real=True,positive=True)(x)\n",
      "K = Function('K',real=True,positive=True)(x)\n",
      "\n",
      "p_sol, u_sol = get_solution(a, b, K, Q, mu_w, mu_n, S, p_0)\n",
      "\n",
      "print \"pressure solution:\"\n",
      "pprint(p_sol)\n",
      "\n",
      "print \"flux:\"\n",
      "pprint(u_sol.simplify())\n",
      "print \"\"\n",
      "\n",
      "#inflow [m/s] = total volume/s divided by area of inflow\n",
      "#width = 2.0 * 183.0 m\n",
      "#height = 50.81 m\n",
      "#length = 335.0 m\n",
      "#The area of inflow is then width * height\n",
      "#The total volume/s is divided by two because it emerges in two directions \n",
      "#So in total we have inflow = 0.009200654 m^3/s / 2.0 / (2.0 * 183.0 m * 50.81 m)\n",
      "\n",
      "s = 335.28\n",
      "inflow = -0.009200654 / (4.0 * 183.0 * 51.82)\n",
      "print \"width-integrated inflow*2: %.3e\" % (inflow * 4.0 * 183.0)\n",
      "\n",
      "p_test, u_test = get_solution(0.0, 335.28/s, 1.0e-15 * 5.0e1, inflow / s, 0.3e-3, 3.0e-3, 0.0, 4000.0 * 6894.75729 / (s ** 2))\n",
      "\n",
      "print \"pressure solution:\"\n",
      "pprint(p_test / 6894.75729 * (s ** 2))\n",
      "pprint(p_test.subs({x:335.0/s}) / 6894.75729 * (s ** 2))\n",
      "\n",
      "print \"flux:\"\n",
      "pprint(u_test * s)"
     ],
     "language": "python",
     "metadata": {},
     "outputs": [
      {
       "output_type": "stream",
       "stream": "stdout",
       "text": [
        "pressure solution:\n",
        "     x                           \n",
        "     \u2320                           \n",
        "     \u23ae           Q(y)            \n",
        "p\u2080 - \u23ae \u2500\u2500\u2500\u2500\u2500\u2500\u2500\u2500\u2500\u2500\u2500\u2500\u2500\u2500\u2500\u2500\u2500\u2500\u2500\u2500\u2500\u2500\u2500 dy\n",
        "     \u23ae \u239b  2            2\u239e        \n",
        "     \u23ae \u239c S     (-S + 1) \u239f        \n",
        "     \u23ae \u239c\u2500\u2500\u2500\u2500 + \u2500\u2500\u2500\u2500\u2500\u2500\u2500\u2500\u2500\u239f\u22c5K(y)   \n",
        "     \u23ae \u239dmu_w      mu_n  \u23a0        \n",
        "     \u2321                           \n",
        "     a                           \n",
        "flux:\n",
        "Q(x)\n",
        "\n",
        "width-integrated inflow*2: -1.776e-04\n",
        "pressure solution:\n",
        "707.701514036241\u22c5x + 4000.0\n",
        "4707.11049630798\n",
        "flux:\n",
        "-2.42554987525124e-7\n"
       ]
      }
     ],
     "prompt_number": 7
    },
    {
     "cell_type": "code",
     "collapsed": false,
     "input": [],
     "language": "python",
     "metadata": {},
     "outputs": [],
     "prompt_number": 7
    }
   ],
   "metadata": {}
  }
 ]
}